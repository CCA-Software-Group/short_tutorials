{
 "cells": [
  {
   "cell_type": "markdown",
   "id": "4432ae0f",
   "metadata": {
    "id": "4432ae0f"
   },
   "source": [
    "# New(er) Patterns in (Scientific) Python"
   ]
  },
  {
   "cell_type": "markdown",
   "id": "7cde5a4b",
   "metadata": {
    "id": "7cde5a4b"
   },
   "source": [
    "This isn't a tutorial on Python, but this is also a time of exciting change in the Python ecosystem and you might not be familiar with some (relatively) recent developments."
   ]
  },
  {
   "cell_type": "markdown",
   "id": "607259d9",
   "metadata": {
    "id": "607259d9"
   },
   "source": [
    "## Setup"
   ]
  },
  {
   "cell_type": "markdown",
   "id": "cc3e6afc",
   "metadata": {
    "id": "cc3e6afc"
   },
   "source": [
    "If you have an isolated Python you'd like to work in that's fine.\n",
    "If not, here's how to set up a `uv` environment, install dependencies, and connect the environment to your Jupyter."
   ]
  },
  {
   "cell_type": "markdown",
   "id": "45516dd3",
   "metadata": {
    "id": "45516dd3"
   },
   "source": [
    "1. Install `uv` @ https://docs.astral.sh/uv/#installation\n",
    "\n",
    "2. Set it up\n",
    "```bash\n",
    "uv sync\n",
    "```"
   ]
  },
  {
   "cell_type": "code",
   "execution_count": null,
   "id": "G8w83AeiNXTY",
   "metadata": {
    "id": "G8w83AeiNXTY"
   },
   "outputs": [],
   "source": []
  },
  {
   "cell_type": "markdown",
   "id": "188a660a",
   "metadata": {
    "id": "188a660a"
   },
   "source": [
    "## Type Annotations"
   ]
  },
  {
   "cell_type": "markdown",
   "id": "11618d62",
   "metadata": {
    "id": "11618d62"
   },
   "source": [
    "Type annotations provide information about your functions.\n",
    "\n",
    "They are useful for:\n",
    "\n",
    "1. Understanding a function\n",
    "2. Static analysis of that function\n",
    "3. Hooking into IDEs\n",
    "4. Catching errors\n",
    "5. compilation of your Python for speed! See [mypyc](https://mypyc.readthedocs.io/en/latest/index.html), [codon](https://docs.exaloop.io/codon), [nuitka](https://nuitka.net/pages/overview.html#now-vs-future-or-the-plan)"
   ]
  },
  {
   "cell_type": "code",
   "execution_count": 1,
   "id": "3614f1a4",
   "metadata": {
    "id": "3614f1a4"
   },
   "outputs": [],
   "source": [
    "def func(x: int) -> int:\n",
    "    return x + 1"
   ]
  },
  {
   "cell_type": "markdown",
   "id": "39845db5",
   "metadata": {
    "id": "39845db5"
   },
   "source": [
    "Type annotations are now important in many places in Python.\n",
    "For example..."
   ]
  },
  {
   "cell_type": "code",
   "execution_count": null,
   "id": "d1ae32a5",
   "metadata": {
    "id": "d1ae32a5"
   },
   "outputs": [],
   "source": []
  },
  {
   "cell_type": "markdown",
   "id": "96061c83",
   "metadata": {
    "id": "96061c83"
   },
   "source": [
    "## The Dataclass"
   ]
  },
  {
   "cell_type": "markdown",
   "id": "6203bf54",
   "metadata": {
    "id": "6203bf54"
   },
   "source": [
    "Source modified from https://docs.python.org/3/library/dataclasses.html"
   ]
  },
  {
   "cell_type": "code",
   "execution_count": 2,
   "id": "faf5a148",
   "metadata": {
    "id": "faf5a148"
   },
   "outputs": [],
   "source": [
    "from dataclasses import dataclass, KW_ONLY, field\n",
    "import astropy.units as u"
   ]
  },
  {
   "cell_type": "markdown",
   "id": "39a518f1",
   "metadata": {
    "id": "39a518f1"
   },
   "source": [
    "When should you use a dataclass? Pretty much any time you have a class\n",
    "that is defined by it's attributes.\n",
    "\n",
    "For example..."
   ]
  },
  {
   "cell_type": "code",
   "execution_count": 3,
   "id": "05407012",
   "metadata": {
    "id": "05407012"
   },
   "outputs": [],
   "source": [
    "@dataclass\n",
    "class StarCluster:\n",
    "    \"\"\"Class for average properties of a star cluster.\"\"\"\n",
    "    num_stars: int\n",
    "    radius: u.Quantity\n",
    "    velocity_dispersion: u.Quantity\n",
    "    age: u.Quantity\n",
    "\n",
    "    _: KW_ONLY\n",
    "    name: str | None = field(\n",
    "        default=None,  # name is optional, default to None\n",
    "        compare=False,  # don't use `name` in `__eq__` checks\n",
    "        hash=False  # don't use `name` in hash calculations\n",
    "    )\n",
    "\n",
    "    @property\n",
    "    def number_density(self):\n",
    "        return self.num_stars / (4/3 * 3.14159 * self.radius**3)"
   ]
  },
  {
   "cell_type": "markdown",
   "id": "c628f4bc",
   "metadata": {
    "id": "c628f4bc"
   },
   "source": [
    "Dataclass takes care of generating all the special methods: `__init__`, `__repr__`, `__eq__`, etc."
   ]
  },
  {
   "cell_type": "code",
   "execution_count": 4,
   "id": "85700de2",
   "metadata": {
    "id": "85700de2"
   },
   "outputs": [
    {
     "name": "stdout",
     "output_type": "stream",
     "text": [
      "\u001b[31mInit signature:\u001b[39m\n",
      "StarCluster(\n",
      "    num_stars: int,\n",
      "    radius: astropy.units.quantity.Quantity,\n",
      "    velocity_dispersion: astropy.units.quantity.Quantity,\n",
      "    age: astropy.units.quantity.Quantity,\n",
      "    *,\n",
      "    name: str | \u001b[38;5;28;01mNone\u001b[39;00m = \u001b[38;5;28;01mNone\u001b[39;00m,\n",
      ") -> \u001b[38;5;28;01mNone\u001b[39;00m\n",
      "\u001b[31mDocstring:\u001b[39m      Class for average properties of a star cluster.\n",
      "\u001b[31mType:\u001b[39m           type\n",
      "\u001b[31mSubclasses:\u001b[39m     "
     ]
    }
   ],
   "source": [
    "StarCluster?"
   ]
  },
  {
   "cell_type": "code",
   "execution_count": 5,
   "id": "03b4117f",
   "metadata": {
    "id": "03b4117f",
    "outputId": "f4ab4dc5-f226-47a2-dc81-380763a55937"
   },
   "outputs": [
    {
     "name": "stdout",
     "output_type": "stream",
     "text": [
      "\u001b[31mSignature:\u001b[39m StarCluster.__repr__(self)\n",
      "\u001b[31mDocstring:\u001b[39m Return repr(self).\n",
      "\u001b[31mFile:\u001b[39m      Dynamically generated function. No source code available.\n",
      "\u001b[31mType:\u001b[39m      function"
     ]
    }
   ],
   "source": [
    "StarCluster.__repr__?"
   ]
  },
  {
   "cell_type": "code",
   "execution_count": 6,
   "id": "4cc589cc",
   "metadata": {
    "id": "4cc589cc",
    "outputId": "cd75aaf2-4ad6-467b-c1f3-4034f04f5a9a"
   },
   "outputs": [
    {
     "name": "stdout",
     "output_type": "stream",
     "text": [
      "\u001b[31mSignature:\u001b[39m StarCluster.__eq__(self, other)\n",
      "\u001b[31mDocstring:\u001b[39m Return self==value.\n",
      "\u001b[31mFile:\u001b[39m      Dynamically generated function. No source code available.\n",
      "\u001b[31mType:\u001b[39m      function"
     ]
    }
   ],
   "source": [
    "StarCluster.__eq__?"
   ]
  },
  {
   "cell_type": "code",
   "execution_count": 7,
   "id": "9be9e103",
   "metadata": {
    "id": "9be9e103",
    "outputId": "3bb95cc3-a5b3-4d5c-befa-1d918bee80e3"
   },
   "outputs": [
    {
     "data": {
      "text/plain": [
       "StarCluster(num_stars=500, radius=<Quantity 100. pc>, velocity_dispersion=<Quantity 5. km / s>, age=<Quantity 12. Gyr>, name='Palomar 5')"
      ]
     },
     "execution_count": 7,
     "metadata": {},
     "output_type": "execute_result"
    }
   ],
   "source": [
    "pal5 = StarCluster(\n",
    "    num_stars=500, \n",
    "    radius=u.Quantity(100, \"pc\"),\n",
    "    velocity_dispersion=u.Quantity(5, \"km/s\"),\n",
    "    age=u.Quantity(12, \"Gyr\"), name=\"Palomar 5\"\n",
    ")\n",
    "pal5"
   ]
  },
  {
   "cell_type": "code",
   "execution_count": 8,
   "id": "5cda1e9c",
   "metadata": {
    "id": "5cda1e9c",
    "outputId": "36bb7356-615f-4013-fdea-5b757a39edea"
   },
   "outputs": [
    {
     "data": {
      "text/latex": [
       "$0.00011936631 \\; \\mathrm{\\frac{1}{pc^{3}}}$"
      ],
      "text/plain": [
       "<Quantity 0.00011937 1 / pc3>"
      ]
     },
     "execution_count": 8,
     "metadata": {},
     "output_type": "execute_result"
    }
   ],
   "source": [
    "pal5.number_density"
   ]
  },
  {
   "cell_type": "code",
   "execution_count": 9,
   "id": "ca28e6d4",
   "metadata": {
    "id": "ca28e6d4"
   },
   "outputs": [],
   "source": [
    "tuc47 = StarCluster(1000, u.Quantity(50, \"pc\"), u.Quantity(3, \"km/s\"), u.Quantity(10, \"Gyr\"), name=\"Tucana 47\")"
   ]
  },
  {
   "cell_type": "code",
   "execution_count": 10,
   "id": "3cc6845f",
   "metadata": {
    "id": "3cc6845f",
    "outputId": "88d16f12-455e-4281-bc6d-da2f86d153cb"
   },
   "outputs": [
    {
     "data": {
      "text/plain": [
       "False"
      ]
     },
     "execution_count": 10,
     "metadata": {},
     "output_type": "execute_result"
    }
   ],
   "source": [
    "tuc47 == pal5"
   ]
  },
  {
   "cell_type": "markdown",
   "id": "a755ce43",
   "metadata": {
    "id": "a755ce43"
   },
   "source": [
    "Besides convenience, dataclasses offer a few advantages:\n",
    "\n",
    "1. Consistently structured. This means that tools can easily understand and manipulate dataclasses. We don't need bespoke tooling.\n",
    "2. Statically defined.\n",
    "3. Easily introspected."
   ]
  },
  {
   "cell_type": "code",
   "execution_count": 11,
   "id": "8392931d",
   "metadata": {
    "id": "8392931d"
   },
   "outputs": [],
   "source": [
    "from dataclasses import asdict, replace, fields"
   ]
  },
  {
   "cell_type": "code",
   "execution_count": 12,
   "id": "RA-ygYQSMq2J",
   "metadata": {
    "id": "RA-ygYQSMq2J"
   },
   "outputs": [
    {
     "data": {
      "text/plain": [
       "(Field(name='num_stars',type=<class 'int'>,default=<dataclasses._MISSING_TYPE object at 0x1015ccce0>,default_factory=<dataclasses._MISSING_TYPE object at 0x1015ccce0>,init=True,repr=True,hash=None,compare=True,metadata=mappingproxy({}),kw_only=False,_field_type=_FIELD),\n",
       " Field(name='radius',type=<class 'astropy.units.quantity.Quantity'>,default=<dataclasses._MISSING_TYPE object at 0x1015ccce0>,default_factory=<dataclasses._MISSING_TYPE object at 0x1015ccce0>,init=True,repr=True,hash=None,compare=True,metadata=mappingproxy({}),kw_only=False,_field_type=_FIELD),\n",
       " Field(name='velocity_dispersion',type=<class 'astropy.units.quantity.Quantity'>,default=<dataclasses._MISSING_TYPE object at 0x1015ccce0>,default_factory=<dataclasses._MISSING_TYPE object at 0x1015ccce0>,init=True,repr=True,hash=None,compare=True,metadata=mappingproxy({}),kw_only=False,_field_type=_FIELD),\n",
       " Field(name='age',type=<class 'astropy.units.quantity.Quantity'>,default=<dataclasses._MISSING_TYPE object at 0x1015ccce0>,default_factory=<dataclasses._MISSING_TYPE object at 0x1015ccce0>,init=True,repr=True,hash=None,compare=True,metadata=mappingproxy({}),kw_only=False,_field_type=_FIELD),\n",
       " Field(name='name',type=str | None,default=None,default_factory=<dataclasses._MISSING_TYPE object at 0x1015ccce0>,init=True,repr=True,hash=False,compare=False,metadata=mappingproxy({}),kw_only=True,_field_type=_FIELD))"
      ]
     },
     "execution_count": 12,
     "metadata": {},
     "output_type": "execute_result"
    }
   ],
   "source": [
    "fields(pal5)"
   ]
  },
  {
   "cell_type": "code",
   "execution_count": 13,
   "id": "c5380ada",
   "metadata": {
    "id": "c5380ada",
    "outputId": "fd21f598-7937-4be7-889e-b3a9ab8c1f10"
   },
   "outputs": [
    {
     "data": {
      "text/plain": [
       "{'num_stars': 500,\n",
       " 'radius': <Quantity 100. pc>,\n",
       " 'velocity_dispersion': <Quantity 5. km / s>,\n",
       " 'age': <Quantity 12. Gyr>,\n",
       " 'name': 'Palomar 5'}"
      ]
     },
     "execution_count": 13,
     "metadata": {},
     "output_type": "execute_result"
    }
   ],
   "source": [
    "# With asdict, we can convert the dataclass to a dictionary!\n",
    "asdict(pal5)"
   ]
  },
  {
   "cell_type": "code",
   "execution_count": 14,
   "id": "1faa3387",
   "metadata": {
    "id": "1faa3387",
    "outputId": "c4e190d7-14cb-48fd-9176-3c1f9cf896c1"
   },
   "outputs": [
    {
     "data": {
      "text/plain": [
       "StarCluster(num_stars=100000, radius=<Quantity 100. pc>, velocity_dispersion=<Quantity 5. km / s>, age=<Quantity 12. Gyr>, name='Palomar 5')"
      ]
     },
     "execution_count": 14,
     "metadata": {},
     "output_type": "execute_result"
    }
   ],
   "source": [
    "# With replace, we can create a new instance of the dataclass with ANY fields\n",
    "# changed! Here, we change the number of stars to 100,000.\n",
    "replace(pal5, num_stars=int(1e5))"
   ]
  },
  {
   "cell_type": "code",
   "execution_count": 15,
   "id": "2a6c438a",
   "metadata": {
    "id": "2a6c438a",
    "outputId": "d7dc1949-7ed8-4fcb-8fa8-db306f434d9a"
   },
   "outputs": [
    {
     "data": {
      "text/plain": [
       "(True, False)"
      ]
     },
     "execution_count": 15,
     "metadata": {},
     "output_type": "execute_result"
    }
   ],
   "source": [
    "# Quick test of equality under replacement\n",
    "pal5 == replace(pal5), pal5 == replace(pal5, num_stars=1_000)"
   ]
  },
  {
   "cell_type": "code",
   "execution_count": null,
   "id": "7bb9b7dd",
   "metadata": {
    "id": "7bb9b7dd"
   },
   "outputs": [],
   "source": []
  },
  {
   "cell_type": "markdown",
   "id": "63d975b5",
   "metadata": {
    "id": "63d975b5"
   },
   "source": [
    "## Abstract/Final Pattern"
   ]
  },
  {
   "cell_type": "markdown",
   "id": "58dca0b6",
   "metadata": {
    "id": "58dca0b6"
   },
   "source": [
    "Adapted from https://docs.kidger.site/equinox/"
   ]
  },
  {
   "cell_type": "markdown",
   "id": "a37ba5e0",
   "metadata": {
    "id": "a37ba5e0"
   },
   "source": [
    "This is a pattern that is mandatory in Julia and has been emerging in popularity in the ML community in Python.\n",
    "\n",
    "\n",
    "It produces VERY clean and readable code and has easy to understand class inheritances.\n",
    "\n",
    "\n",
    "<div class=\"alert alert-block alert-info\">\n",
    "Every class must be either: <br>\n",
    "\n",
    "(a) abstract (it can be subclassed, but not instantiated); or <br>\n",
    "(b) final (it can be instantiated, but not subclassed).\n",
    "</div>"
   ]
  },
  {
   "cell_type": "markdown",
   "id": "7e19546d",
   "metadata": {
    "id": "7e19546d"
   },
   "source": [
    "![](figures/abstract_final.jpg)"
   ]
  },
  {
   "cell_type": "code",
   "execution_count": 16,
   "id": "d0d0c9ec",
   "metadata": {
    "id": "d0d0c9ec"
   },
   "outputs": [],
   "source": [
    "from abc import ABCMeta, abstractmethod\n",
    "from typing import final"
   ]
  },
  {
   "cell_type": "code",
   "execution_count": 17,
   "id": "2c3a46ce",
   "metadata": {
    "id": "2c3a46ce"
   },
   "outputs": [],
   "source": [
    "# This class is abstract and cannot be instantiated\n",
    "\n",
    "class AbstractClass(metaclass=ABCMeta):\n",
    "    \"\"\"Abstract base class.\"\"\"\n",
    "\n",
    "    @abstractmethod\n",
    "    def method(self):\n",
    "        pass"
   ]
  },
  {
   "cell_type": "code",
   "execution_count": 18,
   "id": "c9698be4",
   "metadata": {},
   "outputs": [],
   "source": [
    "# This class is concrete and can be instantiated\n",
    "\n",
    "@final\n",
    "class ConcreteClass(AbstractClass):\n",
    "    \"\"\"A concrete subclass of AbstractClass.\"\"\"\n",
    "\n",
    "    def method(self):\n",
    "        return \"Beautiful is better than ugly.\"\n"
   ]
  },
  {
   "cell_type": "code",
   "execution_count": 19,
   "id": "0c2f04f6",
   "metadata": {},
   "outputs": [],
   "source": [
    "# This class is abstract and cannot be instantiated.\n",
    "# But it's subclasses are concrete and can be instantiated.\n",
    "\n",
    "class AbstractSubClass(AbstractClass):\n",
    "    \"\"\"An abstract subclass of AbstractClass.\"\"\"\n",
    "\n",
    "    @abstractmethod\n",
    "    def another_method(self):\n",
    "        pass\n",
    "\n",
    "\n",
    "@final\n",
    "class ConcreteSubClass1(AbstractSubClass):\n",
    "    \"\"\"A concrete subclass of AbstractSubClass.\"\"\"\n",
    "\n",
    "    def method(self):\n",
    "        return \"Explicit is better than implicit.\"\n",
    "\n",
    "    def another_method(self):\n",
    "        return \"Simple is better than complex.\"\n",
    "\n",
    "\n",
    "@final\n",
    "class ConcreteSubClass2(AbstractSubClass):\n",
    "    \"\"\"Another concrete subclass of AbstractSubClass.\"\"\"\n",
    "\n",
    "    def method(self):\n",
    "        return \"Complex is better than complicated.\"\n",
    "\n",
    "    def another_method(self):\n",
    "        return \"Flat is better than nested.\""
   ]
  },
  {
   "cell_type": "code",
   "execution_count": 20,
   "id": "175dd8d4",
   "metadata": {
    "id": "175dd8d4",
    "outputId": "d5d13798-e6aa-4658-e717-01d1ff48e816"
   },
   "outputs": [
    {
     "data": {
      "text/plain": [
       "'Simple is better than complex.'"
      ]
     },
     "execution_count": 20,
     "metadata": {},
     "output_type": "execute_result"
    }
   ],
   "source": [
    "ConcreteSubClass1().another_method()"
   ]
  },
  {
   "cell_type": "code",
   "execution_count": null,
   "id": "1250dd08",
   "metadata": {
    "id": "1250dd08"
   },
   "outputs": [],
   "source": []
  },
  {
   "cell_type": "markdown",
   "id": "be1c8180",
   "metadata": {
    "id": "be1c8180"
   },
   "source": [
    "## Array API"
   ]
  },
  {
   "cell_type": "markdown",
   "id": "c77443ce",
   "metadata": {
    "id": "c77443ce"
   },
   "source": [
    "See https://data-apis.org/array-api/"
   ]
  },
  {
   "cell_type": "markdown",
   "id": "9558ea6e",
   "metadata": {
    "id": "9558ea6e"
   },
   "source": [
    "There's a lot to say about the Array API.\n",
    "\n",
    "Here's two:\n",
    "1. It's unifying the numerical Python API\n",
    "2. It enables a lot of interoperability"
   ]
  },
  {
   "cell_type": "markdown",
   "id": "6f2f6e40",
   "metadata": {
    "id": "6f2f6e40"
   },
   "source": [
    "<img src=\"figures/array_api.png\" width=\"600\">"
   ]
  },
  {
   "cell_type": "markdown",
   "id": "cac4b6f9",
   "metadata": {
    "id": "cac4b6f9"
   },
   "source": [
    "<img src=\"figures/array_api_scipy_support.png\" width=\"600\">"
   ]
  },
  {
   "cell_type": "markdown",
   "id": "59ac39ed",
   "metadata": {
    "id": "59ac39ed"
   },
   "source": [
    "Unifying the API does mean some function names are changing!"
   ]
  },
  {
   "cell_type": "code",
   "execution_count": 21,
   "id": "136dd156",
   "metadata": {
    "id": "136dd156",
    "outputId": "85812b67-427a-4a0d-d3eb-f8b44521318d"
   },
   "outputs": [
    {
     "data": {
      "text/plain": [
       "<function concatenate at 0x108007d70>"
      ]
     },
     "execution_count": 21,
     "metadata": {},
     "output_type": "execute_result"
    }
   ],
   "source": [
    "import numpy as np\n",
    "\n",
    "np.concat"
   ]
  },
  {
   "cell_type": "code",
   "execution_count": null,
   "id": "c52cf070",
   "metadata": {
    "id": "c52cf070"
   },
   "outputs": [],
   "source": []
  },
  {
   "cell_type": "markdown",
   "id": "040ec482",
   "metadata": {
    "id": "040ec482"
   },
   "source": [
    "# Recap"
   ]
  },
  {
   "cell_type": "markdown",
   "id": "20c62e28",
   "metadata": {
    "id": "20c62e28"
   },
   "source": [
    "1. Type Annotations\n",
    "2. Dataclasses\n",
    "3. Abstract / Final\n",
    "4. Array API"
   ]
  },
  {
   "cell_type": "code",
   "execution_count": null,
   "id": "3db2d38e",
   "metadata": {
    "id": "3db2d38e"
   },
   "outputs": [],
   "source": []
  }
 ],
 "metadata": {
  "colab": {
   "provenance": []
  },
  "kernelspec": {
   "display_name": "flatiron-presentation",
   "language": "python",
   "name": "python3"
  },
  "language_info": {
   "codemirror_mode": {
    "name": "ipython",
    "version": 3
   },
   "file_extension": ".py",
   "mimetype": "text/x-python",
   "name": "python",
   "nbconvert_exporter": "python",
   "pygments_lexer": "ipython3",
   "version": "3.12.10"
  }
 },
 "nbformat": 4,
 "nbformat_minor": 5
}
