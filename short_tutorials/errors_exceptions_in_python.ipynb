{
  "cells": [
    {
      "cell_type": "markdown",
      "metadata": {
        "id": "wKwhgBKayjNP"
      },
      "source": [
        "Access this notebook at "
      ]
    },
    {
      "cell_type": "markdown",
      "metadata": {
        "id": "3X3zJF_8Cyuh"
      },
      "source": [
        "# Errors and exceptions"
      ]
    },
    {
      "cell_type": "markdown",
      "metadata": {},
      "source": [
        "'Syntax errors' are mistakes in the grammar of Python that are checked for before code is executed.\n",
        "\n",
        "'Exceptions' are 'runtime errors' - conditions usually caused by attempting an invalid operation. \n",
        "These can be caught and handled. "
      ]
    },
    {
      "cell_type": "code",
      "execution_count": 123,
      "metadata": {},
      "outputs": [],
      "source": [
        "import numpy as np"
      ]
    },
    {
      "cell_type": "markdown",
      "metadata": {
        "id": "osR0B3RQcZMK"
      },
      "source": [
        "## Syntax errors"
      ]
    },
    {
      "cell_type": "markdown",
      "metadata": {},
      "source": [
        "For example, a missing parenthesis is a syntax error:"
      ]
    },
    {
      "cell_type": "code",
      "execution_count": 124,
      "metadata": {},
      "outputs": [
        {
          "ename": "SyntaxError",
          "evalue": "invalid syntax (1214607856.py, line 1)",
          "output_type": "error",
          "traceback": [
            "\u001b[0;36m  Cell \u001b[0;32mIn[124], line 1\u001b[0;36m\u001b[0m\n\u001b[0;31m    for x in range(10:\u001b[0m\n\u001b[0m                     ^\u001b[0m\n\u001b[0;31mSyntaxError\u001b[0m\u001b[0;31m:\u001b[0m invalid syntax\n"
          ]
        }
      ],
      "source": [
        "for x in range(10:\n",
        "    print(x)"
      ]
    },
    {
      "cell_type": "markdown",
      "metadata": {},
      "source": [
        "(Note that the carat `^` is showing us where in the line the syntax error was encountered.)"
      ]
    },
    {
      "cell_type": "markdown",
      "metadata": {},
      "source": [
        "If a coherent block of code spans multiple text lines, an arrow indicates the erroneous part:"
      ]
    },
    {
      "cell_type": "code",
      "execution_count": null,
      "metadata": {},
      "outputs": [
        {
          "ename": "NameError",
          "evalue": "name 'y' is not defined",
          "output_type": "error",
          "traceback": [
            "\u001b[0;31m---------------------------------------------------------------------------\u001b[0m",
            "\u001b[0;31mNameError\u001b[0m                                 Traceback (most recent call last)",
            "Cell \u001b[0;32mIn[12], line 3\u001b[0m\n\u001b[1;32m      1\u001b[0m \u001b[38;5;28;01mfor\u001b[39;00m x \u001b[38;5;129;01min\u001b[39;00m \u001b[38;5;28mrange\u001b[39m(\u001b[38;5;241m10\u001b[39m):\n\u001b[1;32m      2\u001b[0m     \u001b[38;5;28;01mif\u001b[39;00m x \u001b[38;5;241m<\u001b[39m \u001b[38;5;241m5\u001b[39m:\n\u001b[0;32m----> 3\u001b[0m         \u001b[38;5;28mprint\u001b[39m(x \u001b[38;5;241m+\u001b[39m \u001b[43my\u001b[49m)\n",
            "\u001b[0;31mNameError\u001b[0m: name 'y' is not defined"
          ]
        }
      ],
      "source": [
        "for x in range(10):\n",
        "    if x < 5:\n",
        "        print(x + y)"
      ]
    },
    {
      "cell_type": "markdown",
      "metadata": {},
      "source": [
        "An `IndentationError` is a common syntax error:"
      ]
    },
    {
      "cell_type": "code",
      "execution_count": null,
      "metadata": {},
      "outputs": [
        {
          "ename": "IndentationError",
          "evalue": "expected an indented block after 'for' statement on line 1 (4088911876.py, line 2)",
          "output_type": "error",
          "traceback": [
            "\u001b[0;36m  Cell \u001b[0;32mIn[14], line 2\u001b[0;36m\u001b[0m\n\u001b[0;31m    print(x)\u001b[0m\n\u001b[0m    ^\u001b[0m\n\u001b[0;31mIndentationError\u001b[0m\u001b[0;31m:\u001b[0m expected an indented block after 'for' statement on line 1\n"
          ]
        }
      ],
      "source": [
        "for x in range(10):\n",
        "print(x)"
      ]
    },
    {
      "cell_type": "markdown",
      "metadata": {},
      "source": [
        "As is use of `=` rather than `==` to check for equality:"
      ]
    },
    {
      "cell_type": "code",
      "execution_count": null,
      "metadata": {},
      "outputs": [
        {
          "ename": "SyntaxError",
          "evalue": "invalid syntax. Maybe you meant '==' or ':=' instead of '='? (842415747.py, line 2)",
          "output_type": "error",
          "traceback": [
            "\u001b[0;36m  Cell \u001b[0;32mIn[15], line 2\u001b[0;36m\u001b[0m\n\u001b[0;31m    if a = 5:\u001b[0m\n\u001b[0m       ^\u001b[0m\n\u001b[0;31mSyntaxError\u001b[0m\u001b[0;31m:\u001b[0m invalid syntax. Maybe you meant '==' or ':=' instead of '='?\n"
          ]
        }
      ],
      "source": [
        "a = 5\n",
        "if a = 5:\n",
        "    print(\"all good\")"
      ]
    },
    {
      "cell_type": "markdown",
      "metadata": {},
      "source": [
        "Misuse of a reserved keyword is a bit more subtle syntax error:"
      ]
    },
    {
      "cell_type": "code",
      "execution_count": null,
      "metadata": {},
      "outputs": [
        {
          "ename": "SyntaxError",
          "evalue": "invalid syntax (1531114956.py, line 2)",
          "output_type": "error",
          "traceback": [
            "\u001b[0;36m  Cell \u001b[0;32mIn[2], line 2\u001b[0;36m\u001b[0m\n\u001b[0;31m    for lambda in range(10):\u001b[0m\n\u001b[0m        ^\u001b[0m\n\u001b[0;31mSyntaxError\u001b[0m\u001b[0;31m:\u001b[0m invalid syntax\n"
          ]
        }
      ],
      "source": [
        "for lambda in range(10):\n",
        "    print(x)"
      ]
    },
    {
      "cell_type": "markdown",
      "metadata": {},
      "source": [
        "(`lambda` is a reserved keyword, so can't be used as a variable name. \n",
        "A variable name was expected after `for`, thus the error.)"
      ]
    },
    {
      "cell_type": "markdown",
      "metadata": {
        "id": "iJhQdkCMCamX"
      },
      "source": [
        "## Exceptions"
      ]
    },
    {
      "cell_type": "markdown",
      "metadata": {
        "id": "9SZ4k5XFb-cX"
      },
      "source": [
        "An exception is raised when a gramatically correct expression is executed and causes a\n",
        "runtime error. There are built-in exceptions, and you can also define your own.\n",
        "\n",
        "If an exception occurs within a function (which may have itself been called by another \n",
        "function or from within a class, e.g.), the error message is a 'stack traceback' - a log\n",
        "of the history of function calls leading to the error.\n",
        "\n",
        "For example:"
      ]
    },
    {
      "cell_type": "code",
      "execution_count": null,
      "metadata": {
        "colab": {
          "base_uri": "https://localhost:8080/"
        },
        "id": "DwIyxkjDb9PS",
        "outputId": "627e8767-d515-427f-d205-6d819ecd1da4"
      },
      "outputs": [
        {
          "ename": "NameError",
          "evalue": "name 'xy' is not defined",
          "output_type": "error",
          "traceback": [
            "\u001b[0;31m---------------------------------------------------------------------------\u001b[0m",
            "\u001b[0;31mNameError\u001b[0m                                 Traceback (most recent call last)",
            "Cell \u001b[0;32mIn[45], line 8\u001b[0m\n\u001b[1;32m      5\u001b[0m   z \u001b[38;5;241m=\u001b[39m root_func(x, y)\n\u001b[1;32m      6\u001b[0m   \u001b[38;5;28;01mreturn\u001b[39;00m x \u001b[38;5;241m+\u001b[39m y \u001b[38;5;241m+\u001b[39m z\n\u001b[0;32m----> 8\u001b[0m \u001b[43mfunc\u001b[49m\u001b[43m(\u001b[49m\u001b[38;5;241;43m1\u001b[39;49m\u001b[43m,\u001b[49m\u001b[43m \u001b[49m\u001b[38;5;241;43m2\u001b[39;49m\u001b[43m)\u001b[49m\n",
            "Cell \u001b[0;32mIn[45], line 5\u001b[0m, in \u001b[0;36mfunc\u001b[0;34m(x, y)\u001b[0m\n\u001b[1;32m      4\u001b[0m \u001b[38;5;28;01mdef\u001b[39;00m\u001b[38;5;250m \u001b[39m\u001b[38;5;21mfunc\u001b[39m(x, y):\n\u001b[0;32m----> 5\u001b[0m   z \u001b[38;5;241m=\u001b[39m \u001b[43mroot_func\u001b[49m\u001b[43m(\u001b[49m\u001b[43mx\u001b[49m\u001b[43m,\u001b[49m\u001b[43m \u001b[49m\u001b[43my\u001b[49m\u001b[43m)\u001b[49m\n\u001b[1;32m      6\u001b[0m   \u001b[38;5;28;01mreturn\u001b[39;00m x \u001b[38;5;241m+\u001b[39m y \u001b[38;5;241m+\u001b[39m z\n",
            "Cell \u001b[0;32mIn[45], line 2\u001b[0m, in \u001b[0;36mroot_func\u001b[0;34m(x, y)\u001b[0m\n\u001b[1;32m      1\u001b[0m \u001b[38;5;28;01mdef\u001b[39;00m\u001b[38;5;250m \u001b[39m\u001b[38;5;21mroot_func\u001b[39m(x, y):\n\u001b[0;32m----> 2\u001b[0m   \u001b[38;5;28;01mreturn\u001b[39;00m x \u001b[38;5;241m+\u001b[39m y \u001b[38;5;241m+\u001b[39m \u001b[43mxy\u001b[49m\n",
            "\u001b[0;31mNameError\u001b[0m: name 'xy' is not defined"
          ]
        }
      ],
      "source": [
        "def root_func(x, y):\n",
        "  return x + y + xy\n",
        "\n",
        "def func(x, y):\n",
        "  z = root_func(x, y)\n",
        "  return x + y + z\n",
        "\n",
        "func(1, 2)"
      ]
    },
    {
      "cell_type": "markdown",
      "metadata": {},
      "source": [
        "(Notice how the traceback sequentially moves through the chain of function calls to show the root of the error, i.e., the 'most recent call'.)"
      ]
    },
    {
      "cell_type": "markdown",
      "metadata": {},
      "source": [
        "### Common exceptions"
      ]
    },
    {
      "cell_type": "markdown",
      "metadata": {},
      "source": [
        "`IndexError` - Indexing a sequence (a list, array, string, etc.) with a subscript that's out of range:"
      ]
    },
    {
      "cell_type": "code",
      "execution_count": null,
      "metadata": {},
      "outputs": [
        {
          "ename": "IndexError",
          "evalue": "range object index out of range",
          "output_type": "error",
          "traceback": [
            "\u001b[0;31m---------------------------------------------------------------------------\u001b[0m",
            "\u001b[0;31mIndexError\u001b[0m                                Traceback (most recent call last)",
            "Cell \u001b[0;32mIn[47], line 2\u001b[0m\n\u001b[1;32m      1\u001b[0m a \u001b[38;5;241m=\u001b[39m \u001b[38;5;28mrange\u001b[39m(\u001b[38;5;241m5\u001b[39m)\n\u001b[0;32m----> 2\u001b[0m \u001b[43ma\u001b[49m\u001b[43m[\u001b[49m\u001b[38;5;241;43m5\u001b[39;49m\u001b[43m]\u001b[49m\n",
            "\u001b[0;31mIndexError\u001b[0m: range object index out of range"
          ]
        }
      ],
      "source": [
        "a = range(5)\n",
        "a[5]"
      ]
    },
    {
      "cell_type": "markdown",
      "metadata": {},
      "source": [
        "`KeyError` - Indexing a dictionary with a key that doesn't exist:"
      ]
    },
    {
      "cell_type": "code",
      "execution_count": null,
      "metadata": {},
      "outputs": [
        {
          "ename": "KeyError",
          "evalue": "1",
          "output_type": "error",
          "traceback": [
            "\u001b[0;31m---------------------------------------------------------------------------\u001b[0m",
            "\u001b[0;31mKeyError\u001b[0m                                  Traceback (most recent call last)",
            "Cell \u001b[0;32mIn[51], line 2\u001b[0m\n\u001b[1;32m      1\u001b[0m my_dictionary \u001b[38;5;241m=\u001b[39m {\u001b[38;5;124m'\u001b[39m\u001b[38;5;124ma\u001b[39m\u001b[38;5;124m'\u001b[39m: \u001b[38;5;241m1\u001b[39m, \u001b[38;5;124m'\u001b[39m\u001b[38;5;124mb\u001b[39m\u001b[38;5;124m'\u001b[39m: \u001b[38;5;241m2\u001b[39m}\n\u001b[0;32m----> 2\u001b[0m \u001b[43mmy_dictionary\u001b[49m\u001b[43m[\u001b[49m\u001b[38;5;241;43m1\u001b[39;49m\u001b[43m]\u001b[49m\n",
            "\u001b[0;31mKeyError\u001b[0m: 1"
          ]
        }
      ],
      "source": [
        "my_dictionary = {'a': 1, 'b': 2}\n",
        "my_dictionary[1]"
      ]
    },
    {
      "cell_type": "markdown",
      "metadata": {},
      "source": [
        "`NameError` - Referencing a local or global variable name that hasn't been defined:"
      ]
    },
    {
      "cell_type": "code",
      "execution_count": null,
      "metadata": {},
      "outputs": [
        {
          "ename": "NameError",
          "evalue": "name 'add' is not defined",
          "output_type": "error",
          "traceback": [
            "\u001b[0;31m---------------------------------------------------------------------------\u001b[0m",
            "\u001b[0;31mNameError\u001b[0m                                 Traceback (most recent call last)",
            "Cell \u001b[0;32mIn[48], line 5\u001b[0m\n\u001b[1;32m      2\u001b[0m   \u001b[38;5;28;01mdef\u001b[39;00m\u001b[38;5;250m \u001b[39m\u001b[38;5;21madd\u001b[39m(\u001b[38;5;28mself\u001b[39m, x, y):\n\u001b[1;32m      3\u001b[0m     \u001b[38;5;28;01mreturn\u001b[39;00m x \u001b[38;5;241m+\u001b[39m y\n\u001b[0;32m----> 5\u001b[0m \u001b[43madd\u001b[49m(\u001b[38;5;241m1\u001b[39m, \u001b[38;5;241m2\u001b[39m)\n",
            "\u001b[0;31mNameError\u001b[0m: name 'add' is not defined"
          ]
        }
      ],
      "source": [
        "class MyClass:\n",
        "  def add(self, x, y):\n",
        "    return x + y\n",
        "  \n",
        "add(1, 2)"
      ]
    },
    {
      "cell_type": "markdown",
      "metadata": {},
      "source": [
        "`TypeError` - Attempting to pass an object of the wrong type as an\n",
        "argument to an operation or function:"
      ]
    },
    {
      "cell_type": "code",
      "execution_count": null,
      "metadata": {},
      "outputs": [
        {
          "ename": "TypeError",
          "evalue": "unsupported operand type(s) for +: 'int' and 'list'",
          "output_type": "error",
          "traceback": [
            "\u001b[0;31m---------------------------------------------------------------------------\u001b[0m",
            "\u001b[0;31mTypeError\u001b[0m                                 Traceback (most recent call last)",
            "Cell \u001b[0;32mIn[55], line 1\u001b[0m\n\u001b[0;32m----> 1\u001b[0m \u001b[38;5;241;43m1\u001b[39;49m\u001b[43m \u001b[49m\u001b[38;5;241;43m+\u001b[39;49m\u001b[43m \u001b[49m\u001b[38;5;28;43mlist\u001b[39;49m\u001b[43m(\u001b[49m\u001b[43m[\u001b[49m\u001b[38;5;241;43m2\u001b[39;49m\u001b[43m]\u001b[49m\u001b[43m)\u001b[49m\n",
            "\u001b[0;31mTypeError\u001b[0m: unsupported operand type(s) for +: 'int' and 'list'"
          ]
        }
      ],
      "source": [
        "1 + list([2])"
      ]
    },
    {
      "cell_type": "markdown",
      "metadata": {},
      "source": [
        "`ValueError` - Attempting to pass an object of the right type but with an\n",
        "incompatible value as an argument to an operation or function:\n"
      ]
    },
    {
      "cell_type": "code",
      "execution_count": null,
      "metadata": {},
      "outputs": [
        {
          "name": "stdout",
          "output_type": "stream",
          "text": [
            "5.0\n"
          ]
        },
        {
          "ename": "ValueError",
          "evalue": "could not convert string to float: 'abc'",
          "output_type": "error",
          "traceback": [
            "\u001b[0;31m---------------------------------------------------------------------------\u001b[0m",
            "\u001b[0;31mValueError\u001b[0m                                Traceback (most recent call last)",
            "Cell \u001b[0;32mIn[64], line 3\u001b[0m\n\u001b[1;32m      1\u001b[0m \u001b[38;5;28mprint\u001b[39m(\u001b[38;5;28mfloat\u001b[39m(\u001b[38;5;124m'\u001b[39m\u001b[38;5;124m5\u001b[39m\u001b[38;5;124m'\u001b[39m))\n\u001b[0;32m----> 3\u001b[0m \u001b[38;5;28;43mfloat\u001b[39;49m\u001b[43m(\u001b[49m\u001b[38;5;124;43m'\u001b[39;49m\u001b[38;5;124;43mabc\u001b[39;49m\u001b[38;5;124;43m'\u001b[39;49m\u001b[43m)\u001b[49m\n",
            "\u001b[0;31mValueError\u001b[0m: could not convert string to float: 'abc'"
          ]
        }
      ],
      "source": [
        "print(float('5'))\n",
        "\n",
        "float('abc')\n"
      ]
    },
    {
      "cell_type": "markdown",
      "metadata": {},
      "source": [
        "(The 'float' function can take a string to convert to a float, so it can conver the string '5'. But it \n",
        "doesn't know how to convert non-numerical values to a float.)"
      ]
    },
    {
      "cell_type": "markdown",
      "metadata": {},
      "source": [
        "### Handling exceptions"
      ]
    },
    {
      "cell_type": "markdown",
      "metadata": {},
      "source": [
        "To catch an exception, write code within a `try:` clause and handle any exceptions raised in an `except:` clause:"
      ]
    },
    {
      "cell_type": "code",
      "execution_count": null,
      "metadata": {},
      "outputs": [
        {
          "name": "stdout",
          "output_type": "stream",
          "text": [
            "division by zero: x[0] is 0 - skipping\n",
            "[1.0, 0.5, 0.3333333333333333, 0.25, 0.2, 0.16666666666666666, 0.14285714285714285, 0.125, 0.1111111111111111]\n"
          ]
        }
      ],
      "source": [
        "def inv(x):\n",
        "    inv_list = []\n",
        "    for i,j in enumerate(x):\n",
        "        try: \n",
        "            inv_list.append(1 / j)\n",
        "        except ZeroDivisionError as err:\n",
        "            print(f\"{err}: x[{i}] is 0 - skipping\")\n",
        "\n",
        "    print(inv_list)\n",
        "\n",
        "inv(range(10))"
      ]
    },
    {
      "cell_type": "markdown",
      "metadata": {},
      "source": [
        "Note that if any exception besides a `ZeroDivisionError` is raised, it won't be caught. \n",
        "We can handle multiple exceptions in a single `except` statement:"
      ]
    },
    {
      "cell_type": "code",
      "execution_count": null,
      "metadata": {},
      "outputs": [
        {
          "name": "stdout",
          "output_type": "stream",
          "text": [
            "division by zero: x[2]\n",
            "unsupported operand type(s) for /: 'int' and 'str': x[3]\n",
            "[1.0, 0.5, 0.3333333333333333]\n"
          ]
        }
      ],
      "source": [
        "def inv(x):\n",
        "    inv_list = []\n",
        "    for i,j in enumerate(x):\n",
        "        try: \n",
        "            inv_list.append(1 / j)\n",
        "        except (ZeroDivisionError, TypeError) as err:\n",
        "            print(f\"{err}: x[{i}]\")\n",
        "\n",
        "    print(inv_list)\n",
        "\n",
        "x = [1, 2, 0, 'a', 3]\n",
        "inv(x)"
      ]
    },
    {
      "cell_type": "markdown",
      "metadata": {},
      "source": [
        "...or we can have multiple `except` statements:"
      ]
    },
    {
      "cell_type": "code",
      "execution_count": null,
      "metadata": {},
      "outputs": [
        {
          "name": "stdout",
          "output_type": "stream",
          "text": [
            "division by zero: x[2]\n",
            "unsupported operand type(s) for /: 'int' and 'str': x[3] has the value a\n",
            "[1.0, 0.5, 0.3333333333333333]\n"
          ]
        }
      ],
      "source": [
        "def inv(x):\n",
        "    inv_list = []\n",
        "    for i,j in enumerate(x):\n",
        "        try: \n",
        "            inv_list.append(1 / j)\n",
        "        except ZeroDivisionError as err:\n",
        "            print(f\"{err}: x[{i}]\")\n",
        "        except TypeError as err:\n",
        "            print(f\"{err}: x[{i}] has the value {j}\")\n",
        "            \n",
        "    print(inv_list)\n",
        "\n",
        "x = [1, 2, 0, 'a', 3]\n",
        "inv(x)"
      ]
    },
    {
      "cell_type": "markdown",
      "metadata": {},
      "source": [
        "Don't handle exceptions like the following:"
      ]
    },
    {
      "cell_type": "code",
      "execution_count": null,
      "metadata": {},
      "outputs": [],
      "source": [
        "try:\n",
        "    1 / 0\n",
        "except:\n",
        "    pass"
      ]
    },
    {
      "cell_type": "markdown",
      "metadata": {},
      "source": [
        "This executes everything in the try block and ignores _any_ exceptions raised. It can\n",
        "make code hard to debug, as errors are silently supressed. Instead of this, always catch specific \n",
        "exceptions and handle them appropriately."
      ]
    },
    {
      "cell_type": "markdown",
      "metadata": {},
      "source": [
        "### Raising exceptions via a custom condition"
      ]
    },
    {
      "cell_type": "markdown",
      "metadata": {},
      "source": [
        "Use `raise` to evoke an exception when a condition you choose occurs:"
      ]
    },
    {
      "cell_type": "code",
      "execution_count": null,
      "metadata": {},
      "outputs": [
        {
          "ename": "ValueError",
          "evalue": "Negative flux value -0.76432315747285 at index 50",
          "output_type": "error",
          "traceback": [
            "\u001b[0;31m---------------------------------------------------------------------------\u001b[0m",
            "\u001b[0;31mValueError\u001b[0m                                Traceback (most recent call last)",
            "Cell \u001b[0;32mIn[117], line 6\u001b[0m\n\u001b[1;32m      4\u001b[0m \u001b[38;5;28;01mfor\u001b[39;00m i,f \u001b[38;5;129;01min\u001b[39;00m \u001b[38;5;28menumerate\u001b[39m(fluxes):\n\u001b[1;32m      5\u001b[0m     \u001b[38;5;28;01mif\u001b[39;00m f \u001b[38;5;241m<\u001b[39m \u001b[38;5;241m0\u001b[39m:\n\u001b[0;32m----> 6\u001b[0m         \u001b[38;5;28;01mraise\u001b[39;00m \u001b[38;5;167;01mValueError\u001b[39;00m(\u001b[38;5;124mf\u001b[39m\u001b[38;5;124m\"\u001b[39m\u001b[38;5;124mNegative flux value \u001b[39m\u001b[38;5;132;01m{\u001b[39;00mf\u001b[38;5;132;01m}\u001b[39;00m\u001b[38;5;124m at index \u001b[39m\u001b[38;5;132;01m{\u001b[39;00mi\u001b[38;5;132;01m}\u001b[39;00m\u001b[38;5;124m\"\u001b[39m)\n",
            "\u001b[0;31mValueError\u001b[0m: Negative flux value -0.76432315747285 at index 50"
          ]
        }
      ],
      "source": [
        "fluxes = np.random.rand(1000)\n",
        "fluxes[50] -= 1\n",
        "\n",
        "for i,f in enumerate(fluxes):\n",
        "    if f < 0:\n",
        "        raise ValueError(f\"Negative flux value {f} at index {i}\")"
      ]
    },
    {
      "cell_type": "markdown",
      "metadata": {},
      "source": [
        "You can also use `assert` to evaluate a conditional expression and raise an `AssertionError` if the is not `True`:"
      ]
    },
    {
      "cell_type": "code",
      "execution_count": null,
      "metadata": {},
      "outputs": [
        {
          "ename": "AssertionError",
          "evalue": "Negative flux value -0.76432315747285 at index 50",
          "output_type": "error",
          "traceback": [
            "\u001b[0;31m---------------------------------------------------------------------------\u001b[0m",
            "\u001b[0;31mAssertionError\u001b[0m                            Traceback (most recent call last)",
            "Cell \u001b[0;32mIn[121], line 2\u001b[0m\n\u001b[1;32m      1\u001b[0m \u001b[38;5;28;01mfor\u001b[39;00m i,f \u001b[38;5;129;01min\u001b[39;00m \u001b[38;5;28menumerate\u001b[39m(fluxes):\n\u001b[0;32m----> 2\u001b[0m     \u001b[38;5;28;01massert\u001b[39;00m f \u001b[38;5;241m>\u001b[39m\u001b[38;5;241m=\u001b[39m \u001b[38;5;241m0\u001b[39m, \u001b[38;5;124mf\u001b[39m\u001b[38;5;124m\"\u001b[39m\u001b[38;5;124mNegative flux value \u001b[39m\u001b[38;5;132;01m{\u001b[39;00mf\u001b[38;5;132;01m}\u001b[39;00m\u001b[38;5;124m at index \u001b[39m\u001b[38;5;132;01m{\u001b[39;00mi\u001b[38;5;132;01m}\u001b[39;00m\u001b[38;5;124m\"\u001b[39m\n",
            "\u001b[0;31mAssertionError\u001b[0m: Negative flux value -0.76432315747285 at index 50"
          ]
        }
      ],
      "source": [
        "for i,f in enumerate(fluxes):\n",
        "    assert f >= 0, f\"Negative flux value {f} at index {i}\""
      ]
    },
    {
      "cell_type": "markdown",
      "metadata": {},
      "source": [
        " `assert` is often used to check the type or some other aspect of an input to a function:"
      ]
    },
    {
      "cell_type": "code",
      "execution_count": null,
      "metadata": {},
      "outputs": [
        {
          "name": "stdout",
          "output_type": "stream",
          "text": [
            "[-3, 6, -3]\n"
          ]
        },
        {
          "ename": "AssertionError",
          "evalue": "Vectors a, b must be three-dimensional",
          "output_type": "error",
          "traceback": [
            "\u001b[0;31m---------------------------------------------------------------------------\u001b[0m",
            "\u001b[0;31mAssertionError\u001b[0m                            Traceback (most recent call last)",
            "Cell \u001b[0;32mIn[122], line 10\u001b[0m\n\u001b[1;32m      3\u001b[0m     \u001b[38;5;28;01mreturn\u001b[39;00m [a[\u001b[38;5;241m1\u001b[39m]\u001b[38;5;241m*\u001b[39mb[\u001b[38;5;241m2\u001b[39m] \u001b[38;5;241m-\u001b[39m a[\u001b[38;5;241m2\u001b[39m]\u001b[38;5;241m*\u001b[39mb[\u001b[38;5;241m1\u001b[39m], \\\n\u001b[1;32m      4\u001b[0m             a[\u001b[38;5;241m2\u001b[39m]\u001b[38;5;241m*\u001b[39mb[\u001b[38;5;241m0\u001b[39m] \u001b[38;5;241m-\u001b[39m a[\u001b[38;5;241m0\u001b[39m]\u001b[38;5;241m*\u001b[39mb[\u001b[38;5;241m2\u001b[39m], \\\n\u001b[1;32m      5\u001b[0m             a[\u001b[38;5;241m0\u001b[39m]\u001b[38;5;241m*\u001b[39mb[\u001b[38;5;241m1\u001b[39m] \u001b[38;5;241m-\u001b[39m a[\u001b[38;5;241m1\u001b[39m]\u001b[38;5;241m*\u001b[39mb[\u001b[38;5;241m0\u001b[39m]\n\u001b[1;32m      6\u001b[0m             ]\n\u001b[1;32m      8\u001b[0m \u001b[38;5;28mprint\u001b[39m(cross_product([\u001b[38;5;241m1\u001b[39m,\u001b[38;5;241m2\u001b[39m,\u001b[38;5;241m3\u001b[39m], [\u001b[38;5;241m4\u001b[39m,\u001b[38;5;241m5\u001b[39m,\u001b[38;5;241m6\u001b[39m]))\n\u001b[0;32m---> 10\u001b[0m \u001b[43mcross_product\u001b[49m\u001b[43m(\u001b[49m\u001b[43m[\u001b[49m\u001b[38;5;241;43m1\u001b[39;49m\u001b[43m,\u001b[49m\u001b[38;5;241;43m2\u001b[39;49m\u001b[43m,\u001b[49m\u001b[38;5;241;43m3\u001b[39;49m\u001b[43m]\u001b[49m\u001b[43m,\u001b[49m\u001b[43m \u001b[49m\u001b[43m[\u001b[49m\u001b[38;5;241;43m4\u001b[39;49m\u001b[43m,\u001b[49m\u001b[38;5;241;43m5\u001b[39;49m\u001b[43m]\u001b[49m\u001b[43m)\u001b[49m\n",
            "Cell \u001b[0;32mIn[122], line 2\u001b[0m, in \u001b[0;36mcross_product\u001b[0;34m(a, b)\u001b[0m\n\u001b[1;32m      1\u001b[0m \u001b[38;5;28;01mdef\u001b[39;00m\u001b[38;5;250m \u001b[39m\u001b[38;5;21mcross_product\u001b[39m(a, b):\n\u001b[0;32m----> 2\u001b[0m     \u001b[38;5;28;01massert\u001b[39;00m \u001b[38;5;28mlen\u001b[39m(a) \u001b[38;5;241m==\u001b[39m \u001b[38;5;28mlen\u001b[39m(b) \u001b[38;5;241m==\u001b[39m \u001b[38;5;241m3\u001b[39m, \u001b[38;5;124m\"\u001b[39m\u001b[38;5;124mVectors a, b must be three-dimensional\u001b[39m\u001b[38;5;124m\"\u001b[39m\n\u001b[1;32m      3\u001b[0m     \u001b[38;5;28;01mreturn\u001b[39;00m [a[\u001b[38;5;241m1\u001b[39m]\u001b[38;5;241m*\u001b[39mb[\u001b[38;5;241m2\u001b[39m] \u001b[38;5;241m-\u001b[39m a[\u001b[38;5;241m2\u001b[39m]\u001b[38;5;241m*\u001b[39mb[\u001b[38;5;241m1\u001b[39m], \\\n\u001b[1;32m      4\u001b[0m             a[\u001b[38;5;241m2\u001b[39m]\u001b[38;5;241m*\u001b[39mb[\u001b[38;5;241m0\u001b[39m] \u001b[38;5;241m-\u001b[39m a[\u001b[38;5;241m0\u001b[39m]\u001b[38;5;241m*\u001b[39mb[\u001b[38;5;241m2\u001b[39m], \\\n\u001b[1;32m      5\u001b[0m             a[\u001b[38;5;241m0\u001b[39m]\u001b[38;5;241m*\u001b[39mb[\u001b[38;5;241m1\u001b[39m] \u001b[38;5;241m-\u001b[39m a[\u001b[38;5;241m1\u001b[39m]\u001b[38;5;241m*\u001b[39mb[\u001b[38;5;241m0\u001b[39m]\n\u001b[1;32m      6\u001b[0m             ]\n",
            "\u001b[0;31mAssertionError\u001b[0m: Vectors a, b must be three-dimensional"
          ]
        }
      ],
      "source": [
        "def cross_product(a, b):\n",
        "    assert len(a) == len(b) == 3, \"Vectors a, b must be three-dimensional\"\n",
        "    return [a[1]*b[2] - a[2]*b[1], \\\n",
        "            a[2]*b[0] - a[0]*b[2], \\\n",
        "            a[0]*b[1] - a[1]*b[0]\n",
        "            ]\n",
        "\n",
        "print(cross_product([1,2,3], [4,5,6]))\n",
        "\n",
        "cross_product([1,2,3], [4,5])"
      ]
    },
    {
      "cell_type": "markdown",
      "metadata": {},
      "source": [
        "When writing a custom exception, it's always good to check that the condition behaves as you expect with a quick sanity check. For example:"
      ]
    },
    {
      "cell_type": "code",
      "execution_count": 128,
      "metadata": {},
      "outputs": [
        {
          "name": "stdout",
          "output_type": "stream",
          "text": [
            "nan\n"
          ]
        },
        {
          "data": {
            "text/plain": [
              "False"
            ]
          },
          "execution_count": 128,
          "metadata": {},
          "output_type": "execute_result"
        }
      ],
      "source": [
        "a = np.nan\n",
        "print(a)\n",
        "\n",
        "a == np.nan"
      ]
    },
    {
      "cell_type": "markdown",
      "metadata": {},
      "source": [
        "(`np.nan` is not equal to anything, not even itself! So if you had an input dataset and wanted to skip NaN values, this check would remind you not to raise an exception using `if x == np.nan: ...`. Instead in this case use `np.isnan`:)"
      ]
    },
    {
      "cell_type": "code",
      "execution_count": 132,
      "metadata": {},
      "outputs": [
        {
          "data": {
            "text/plain": [
              "array([False, False,  True])"
            ]
          },
          "execution_count": 132,
          "metadata": {},
          "output_type": "execute_result"
        }
      ],
      "source": [
        "np.isnan([1,2,a])"
      ]
    }
  ],
  "metadata": {
    "colab": {
      "provenance": []
    },
    "kernelspec": {
      "display_name": "Python 3",
      "name": "python3"
    },
    "language_info": {
      "codemirror_mode": {
        "name": "ipython",
        "version": 3
      },
      "file_extension": ".py",
      "mimetype": "text/x-python",
      "name": "python",
      "nbconvert_exporter": "python",
      "pygments_lexer": "ipython3",
      "version": "3.13.2"
    }
  },
  "nbformat": 4,
  "nbformat_minor": 0
}
