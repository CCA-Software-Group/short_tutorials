{
  "cells": [
    {
      "cell_type": "markdown",
      "source": [
        "Author: Adam Wheeler (CCA, awheeler@simonsfoundation.org)"
      ],
      "metadata": {
        "id": "GCDUzmhAFnoC"
      },
      "id": "GCDUzmhAFnoC"
    },
    {
      "cell_type": "code",
      "execution_count": null,
      "id": "17642e01-f0ce-49c5-845f-71f60b431664",
      "metadata": {
        "execution": {
          "iopub.execute_input": "2025-04-08T14:20:56.141Z",
          "iopub.status.busy": "2025-04-08T14:20:56.141Z",
          "iopub.status.idle": "2025-04-08T14:20:56.147Z",
          "shell.execute_reply": "2025-04-08T14:20:56.147Z"
        },
        "id": "17642e01-f0ce-49c5-845f-71f60b431664"
      },
      "outputs": [],
      "source": [
        "using LinearAlgebra, Random"
      ]
    },
    {
      "cell_type": "markdown",
      "id": "e050f00d-d110-4be9-9f60-3d01dc72fc36",
      "metadata": {
        "id": "e050f00d-d110-4be9-9f60-3d01dc72fc36"
      },
      "source": [
        "### just-in-time compilation and performance"
      ]
    },
    {
      "cell_type": "code",
      "execution_count": null,
      "id": "fb46e002-170b-458c-901f-26415c32abda",
      "metadata": {
        "execution": {
          "iopub.execute_input": "2025-04-08T14:20:56.147Z",
          "iopub.status.busy": "2025-04-08T14:20:56.147Z",
          "iopub.status.idle": "2025-04-08T14:20:56.149Z",
          "shell.execute_reply": "2025-04-08T14:20:56.149Z"
        },
        "id": "fb46e002-170b-458c-901f-26415c32abda"
      },
      "outputs": [],
      "source": [
        "a = rand(1000000)"
      ]
    },
    {
      "cell_type": "code",
      "execution_count": null,
      "id": "503a385b-86aa-46b7-8237-115a99d644db",
      "metadata": {
        "execution": {
          "iopub.execute_input": "2025-04-08T14:20:56.239Z",
          "iopub.status.busy": "2025-04-08T14:20:56.239Z",
          "iopub.status.idle": "2025-04-08T14:20:56.346Z",
          "shell.execute_reply": "2025-04-08T14:20:56.346Z"
        },
        "id": "503a385b-86aa-46b7-8237-115a99d644db"
      },
      "outputs": [],
      "source": [
        "@time sum(a)"
      ]
    },
    {
      "cell_type": "code",
      "execution_count": null,
      "id": "d1b94bca-c5d2-46fc-b54e-5d96bd58e132",
      "metadata": {
        "execution": {
          "iopub.execute_input": "2025-04-08T14:20:56.807Z",
          "iopub.status.busy": "2025-04-08T14:20:56.807Z",
          "iopub.status.idle": "2025-04-08T14:20:56.902Z",
          "shell.execute_reply": "2025-04-08T14:20:56.902Z"
        },
        "id": "d1b94bca-c5d2-46fc-b54e-5d96bd58e132"
      },
      "outputs": [],
      "source": [
        "function mysum(a)\n",
        "    s = 0.0\n",
        "    for x in a\n",
        "        s += x\n",
        "    end\n",
        "    s\n",
        "end"
      ]
    },
    {
      "cell_type": "code",
      "execution_count": null,
      "id": "79a73454-23ce-4379-a8d2-a11fdaaf6275",
      "metadata": {
        "execution": {
          "iopub.execute_input": "2025-04-08T14:20:57.146Z",
          "iopub.status.busy": "2025-04-08T14:20:57.146Z",
          "iopub.status.idle": "2025-04-08T14:20:57.196Z",
          "shell.execute_reply": "2025-04-08T14:20:57.195Z"
        },
        "id": "79a73454-23ce-4379-a8d2-a11fdaaf6275"
      },
      "outputs": [],
      "source": [
        "@time mysum(a)"
      ]
    },
    {
      "cell_type": "markdown",
      "id": "8f4c2534-0928-46c4-81f4-0e44386935ea",
      "metadata": {
        "id": "8f4c2534-0928-46c4-81f4-0e44386935ea"
      },
      "source": [
        "### multiple dispatch"
      ]
    },
    {
      "cell_type": "code",
      "execution_count": null,
      "id": "c8298cb6-3739-49ac-9484-14f6adaea254",
      "metadata": {
        "execution": {
          "iopub.execute_input": "2025-04-08T14:20:58.319Z",
          "iopub.status.busy": "2025-04-08T14:20:58.319Z",
          "iopub.status.idle": "2025-04-08T14:20:58.339Z",
          "shell.execute_reply": "2025-04-08T14:20:58.339Z"
        },
        "id": "c8298cb6-3739-49ac-9484-14f6adaea254"
      },
      "outputs": [],
      "source": [
        "# Define a single function with multiple methods\n",
        "\n",
        "function process(x)\n",
        "    # \"$\" is for string interpolation\n",
        "    println(\"Default method: argument is of type $(typeof(x))\")\n",
        "end\n",
        "\n",
        "# Add specialized methods for different types\n",
        "function process(x::Int)\n",
        "    println(\"Integer method: $x squared is $(x^2)\")\n",
        "end\n",
        "\n",
        "# this is also a valid way to write a function\n",
        "process(x::String) = println(\"String method: $(length(x)) characters, uppercase: $(uppercase(x))\")\n",
        "\n",
        "function process(x::Array)\n",
        "    # TODO Print the length and sum.\n",
        "end"
      ]
    },
    {
      "cell_type": "code",
      "execution_count": null,
      "id": "f14fb625-f88a-496e-a288-62e04a5b6198",
      "metadata": {
        "execution": {
          "iopub.execute_input": "2025-04-08T14:21:00.628Z",
          "iopub.status.busy": "2025-04-08T14:21:00.627Z",
          "iopub.status.idle": "2025-04-08T14:21:00.633Z",
          "shell.execute_reply": "2025-04-08T14:21:00.633Z"
        },
        "id": "f14fb625-f88a-496e-a288-62e04a5b6198"
      },
      "outputs": [],
      "source": [
        "# try these out!"
      ]
    },
    {
      "cell_type": "markdown",
      "id": "c256ce57-4a85-4cfb-8b33-36f61f55c487",
      "metadata": {
        "id": "c256ce57-4a85-4cfb-8b33-36f61f55c487"
      },
      "source": [
        "### Custom type + multiple dispatch"
      ]
    },
    {
      "cell_type": "code",
      "execution_count": null,
      "id": "c3649948-ff2a-4675-8a48-672374522ff4",
      "metadata": {
        "execution": {
          "iopub.execute_input": "2025-04-08T14:21:23.546Z",
          "iopub.status.busy": "2025-04-08T14:21:23.545Z",
          "iopub.status.idle": "2025-04-08T14:21:23.553Z",
          "shell.execute_reply": "2025-04-08T14:21:23.552Z"
        },
        "id": "c3649948-ff2a-4675-8a48-672374522ff4"
      },
      "outputs": [],
      "source": [
        "# Define a simple complex number type\n",
        "# don't actually do this! There's a built-in one.\n",
        "struct MyComplex\n",
        "    real_component::Float64\n",
        "    imag_component::Float64\n",
        "end\n",
        "\n",
        "# Nice string representation\n",
        "function Base.show(io::IO, z::MyComplex)\n",
        "    if z.imag_component >= 0\n",
        "        print(io, \"$(z.real_component) + $(z.imag_component)i\")\n",
        "    else\n",
        "        print(io, \"$(z.real_component) - $(abs(z.imag_component))i\")\n",
        "    end\n",
        "end"
      ]
    },
    {
      "cell_type": "code",
      "execution_count": null,
      "id": "03520e29-222d-4316-906a-9bf56de599d1",
      "metadata": {
        "execution": {
          "iopub.execute_input": "2025-04-08T14:21:24.414Z",
          "iopub.status.busy": "2025-04-08T14:21:24.414Z",
          "iopub.status.idle": "2025-04-08T14:21:24.5Z",
          "shell.execute_reply": "2025-04-08T14:21:24.5Z"
        },
        "id": "03520e29-222d-4316-906a-9bf56de599d1"
      },
      "outputs": [],
      "source": [
        "# try creating a MyComplex\n",
        "MyComplex(1, 2)"
      ]
    },
    {
      "cell_type": "code",
      "execution_count": null,
      "id": "9a2ff0b9-8968-4e72-9bb0-ed1fa071b5db",
      "metadata": {
        "execution": {
          "iopub.execute_input": "2025-04-08T14:23:13.928Z",
          "iopub.status.busy": "2025-04-08T14:23:13.928Z",
          "iopub.status.idle": "2025-04-08T14:23:13.937Z",
          "shell.execute_reply": "2025-04-08T14:23:13.937Z"
        },
        "id": "9a2ff0b9-8968-4e72-9bb0-ed1fa071b5db"
      },
      "outputs": [],
      "source": [
        "# define a couple arithmetic operations\n",
        "\n",
        "# we have to import these to override them\n",
        "import Base: +, *\n",
        "\n",
        "function +(a::MyComplex, b::MyComplex)\n",
        "    MyComplex(a.real_component + b.real_component, a.imag_component + b.imag_component)\n",
        "end\n",
        "# \"Real\" is an abstract type that includes floats, rationals, etc.\n",
        "+(a::MyComplex, b::Real) = MyComplex(a.real_component + b, a.imag_component)\n",
        "+(a::Real, b::MyComplex) = b + a\n",
        "\n",
        "function *(a::MyComplex, b::MyComplex)\n",
        "    real_part = a.real_component * b.real_component - a.imag_component * b.imag_component\n",
        "    imag_part = a.real_component * b.imag_component + a.imag_component * b.real_component\n",
        "    MyComplex(real_part, imag_part)\n",
        "end\n",
        "*(a::MyComplex, b::Real) = MyComplex(a.real_component * b, a.imag_component * b)\n",
        "*(a::Real, b::MyComplex) = b * a\n",
        ";"
      ]
    },
    {
      "cell_type": "code",
      "execution_count": null,
      "id": "8386e4cf-facd-4baa-9deb-6c50cf34c542",
      "metadata": {
        "execution": {
          "iopub.execute_input": "2025-04-08T14:23:28.418Z",
          "iopub.status.busy": "2025-04-08T14:23:28.418Z",
          "iopub.status.idle": "2025-04-08T14:23:28.422Z",
          "shell.execute_reply": "2025-04-08T14:23:28.421Z"
        },
        "id": "8386e4cf-facd-4baa-9deb-6c50cf34c542"
      },
      "outputs": [],
      "source": [
        "# try it out\n",
        "z1 = MyComplex(3.0, 4.0)\n",
        "z2 = MyComplex(1.0, 2.0)\n",
        "r = 2.0\n",
        "\n",
        "z1 + r"
      ]
    },
    {
      "cell_type": "code",
      "execution_count": null,
      "id": "ec6f4c39-d7ae-454f-80f9-1adc28da30bd",
      "metadata": {
        "execution": {
          "iopub.execute_input": "2025-04-08T14:24:31.046Z",
          "iopub.status.busy": "2025-04-08T14:24:31.046Z",
          "iopub.status.idle": "2025-04-08T14:24:31.047Z",
          "shell.execute_reply": "2025-04-08T14:24:31.047Z"
        },
        "id": "ec6f4c39-d7ae-454f-80f9-1adc28da30bd"
      },
      "outputs": [],
      "source": [
        "# this is a silly example, but this is really powerful for, e.g. dual numbers, unitful types, etc."
      ]
    },
    {
      "cell_type": "markdown",
      "id": "2ecf9887-ab50-4e9c-92f5-e618673572db",
      "metadata": {
        "id": "2ecf9887-ab50-4e9c-92f5-e618673572db"
      },
      "source": [
        "### basic linear algebra and broadcasting (\"vectorization\")"
      ]
    },
    {
      "cell_type": "code",
      "execution_count": null,
      "id": "ebb8ba78-07a3-4e0c-9b8c-32283ef53d58",
      "metadata": {
        "execution": {
          "iopub.execute_input": "2025-04-08T14:25:18.92Z",
          "iopub.status.busy": "2025-04-08T14:25:18.92Z",
          "iopub.status.idle": "2025-04-08T14:25:18.928Z",
          "shell.execute_reply": "2025-04-08T14:25:18.927Z"
        },
        "id": "ebb8ba78-07a3-4e0c-9b8c-32283ef53d58"
      },
      "outputs": [],
      "source": [
        "# Define matrices and vectors with clean syntax\n",
        "A = [1 2\n",
        "     3 4]\n",
        "B = [5 6; 7 8] # 2×2 matrix\n",
        "v = [1, 2] # column vector\n",
        "w = [3, 4]' # row vector\n",
        ";"
      ]
    },
    {
      "cell_type": "code",
      "execution_count": null,
      "id": "af010215-abad-436a-a366-b71508083f6a",
      "metadata": {
        "execution": {
          "iopub.execute_input": "2025-04-08T14:25:28.467Z",
          "iopub.status.busy": "2025-04-08T14:25:28.466Z",
          "iopub.status.idle": "2025-04-08T14:25:28.47Z",
          "shell.execute_reply": "2025-04-08T14:25:28.47Z"
        },
        "id": "af010215-abad-436a-a366-b71508083f6a"
      },
      "outputs": [],
      "source": [
        "A"
      ]
    },
    {
      "cell_type": "code",
      "execution_count": null,
      "id": "50a7344c-9950-475f-af55-23787c1e9deb",
      "metadata": {
        "execution": {
          "iopub.execute_input": "2025-04-08T14:28:15.902Z",
          "iopub.status.busy": "2025-04-08T14:28:15.902Z",
          "iopub.status.idle": "2025-04-08T14:28:16.06Z",
          "shell.execute_reply": "2025-04-08T14:28:16.06Z"
        },
        "id": "50a7344c-9950-475f-af55-23787c1e9deb"
      },
      "outputs": [],
      "source": [
        "A' # adjoint (~transpose)"
      ]
    },
    {
      "cell_type": "code",
      "execution_count": null,
      "id": "973b1b2f-20b6-4dbe-8b42-2c7bcd265699",
      "metadata": {
        "execution": {
          "iopub.execute_input": "2025-04-08T14:25:48.664Z",
          "iopub.status.busy": "2025-04-08T14:25:48.664Z",
          "iopub.status.idle": "2025-04-08T14:25:48.792Z",
          "shell.execute_reply": "2025-04-08T14:25:48.792Z"
        },
        "id": "973b1b2f-20b6-4dbe-8b42-2c7bcd265699"
      },
      "outputs": [],
      "source": [
        "# matrix addition\n",
        "A + B"
      ]
    },
    {
      "cell_type": "code",
      "execution_count": null,
      "id": "091ab9ca-e975-4ca7-8879-5b91d062a7bc",
      "metadata": {
        "execution": {
          "iopub.execute_input": "2025-04-08T14:26:10.012Z",
          "iopub.status.busy": "2025-04-08T14:26:10.012Z",
          "iopub.status.idle": "2025-04-08T14:26:10.079Z",
          "shell.execute_reply": "2025-04-08T14:26:10.079Z"
        },
        "id": "091ab9ca-e975-4ca7-8879-5b91d062a7bc"
      },
      "outputs": [],
      "source": [
        "# matrix multiplication\n",
        "A * v"
      ]
    },
    {
      "cell_type": "code",
      "execution_count": null,
      "id": "042bee8e-b8bf-4fb0-931c-04442490d5ba",
      "metadata": {
        "execution": {
          "iopub.execute_input": "2025-04-08T14:26:17.405Z",
          "iopub.status.busy": "2025-04-08T14:26:17.404Z",
          "iopub.status.idle": "2025-04-08T14:26:17.51Z",
          "shell.execute_reply": "2025-04-08T14:26:17.51Z"
        },
        "id": "042bee8e-b8bf-4fb0-931c-04442490d5ba"
      },
      "outputs": [],
      "source": [
        "# try w A v"
      ]
    },
    {
      "cell_type": "code",
      "execution_count": null,
      "id": "227e691f-db7b-4d68-9dea-4356ec6dd1ab",
      "metadata": {
        "execution": {
          "iopub.execute_input": "2025-04-08T14:26:05.362Z",
          "iopub.status.busy": "2025-04-08T14:26:05.362Z",
          "iopub.status.idle": "2025-04-08T14:26:05.553Z",
          "shell.execute_reply": "2025-04-08T14:26:05.553Z"
        },
        "id": "227e691f-db7b-4d68-9dea-4356ec6dd1ab"
      },
      "outputs": [],
      "source": [
        "A^2 # matrix power"
      ]
    },
    {
      "cell_type": "code",
      "execution_count": null,
      "id": "a6f67621-7de7-4ab8-a278-ed4df37b3c78",
      "metadata": {
        "execution": {
          "iopub.execute_input": "2025-04-08T14:26:55.404Z",
          "iopub.status.busy": "2025-04-08T14:26:55.403Z",
          "iopub.status.idle": "2025-04-08T14:26:55.521Z",
          "shell.execute_reply": "2025-04-08T14:26:55.521Z"
        },
        "id": "a6f67621-7de7-4ab8-a278-ed4df37b3c78"
      },
      "outputs": [],
      "source": [
        "# if we want to add v to each column, this doesn't work, use .+ instead\n",
        "# \".\" is special broadcasting syntax\n",
        "\n",
        "A + v"
      ]
    },
    {
      "cell_type": "code",
      "execution_count": null,
      "id": "ce8b3d2e-7d74-4d09-a94e-792a891ea12e",
      "metadata": {
        "execution": {
          "iopub.execute_input": "2025-04-08T14:29:55.06Z",
          "iopub.status.busy": "2025-04-08T14:29:55.06Z",
          "iopub.status.idle": "2025-04-08T14:29:55.065Z",
          "shell.execute_reply": "2025-04-08T14:29:55.064Z"
        },
        "id": "ce8b3d2e-7d74-4d09-a94e-792a891ea12e"
      },
      "outputs": [],
      "source": [
        "# try adding w to each row"
      ]
    },
    {
      "cell_type": "code",
      "execution_count": null,
      "id": "3473b1cf-aeba-46b4-9f0b-bee7c9eeecaa",
      "metadata": {
        "execution": {
          "iopub.execute_input": "2025-04-08T14:30:04.718Z",
          "iopub.status.busy": "2025-04-08T14:30:04.718Z",
          "iopub.status.idle": "2025-04-08T14:30:04.722Z",
          "shell.execute_reply": "2025-04-08T14:30:04.722Z"
        },
        "id": "3473b1cf-aeba-46b4-9f0b-bee7c9eeecaa"
      },
      "outputs": [],
      "source": [
        "# apply any function element-wise\n",
        "sin.(A)"
      ]
    },
    {
      "cell_type": "code",
      "execution_count": null,
      "id": "eae0b02a-10a1-4880-8e0f-99e1f8c7ec8d",
      "metadata": {
        "execution": {
          "iopub.execute_input": "2025-04-08T14:30:24.573Z",
          "iopub.status.busy": "2025-04-08T14:30:24.572Z",
          "iopub.status.idle": "2025-04-08T14:30:24.576Z",
          "shell.execute_reply": "2025-04-08T14:30:24.576Z"
        },
        "id": "eae0b02a-10a1-4880-8e0f-99e1f8c7ec8d"
      },
      "outputs": [],
      "source": [
        "# the @. macro broadcasts every operation\n",
        "@. sin(w) + A + v"
      ]
    },
    {
      "cell_type": "code",
      "execution_count": null,
      "id": "4431f5d6-a40b-44eb-a602-34e4878c574c",
      "metadata": {
        "execution": {
          "iopub.execute_input": "2025-04-08T14:32:51.277Z",
          "iopub.status.busy": "2025-04-08T14:32:51.276Z",
          "iopub.status.idle": "2025-04-08T14:32:51.285Z",
          "shell.execute_reply": "2025-04-08T14:32:51.284Z"
        },
        "id": "4431f5d6-a40b-44eb-a602-34e4878c574c"
      },
      "outputs": [],
      "source": [
        "eigen(A)"
      ]
    },
    {
      "cell_type": "code",
      "execution_count": null,
      "id": "0b0984f5-6b17-497a-b453-37ef45f4e608",
      "metadata": {
        "execution": {
          "iopub.execute_input": "2025-04-08T14:31:13.768Z",
          "iopub.status.busy": "2025-04-08T14:31:13.768Z",
          "iopub.status.idle": "2025-04-08T14:31:13.773Z",
          "shell.execute_reply": "2025-04-08T14:31:13.772Z"
        },
        "id": "0b0984f5-6b17-497a-b453-37ef45f4e608"
      },
      "outputs": [],
      "source": [
        "# compute A⁻¹ v\n",
        "x = A \\ v"
      ]
    },
    {
      "cell_type": "code",
      "execution_count": null,
      "id": "b3a8f97c-35a4-413d-ad17-95b9f2f0f2bd",
      "metadata": {
        "execution": {
          "iopub.execute_input": "2025-04-08T14:31:20.3Z",
          "iopub.status.busy": "2025-04-08T14:31:20.3Z",
          "iopub.status.idle": "2025-04-08T14:31:20.369Z",
          "shell.execute_reply": "2025-04-08T14:31:20.369Z"
        },
        "id": "b3a8f97c-35a4-413d-ad17-95b9f2f0f2bd"
      },
      "outputs": [],
      "source": [
        "A * x"
      ]
    },
    {
      "cell_type": "markdown",
      "id": "4240bb56-92ca-4629-98e3-86baa39a5f68",
      "metadata": {
        "id": "4240bb56-92ca-4629-98e3-86baa39a5f68"
      },
      "source": [
        "### PythonPlot"
      ]
    },
    {
      "cell_type": "code",
      "execution_count": null,
      "id": "88f668d5-a1bf-4d40-b0fa-1f92e37a4cc5",
      "metadata": {
        "execution": {
          "iopub.execute_input": "2025-04-08T14:10:47.678Z",
          "iopub.status.busy": "2025-04-08T14:10:47.677Z",
          "iopub.status.idle": "2025-04-08T14:10:47.679Z",
          "shell.execute_reply": "2025-04-08T14:10:47.679Z"
        },
        "id": "88f668d5-a1bf-4d40-b0fa-1f92e37a4cc5"
      },
      "outputs": [],
      "source": [
        "# I don't recommend doing this on Google colab\n",
        "\n",
        "#using Pkg\n",
        "#Pkg.add(\"PythonPlot\")\n",
        "using PythonPlot"
      ]
    },
    {
      "cell_type": "code",
      "execution_count": null,
      "id": "46994609-ce9a-4a4b-a8fc-7dd0dfc2cda8",
      "metadata": {
        "execution": {
          "iopub.execute_input": "2025-04-08T14:11:36.618Z",
          "iopub.status.busy": "2025-04-08T14:11:36.618Z",
          "iopub.status.idle": "2025-04-08T14:11:36.7Z",
          "shell.execute_reply": "2025-04-08T14:11:36.699Z"
        },
        "id": "46994609-ce9a-4a4b-a8fc-7dd0dfc2cda8"
      },
      "outputs": [],
      "source": [
        "x = 1:0.01:10\n",
        "\n",
        "figure(figsize=(3,3))\n",
        "plot(x, sin.(x))\n",
        "xlabel(\"x\")\n",
        "ylabel(\"sin(x)\")"
      ]
    },
    {
      "cell_type": "code",
      "source": [],
      "metadata": {
        "id": "eNRVYZ_p24SL"
      },
      "id": "eNRVYZ_p24SL",
      "execution_count": null,
      "outputs": []
    }
  ],
  "metadata": {
    "kernelspec": {
      "display_name": "Julia",
      "name": "julia"
    },
    "language_info": {
      "name": "julia"
    },
    "colab": {
      "provenance": []
    }
  },
  "nbformat": 4,
  "nbformat_minor": 5
}