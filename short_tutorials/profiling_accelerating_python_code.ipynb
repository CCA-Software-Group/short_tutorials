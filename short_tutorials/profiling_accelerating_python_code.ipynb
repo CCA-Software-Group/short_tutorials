{
 "cells": [
  {
   "cell_type": "markdown",
   "metadata": {},
   "source": [
    "# Profiling Python code with cProfile"
   ]
  },
  {
   "cell_type": "code",
   "execution_count": null,
   "metadata": {},
   "outputs": [],
   "source": [
    "# from the terminal, profile Python code with cProfile\n",
    "python -m cProfile -o report.prof  myCode.py\n",
    "\n",
    "# then visualize with SnakeViz to identify bottlenecks\n",
    "snakeviz report.prof\n",
    "# ...giving a report like this:"
   ]
  },
  {
   "cell_type": "markdown",
   "metadata": {},
   "source": [
    "![title](_images/profile_result.png)"
   ]
  },
  {
   "cell_type": "markdown",
   "metadata": {},
   "source": [
    "# Accelerating Python code with Numba"
   ]
  },
  {
   "cell_type": "code",
   "execution_count": 1,
   "metadata": {},
   "outputs": [
    {
     "name": "stdout",
     "output_type": "stream",
     "text": [
      "No Numba:  14.692933958023787\n",
      "With Numba:  3.0573482918553054\n"
     ]
    }
   ],
   "source": [
    "# speed up your object-oriented Python code by adding a just-in-time compiled function with Numba\n",
    "\n",
    "import timeit\n",
    "import numpy as np\n",
    "from numba import jit\n",
    "\n",
    "class MyClass:\n",
    "    def my_method(self, A, B):\n",
    "        \"\"\"Perform operations on A and B\"\"\"\n",
    "        return self.heavy_duty(A, B)\n",
    "    @staticmethod\n",
    "    @jit(nopython=True)\n",
    "\n",
    "    def heavy_duty(A, B):\n",
    "        \"\"\"Write your critical functions as 'pure' functions, i.e. perform operations on / return only numpy arrays\"\"\"\n",
    "        return np.exp(A * B)\n",
    "\n",
    "\n",
    "if __name__ == \"__main__\":\n",
    "    np.random.seed(42)\n",
    "    A = np.random.rand(1000, 1000)\n",
    "    B = np.random.rand(1000, 1000)\n",
    "\n",
    "    my_class = MyClass()\n",
    "\n",
    "    # time function calls\n",
    "    print(\"No Numba: \", timeit.timeit(lambda: A @ B, number=1000))\n",
    "    print(\"With Numba: \", timeit.timeit(lambda: my_class.my_method(A, B), number=1000))"
   ]
  }
 ],
 "metadata": {
  "kernelspec": {
   "display_name": "Python 3 (ipykernel)",
   "language": "python",
   "name": "python3"
  },
  "language_info": {
   "codemirror_mode": {
    "name": "ipython",
    "version": 3
   },
   "file_extension": ".py",
   "mimetype": "text/x-python",
   "name": "python",
   "nbconvert_exporter": "python",
   "pygments_lexer": "ipython3",
   "version": "3.12.2"
  }
 },
 "nbformat": 4,
 "nbformat_minor": 4
}
