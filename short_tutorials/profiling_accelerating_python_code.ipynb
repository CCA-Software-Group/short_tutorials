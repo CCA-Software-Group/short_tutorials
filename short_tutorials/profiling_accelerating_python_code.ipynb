{
 "cells": [
  {
   "cell_type": "markdown",
   "metadata": {},
   "source": [
    "# Profiling Python code with cProfile"
   ]
  },
  {
   "cell_type": "code",
   "execution_count": 1,
   "metadata": {},
   "outputs": [
    {
     "name": "stdout",
     "output_type": "stream",
     "text": [
      " \n",
      "*** Profile stats marshalled to file '/var/folders/y0/mjkc7jhs1799z200jjg82lww0000gp/T/tmp4r8x0896'.\n",
      "Embedding SnakeViz in this document...\n",
      "<function display at 0x106c811c0>\n"
     ]
    },
    {
     "data": {
      "text/html": [
       "\n",
       "<iframe id='snakeviz-433fa40c-3f92-11ef-9ad5-9a7d234f7319' frameborder=0 seamless width='100%' height='1000'></iframe>\n",
       "<script>document.getElementById(\"snakeviz-433fa40c-3f92-11ef-9ad5-9a7d234f7319\").setAttribute(\"src\", \"http://\" + document.location.hostname + \":8080/snakeviz/%2Fvar%2Ffolders%2Fy0%2Fmjkc7jhs1799z200jjg82lww0000gp%2FT%2Ftmp4r8x0896\")</script>\n"
      ],
      "text/plain": [
       "<IPython.core.display.HTML object>"
      ]
     },
     "metadata": {},
     "output_type": "display_data"
    }
   ],
   "source": [
    "import numpy as np\n",
    "\n",
    "%load_ext snakeviz\n",
    "\n",
    "# `%snakeviz%` will first profile a line or block of code \n",
    "# by running cProfile, then run snakeviz to produce an \n",
    "# interactive call stack that helps you identify bottlenecks\n",
    "# (see https://jiffyclub.github.io/snakeviz/ for a more thorough explanation)\n",
    "%snakeviz np.fft.fft(np.random.rand(10000))"
   ]
  },
  {
   "cell_type": "markdown",
   "metadata": {},
   "source": [
    "You can also profile a Python script from the terminal, by first calling cProfile\n",
    "\n",
    "`python -m cProfile -o report.prof  myCode.py`\n",
    "\n",
    "and then visualizing the result with SnakeViz\n",
    "\n",
    "`snakeviz report.prof`\n",
    "\n",
    "to easily get a report on a larger suite of code, like the below."
   ]
  },
  {
   "cell_type": "markdown",
   "metadata": {},
   "source": [
    "![title](_images/profile_result.png)"
   ]
  },
  {
   "cell_type": "markdown",
   "metadata": {},
   "source": [
    "# Accelerating Python code with Numba"
   ]
  },
  {
   "cell_type": "code",
   "execution_count": 2,
   "metadata": {},
   "outputs": [
    {
     "name": "stdout",
     "output_type": "stream",
     "text": [
      "No Numba:  16.303466625045985\n",
      "With Numba:  2.9970250001642853\n"
     ]
    }
   ],
   "source": [
    "# speed up your object-oriented Python code by adding a just-in-time compiled function with Numba\n",
    "import numpy as np\n",
    "import timeit\n",
    "from numba import jit\n",
    "\n",
    "class MyClass:\n",
    "    def my_method(self, A, B):\n",
    "        \"\"\"Perform operations on A and B\"\"\"\n",
    "        return self.heavy_duty(A, B)\n",
    "    @staticmethod\n",
    "    @jit(nopython=True)\n",
    "\n",
    "    def heavy_duty(A, B):\n",
    "        \"\"\"Write your critical functions as 'pure' functions, \n",
    "        i.e. perform operations on / return only numpy arrays\"\"\"\n",
    "        return np.exp(A * B)\n",
    "\n",
    "\n",
    "if __name__ == \"__main__\":\n",
    "    np.random.seed(42)\n",
    "    A = np.random.rand(1000, 1000)\n",
    "    B = np.random.rand(1000, 1000)\n",
    "\n",
    "    my_class = MyClass()\n",
    "\n",
    "    # time function calls\n",
    "    print(\"No Numba: \", timeit.timeit(lambda: A @ B, number=1000))\n",
    "    print(\"With Numba: \", timeit.timeit(lambda: my_class.my_method(A, B), number=1000))"
   ]
  }
 ],
 "metadata": {
  "kernelspec": {
   "display_name": "Python 3 (ipykernel)",
   "language": "python",
   "name": "python3"
  },
  "language_info": {
   "codemirror_mode": {
    "name": "ipython",
    "version": 3
   },
   "file_extension": ".py",
   "mimetype": "text/x-python",
   "name": "python",
   "nbconvert_exporter": "python",
   "pygments_lexer": "ipython3",
   "version": "3.12.2"
  }
 },
 "nbformat": 4,
 "nbformat_minor": 4
}
