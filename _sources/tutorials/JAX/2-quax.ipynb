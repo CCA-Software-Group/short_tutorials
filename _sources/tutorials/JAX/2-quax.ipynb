{
 "cells": [
  {
   "cell_type": "markdown",
   "id": "340f212c-855e-40f4-a0b1-43b3e0375340",
   "metadata": {},
   "source": [
    "# Workshop on Quax 🦆"
   ]
  },
  {
   "cell_type": "markdown",
   "id": "ec4bc889",
   "metadata": {},
   "source": [
    "Author: Nathaniel Starkman (MIT, starkman@mit.edu)"
   ]
  },
  {
   "cell_type": "markdown",
   "id": "bf0247ea",
   "metadata": {},
   "source": [
    "This example is adapted from https://docs.kidger.site/quax/\n",
    "\n",
    "In this example, we'll see how to create a custom array-ish Quax type.\n",
    "\n",
    "We're going to implement a \"dimensional\" type, which annotates each array with a dimension like \"length\" or \"time\". It will keep track of the dimensions as they propagate through the computation, and disallow things like adding a length-array to a time-array. (Which isn't a thing you can do in physics!)"
   ]
  },
  {
   "cell_type": "code",
   "execution_count": 1,
   "id": "e7461911-b2aa-4c2c-b796-b2c1cecb017d",
   "metadata": {},
   "outputs": [],
   "source": [
    "from dataclasses import replace\n",
    "from typing import Union\n",
    "from functools import partial\n",
    "\n",
    "import equinox as eqx\n",
    "import jax\n",
    "import jax.numpy as jnp\n",
    "from jaxtyping import ArrayLike, Shaped, Array\n",
    "\n",
    "import quax\n",
    "from quax import quaxify"
   ]
  },
  {
   "cell_type": "markdown",
   "id": "ac43c08b-aacb-4b5c-9a48-2558ed4722e3",
   "metadata": {},
   "source": [
    "As a first step for this example (unrelated to Quax), let's define a toy dimension system. (In this simple system we only have \"length\" etc., but no notion of units)."
   ]
  },
  {
   "cell_type": "code",
   "execution_count": 2,
   "id": "5ccf1ac2-a2e1-4ddc-aa23-b928dc921da9",
   "metadata": {},
   "outputs": [],
   "source": [
    "class Dimension:\n",
    "    def __init__(self, name):\n",
    "        self.name = name\n",
    "\n",
    "    def __repr__(self):\n",
    "        return self.name\n",
    "    \n",
    "    def __lt__(self, other):\n",
    "        return False\n",
    "\n",
    "\n",
    "mass = Dimension(\"mass\")\n",
    "length = Dimension(\"length\")\n",
    "time = Dimension(\"time\")"
   ]
  },
  {
   "cell_type": "markdown",
   "id": "f3ac23d1-aa0f-4a3e-be13-9565c3ec5056",
   "metadata": {},
   "source": [
    "Now let's define our custom Quax type. It'll wrap together an array and a set of dimensions."
   ]
  },
  {
   "cell_type": "code",
   "execution_count": 3,
   "id": "e860843b-ca95-4ef4-8d85-cec929931798",
   "metadata": {},
   "outputs": [],
   "source": [
    "class Dimensional(quax.ArrayValue):\n",
    "    array: ArrayLike\n",
    "    dimensions: dict[Dimension, int] = eqx.field(static=True, converter=lambda x: {x: 1} if isinstance(x, Dimension) else x)\n",
    "\n",
    "    def aval(self):\n",
    "        return jax.core.ShapedArray(jnp.shape(self.array), jnp.result_type(self.array))\n",
    "\n",
    "    def materialise(self):\n",
    "        raise ValueError(\"Refusing to materialize Dimensional array.\")"
   ]
  },
  {
   "cell_type": "markdown",
   "id": "376d1aa6-d5e0-4d96-b440-a26b84d54fa1",
   "metadata": {},
   "source": [
    "Example usage for this is `Unitful(array, meters)` to indicate that the array has units of meters, or `Unitful(array, {meters: 1, seconds: -1})` to indicate the array has units of meters-per-second.\n",
    "\n",
    "Now let's define a few rules for how unitful arrays interact with each other."
   ]
  },
  {
   "cell_type": "code",
   "execution_count": 4,
   "id": "273e1899-36d5-4f07-885e-8dc0b1d7ab51",
   "metadata": {},
   "outputs": [],
   "source": [
    "@quax.register(jax.lax.add_p)\n",
    "def _(x: Dimensional, y: Dimensional):\n",
    "    if x.dimensions != y.dimensions:\n",
    "        raise ValueError(f\"Cannot add two arrays with dimensions {x.dimensions} and {y.dimensions}.\")\n",
    "    return Dimensional(x.array + y.array, x.dimensions)\n",
    "\n",
    "\n",
    "@quax.register(jax.lax.mul_p)\n",
    "def _(x: Dimensional, y: Dimensional):\n",
    "    dimensions = x.dimensions.copy()\n",
    "    for k, v in y.dimensions.items():\n",
    "        if k in dimensions:\n",
    "            dimensions[k] += v\n",
    "        else:\n",
    "            dimensions[k] = v\n",
    "    return Dimensional(x.array * y.array, dimensions)\n",
    "\n",
    "\n",
    "@quax.register(jax.lax.mul_p)\n",
    "def _(x: ArrayLike, y: Dimensional):\n",
    "    return Dimensional(x * y.array, y.dimensions)\n",
    "\n",
    "\n",
    "@quax.register(jax.lax.mul_p)\n",
    "def _(x: Dimensional, y: ArrayLike):\n",
    "    return Dimensional(x.array * y, x.dimensions)\n",
    "\n",
    "\n",
    "@quax.register(jax.lax.integer_pow_p)\n",
    "def _(x: Dimensional, *, y: int):\n",
    "    dimensions = {k: v * y for k, v in x.dimensions.items()}\n",
    "    return Dimensional(x.array, dimensions)"
   ]
  },
  {
   "cell_type": "markdown",
   "id": "7f657460-5a01-4eaf-bb92-250919501907",
   "metadata": {},
   "source": [
    "And now let's go ahead and use these in practice!\n",
    "\n",
    "As our example, we'll consider computing the energy of a ball moving in Earth's gravity."
   ]
  },
  {
   "cell_type": "code",
   "execution_count": 5,
   "id": "679d6232-f964-4444-ba21-d80bce0309c9",
   "metadata": {},
   "outputs": [],
   "source": [
    "def kinetic_energy(mass, velocity):\n",
    "    \"\"\"Kinetic energy of a ball with `mass` moving with `velocity`.\"\"\"\n",
    "    return 0.5 * mass * velocity**2\n",
    "\n",
    "\n",
    "def gravitational_potential_energy(mass, height, g):\n",
    "    \"\"\"Gravitional potential energy of a ball with `mass` at a distance `height` above\n",
    "    the Earth's surface.\n",
    "    \"\"\"\n",
    "    return g * mass * height\n",
    "\n",
    "\n",
    "def compute_energy(mass, velocity, height, g):\n",
    "    return kinetic_energy(mass, velocity) + gravitational_potential_energy(\n",
    "        mass, height, g\n",
    "    )"
   ]
  },
  {
   "cell_type": "code",
   "execution_count": 6,
   "id": "514be88a",
   "metadata": {},
   "outputs": [
    {
     "name": "stdout",
     "output_type": "stream",
     "text": [
      "The amount of energy is 32.72999954223633 with units {mass: 1, length: 2, time: -2}.\n"
     ]
    }
   ],
   "source": [
    "m = Dimensional(jnp.array(3.0), mass)\n",
    "v = Dimensional(jnp.array(2.2), {length: 1, time: -1})\n",
    "h = Dimensional(jnp.array(1.0), length)\n",
    "g = Dimensional(jnp.array(9.81), {length: 1, time: -2})\n",
    "\n",
    "E = quaxify(compute_energy)(m, v, h, g)\n",
    "\n",
    "print(f\"The amount of energy is {E.array.item()} with units {E.dimensions}.\")"
   ]
  },
  {
   "cell_type": "markdown",
   "id": "5b47f792-41f4-4e3e-ac85-ecdf57d998ab",
   "metadata": {},
   "source": [
    "Wonderful! That went perfectly.\n",
    "\n",
    "The key take-aways from this example are:\n",
    "\n",
    "- The basic usage of defining a custom type with its `aval` and `materialise`\n",
    "- How to define a rule that binds your custom type against itself, e.g.\n",
    "    ```python\n",
    "    @quax.register(jax.lax.mul_p)\n",
    "    def _(x: Unitful, y: Unitful): ...\n",
    "    ```\n",
    "- How to define a rule that binds your custom type against a normal JAX arraylike type, e.g.\n",
    "    ```python\n",
    "    @quax.register(jax.lax.mul_p)\n",
    "    def _(x: ArrayLike, y: Unitful): ...\n",
    "    ```\n",
    "    (An `ArrayLike` is all the things JAX is normally willing to have interact with arrays: `bool`/`int`/`float`/`complex`/NumPy scalars/NumPy arrays/JAX arrays. You can think of the purpose of Quax as being a way to extend what it means for an object to be arraylike.)"
   ]
  },
  {
   "cell_type": "markdown",
   "id": "ddc71a59",
   "metadata": {},
   "source": [
    "## Differentiation"
   ]
  },
  {
   "cell_type": "markdown",
   "id": "33028e9a",
   "metadata": {},
   "source": [
    "In true `JAX` fashion we can take derivatives"
   ]
  },
  {
   "cell_type": "code",
   "execution_count": 7,
   "id": "ffe006f8",
   "metadata": {},
   "outputs": [
    {
     "data": {
      "text/plain": [
       "Dimensional(array=f32[], dimensions={mass: 1, length: 2, time: -2})"
      ]
     },
     "execution_count": 7,
     "metadata": {},
     "output_type": "execute_result"
    }
   ],
   "source": [
    "quaxify(kinetic_energy)(m, v)"
   ]
  },
  {
   "cell_type": "code",
   "execution_count": 8,
   "id": "0e446699",
   "metadata": {},
   "outputs": [
    {
     "data": {
      "text/plain": [
       "Dimensional(array=f32[], dimensions={length: 2, time: -2})"
      ]
     },
     "execution_count": 8,
     "metadata": {},
     "output_type": "execute_result"
    }
   ],
   "source": [
    "quaxify(jax.grad(kinetic_energy, argnums=0))(m, v)"
   ]
  },
  {
   "cell_type": "code",
   "execution_count": 9,
   "id": "9618b553",
   "metadata": {},
   "outputs": [
    {
     "data": {
      "text/plain": [
       "Dimensional(array=f32[], dimensions={mass: 1, length: 1, time: -1})"
      ]
     },
     "execution_count": 9,
     "metadata": {},
     "output_type": "execute_result"
    }
   ],
   "source": [
    "quaxify(jax.grad(kinetic_energy, argnums=1))(m, v)"
   ]
  },
  {
   "cell_type": "code",
   "execution_count": null,
   "id": "1dfe79fe",
   "metadata": {},
   "outputs": [],
   "source": []
  },
  {
   "cell_type": "markdown",
   "id": "f992ea1f",
   "metadata": {},
   "source": [
    "- - -\n",
    "\n",
    "<div class=\"alert alert-block alert-success\">\n",
    "<b>Exercise:</b> Use Gradient Descent to Find the Minimum of a Function\n",
    "</div>"
   ]
  },
  {
   "cell_type": "code",
   "execution_count": 10,
   "id": "0a4b0e32",
   "metadata": {},
   "outputs": [],
   "source": [
    "# A more fully-featured version of the classes\n",
    "\n",
    "from dimensional import Dimensional, Dimension\n",
    "mass = Dimension(\"mass\")\n",
    "length = Dimension(\"length\")\n",
    "time = Dimension(\"time\")"
   ]
  },
  {
   "cell_type": "code",
   "execution_count": 11,
   "id": "2759db92",
   "metadata": {},
   "outputs": [],
   "source": [
    "def the_function(\n",
    "    x: Shaped[Dimensional, \"*shape\"],\n",
    "    *,\n",
    "    scale: Shaped[Dimensional, \"\"]\n",
    ") -> Shaped[Array, \"*shape\"]:\n",
    "    y = x / scale\n",
    "    return scale * (y**4 - 3*y**3 + 2)"
   ]
  },
  {
   "cell_type": "markdown",
   "id": "14127d6e",
   "metadata": {},
   "source": [
    "<details>\n",
    "  <summary>Solution. No peeking!</summary>\n",
    "  \n",
    "  ```python\n",
    "  # Compute the derivative of the potential energy function\n",
    "  the_function_grad = jax.jit(quax.quaxify(jax.grad(the_function)))\n",
    "\n",
    "  # trigger JIT compile\n",
    "  the_function_grad(Dimensional(0.0, length), scale=Dimensional(1.0, length))\n",
    "\n",
    "  # Initial guess for the position\n",
    "  x_init = Dimensional(0.0, length)\n",
    "\n",
    "  # Scale for the position\n",
    "  scale = Dimensional(1.0, length)\n",
    "\n",
    "  # Optimization step: use gradient descent to find the minimum\n",
    "  learning_rate = Dimensional(0.01, length)\n",
    "  num_steps = 1000\n",
    "\n",
    "  x = x_init\n",
    "  for _ in range(num_steps):\n",
    "      x = x - learning_rate * the_function_grad(x, scale=scale)\n",
    "\n",
    "  print(f\"Position of minimum: {x}\")\n",
    "  print(f\"Minimum: {the_function(x, scale=scale)}\")\n",
    "  ```\n",
    "</details>"
   ]
  },
  {
   "cell_type": "code",
   "execution_count": null,
   "id": "c061a454",
   "metadata": {},
   "outputs": [],
   "source": []
  },
  {
   "cell_type": "code",
   "execution_count": null,
   "id": "2a3d8f56",
   "metadata": {},
   "outputs": [],
   "source": []
  },
  {
   "cell_type": "markdown",
   "id": "8e662591",
   "metadata": {},
   "source": [
    "## Quaxed "
   ]
  },
  {
   "cell_type": "markdown",
   "id": "36813c5b",
   "metadata": {},
   "source": [
    "`quax` is impressive!\n",
    "\n",
    "However one of the annoyances is having to wrap a lot of operations with `quaxify`. Thankfully in a complex calculation it can be just the outer-most step that must be wrapped.\n",
    "But for scripting, or if an outer-quaxed is non-optimal, \n",
    "there's a convenience library...\n",
    "\n",
    "`quaxed` offers pre-quaxified `jax`."
   ]
  },
  {
   "cell_type": "markdown",
   "id": "31680b04",
   "metadata": {},
   "source": [
    "### NumPy"
   ]
  },
  {
   "cell_type": "code",
   "execution_count": 12,
   "id": "bc976c58",
   "metadata": {},
   "outputs": [],
   "source": [
    "import quaxed.numpy as jnp"
   ]
  },
  {
   "cell_type": "markdown",
   "id": "b3210adf",
   "metadata": {},
   "source": [
    "`quaxed.numpy` acts the same as `jax.numpy`"
   ]
  },
  {
   "cell_type": "code",
   "execution_count": 13,
   "id": "dc61665e",
   "metadata": {},
   "outputs": [
    {
     "data": {
      "text/plain": [
       "True"
      ]
     },
     "execution_count": 13,
     "metadata": {},
     "output_type": "execute_result"
    }
   ],
   "source": [
    "x = jnp.array([1, 2, 3])\n",
    "isinstance(x, jax.Array)  # True"
   ]
  },
  {
   "cell_type": "code",
   "execution_count": 14,
   "id": "272b09cc",
   "metadata": {},
   "outputs": [
    {
     "data": {
      "text/plain": [
       "Array([1, 4, 9], dtype=int32)"
      ]
     },
     "execution_count": 14,
     "metadata": {},
     "output_type": "execute_result"
    }
   ],
   "source": [
    "jnp.square(x)"
   ]
  },
  {
   "cell_type": "markdown",
   "id": "2327c42b",
   "metadata": {},
   "source": [
    "But it also supports all the power of `quax` objects."
   ]
  },
  {
   "cell_type": "code",
   "execution_count": 15,
   "id": "9623a939",
   "metadata": {},
   "outputs": [],
   "source": [
    "from dimensional import Dimensional, Dimension"
   ]
  },
  {
   "cell_type": "code",
   "execution_count": 16,
   "id": "b0c067de",
   "metadata": {},
   "outputs": [],
   "source": [
    "length = Dimension('length')\n",
    "y = Dimensional([1.0, 2, 3], length)"
   ]
  },
  {
   "cell_type": "code",
   "execution_count": 17,
   "id": "9d24f11f",
   "metadata": {},
   "outputs": [
    {
     "data": {
      "text/plain": [
       "Dimensional(array=[1. 4. 9.], dimensions={length: 2})"
      ]
     },
     "execution_count": 17,
     "metadata": {},
     "output_type": "execute_result"
    }
   ],
   "source": [
    "jnp.square(y)"
   ]
  },
  {
   "cell_type": "code",
   "execution_count": null,
   "id": "a3505f6e",
   "metadata": {},
   "outputs": [],
   "source": []
  },
  {
   "cell_type": "markdown",
   "id": "53a9d096",
   "metadata": {},
   "source": [
    "### Operator"
   ]
  },
  {
   "cell_type": "markdown",
   "id": "94fdea4a",
   "metadata": {},
   "source": [
    "`quax` also supports a functional approach to operators (see https://docs.python.org/3/library/operator.html)"
   ]
  },
  {
   "cell_type": "code",
   "execution_count": 18,
   "id": "3fd4d973",
   "metadata": {},
   "outputs": [],
   "source": [
    "import quaxed.operator as op"
   ]
  },
  {
   "cell_type": "code",
   "execution_count": 19,
   "id": "e604a0e5",
   "metadata": {},
   "outputs": [
    {
     "data": {
      "text/plain": [
       "Dimensional(array=[1. 4. 9.], dimensions={length: 1})"
      ]
     },
     "execution_count": 19,
     "metadata": {},
     "output_type": "execute_result"
    }
   ],
   "source": [
    "op.mul(x, y)"
   ]
  },
  {
   "cell_type": "code",
   "execution_count": 20,
   "id": "8797e933",
   "metadata": {},
   "outputs": [
    {
     "data": {
      "text/plain": [
       "Dimensional(array=[1. 2. 3.], dimensions={length: 2})"
      ]
     },
     "execution_count": 20,
     "metadata": {},
     "output_type": "execute_result"
    }
   ],
   "source": [
    "op.pow(y, 2)"
   ]
  },
  {
   "cell_type": "code",
   "execution_count": null,
   "id": "30cc5221",
   "metadata": {},
   "outputs": [],
   "source": []
  },
  {
   "cell_type": "markdown",
   "id": "1ed1dde1",
   "metadata": {},
   "source": [
    "## Recap"
   ]
  },
  {
   "cell_type": "markdown",
   "id": "155e9e85",
   "metadata": {},
   "source": [
    "1. `quax`\n",
    "2. `quaxed`"
   ]
  },
  {
   "cell_type": "code",
   "execution_count": null,
   "id": "4081bdf3",
   "metadata": {},
   "outputs": [],
   "source": []
  }
 ],
 "metadata": {
  "kernelspec": {
   "display_name": "flatiron-presentation",
   "language": "python",
   "name": "python3"
  },
  "language_info": {
   "codemirror_mode": {
    "name": "ipython",
    "version": 3
   },
   "file_extension": ".py",
   "mimetype": "text/x-python",
   "name": "python",
   "nbconvert_exporter": "python",
   "pygments_lexer": "ipython3",
   "version": "3.12.10"
  }
 },
 "nbformat": 4,
 "nbformat_minor": 5
}
