{
 "cells": [
  {
   "cell_type": "markdown",
   "id": "c3428a94",
   "metadata": {},
   "source": [
    "# Julia crash course"
   ]
  },
  {
   "cell_type": "markdown",
   "id": "GCDUzmhAFnoC",
   "metadata": {
    "id": "GCDUzmhAFnoC"
   },
   "source": [
    "Author: Adam Wheeler (CCA, 2025)"
   ]
  },
  {
   "cell_type": "code",
   "execution_count": 1,
   "id": "17642e01-f0ce-49c5-845f-71f60b431664",
   "metadata": {
    "execution": {
     "iopub.execute_input": "2025-10-15T17:51:57.459000Z",
     "iopub.status.busy": "2025-10-15T17:51:57.452000Z",
     "iopub.status.idle": "2025-10-15T17:51:57.483000Z",
     "shell.execute_reply": "2025-10-15T17:51:57.483000Z"
    },
    "id": "17642e01-f0ce-49c5-845f-71f60b431664"
   },
   "outputs": [],
   "source": [
    "using LinearAlgebra, Random"
   ]
  },
  {
   "cell_type": "markdown",
   "id": "e050f00d-d110-4be9-9f60-3d01dc72fc36",
   "metadata": {
    "id": "e050f00d-d110-4be9-9f60-3d01dc72fc36"
   },
   "source": [
    "## just-in-time compilation and performance"
   ]
  },
  {
   "cell_type": "code",
   "execution_count": 2,
   "id": "fb46e002-170b-458c-901f-26415c32abda",
   "metadata": {
    "execution": {
     "iopub.execute_input": "2025-10-15T17:51:57.484000Z",
     "iopub.status.busy": "2025-10-15T17:51:57.484000Z",
     "iopub.status.idle": "2025-10-15T17:51:58.964000Z",
     "shell.execute_reply": "2025-10-15T17:51:58.964000Z"
    },
    "id": "fb46e002-170b-458c-901f-26415c32abda"
   },
   "outputs": [
    {
     "data": {
      "text/plain": [
       "1000000-element Vector{Float64}:\n",
       " 0.39658441613857087\n",
       " 0.9712990376176485\n",
       " 0.3640820692462131\n",
       " 0.15833243639573436\n",
       " 0.13789967843953477\n",
       " 0.8126877324433185\n",
       " 0.6255925583176946\n",
       " 0.261250131611379\n",
       " 0.3961797624393626\n",
       " 0.07959753674942904\n",
       " 0.003208672519990352\n",
       " 0.8478061095373812\n",
       " 0.2309652786280153\n",
       " ⋮\n",
       " 0.037575236915737054\n",
       " 0.2557521954875993\n",
       " 0.9757491759048605\n",
       " 0.401937809185246\n",
       " 0.2903137719002181\n",
       " 0.45308050453029947\n",
       " 0.7631583814576202\n",
       " 0.2365987628990316\n",
       " 0.45277430378870265\n",
       " 0.7592706489557343\n",
       " 0.10123392126228281\n",
       " 0.9600805438528993"
      ]
     },
     "execution_count": 2,
     "metadata": {},
     "output_type": "execute_result"
    }
   ],
   "source": [
    "a = rand(1000000)"
   ]
  },
  {
   "cell_type": "code",
   "execution_count": 3,
   "id": "503a385b-86aa-46b7-8237-115a99d644db",
   "metadata": {
    "execution": {
     "iopub.execute_input": "2025-10-15T17:51:58.967000Z",
     "iopub.status.busy": "2025-10-15T17:51:58.967000Z",
     "iopub.status.idle": "2025-10-15T17:51:59.201000Z",
     "shell.execute_reply": "2025-10-15T17:51:59.200000Z"
    },
    "id": "503a385b-86aa-46b7-8237-115a99d644db"
   },
   "outputs": [
    {
     "name": "stdout",
     "output_type": "stream",
     "text": [
      "  0.026410 seconds (57.86 k allocations: 2.920 MiB, 98.55% compilation time)\n"
     ]
    },
    {
     "data": {
      "text/plain": [
       "499882.8253191584"
      ]
     },
     "execution_count": 3,
     "metadata": {},
     "output_type": "execute_result"
    }
   ],
   "source": [
    "@time sum(a)"
   ]
  },
  {
   "cell_type": "code",
   "execution_count": 4,
   "id": "d1b94bca-c5d2-46fc-b54e-5d96bd58e132",
   "metadata": {
    "execution": {
     "iopub.execute_input": "2025-10-15T17:51:59.203000Z",
     "iopub.status.busy": "2025-10-15T17:51:59.203000Z",
     "iopub.status.idle": "2025-10-15T17:51:59.336000Z",
     "shell.execute_reply": "2025-10-15T17:51:59.336000Z"
    },
    "id": "d1b94bca-c5d2-46fc-b54e-5d96bd58e132"
   },
   "outputs": [
    {
     "data": {
      "text/plain": [
       "mysum (generic function with 1 method)"
      ]
     },
     "execution_count": 4,
     "metadata": {},
     "output_type": "execute_result"
    }
   ],
   "source": [
    "function mysum(a)\n",
    "    s = 0.0\n",
    "    for x in a\n",
    "        s += x\n",
    "    end\n",
    "    s\n",
    "end"
   ]
  },
  {
   "cell_type": "code",
   "execution_count": 5,
   "id": "79a73454-23ce-4379-a8d2-a11fdaaf6275",
   "metadata": {
    "execution": {
     "iopub.execute_input": "2025-10-15T17:51:59.338000Z",
     "iopub.status.busy": "2025-10-15T17:51:59.338000Z",
     "iopub.status.idle": "2025-10-15T17:51:59.380000Z",
     "shell.execute_reply": "2025-10-15T17:51:59.380000Z"
    },
    "id": "79a73454-23ce-4379-a8d2-a11fdaaf6275"
   },
   "outputs": [
    {
     "name": "stdout",
     "output_type": "stream",
     "text": [
      "  0.010250 seconds (3.80 k allocations: 194.516 KiB, 90.32% compilation time)\n"
     ]
    },
    {
     "data": {
      "text/plain": [
       "499882.82531916565"
      ]
     },
     "execution_count": 5,
     "metadata": {},
     "output_type": "execute_result"
    }
   ],
   "source": [
    "@time mysum(a)"
   ]
  },
  {
   "cell_type": "markdown",
   "id": "8f4c2534-0928-46c4-81f4-0e44386935ea",
   "metadata": {
    "id": "8f4c2534-0928-46c4-81f4-0e44386935ea"
   },
   "source": [
    "## multiple dispatch"
   ]
  },
  {
   "cell_type": "code",
   "execution_count": 6,
   "id": "c8298cb6-3739-49ac-9484-14f6adaea254",
   "metadata": {
    "execution": {
     "iopub.execute_input": "2025-10-15T17:51:59.382000Z",
     "iopub.status.busy": "2025-10-15T17:51:59.382000Z",
     "iopub.status.idle": "2025-10-15T17:51:59.394000Z",
     "shell.execute_reply": "2025-10-15T17:51:59.394000Z"
    },
    "id": "c8298cb6-3739-49ac-9484-14f6adaea254"
   },
   "outputs": [
    {
     "data": {
      "text/plain": [
       "process (generic function with 4 methods)"
      ]
     },
     "execution_count": 6,
     "metadata": {},
     "output_type": "execute_result"
    }
   ],
   "source": [
    "# Define a single function with multiple methods\n",
    "\n",
    "function process(x)\n",
    "    # \"$\" is for string interpolation\n",
    "    println(\"Default method: argument is of type $(typeof(x))\")\n",
    "end\n",
    "\n",
    "# Add specialized methods for different types\n",
    "function process(x::Int)\n",
    "    println(\"Integer method: $x squared is $(x^2)\")\n",
    "end\n",
    "\n",
    "# this is also a valid way to write a function\n",
    "process(x::String) = println(\"String method: $(length(x)) characters, uppercase: $(uppercase(x))\")\n",
    "\n",
    "function process(x::Array)\n",
    "    # TODO Print the length and sum.\n",
    "end"
   ]
  },
  {
   "cell_type": "code",
   "execution_count": 7,
   "id": "f14fb625-f88a-496e-a288-62e04a5b6198",
   "metadata": {
    "execution": {
     "iopub.execute_input": "2025-10-15T17:51:59.396000Z",
     "iopub.status.busy": "2025-10-15T17:51:59.395000Z",
     "iopub.status.idle": "2025-10-15T17:51:59.396000Z",
     "shell.execute_reply": "2025-10-15T17:51:59.396000Z"
    },
    "id": "f14fb625-f88a-496e-a288-62e04a5b6198"
   },
   "outputs": [],
   "source": [
    "# try these out!"
   ]
  },
  {
   "cell_type": "markdown",
   "id": "c256ce57-4a85-4cfb-8b33-36f61f55c487",
   "metadata": {
    "id": "c256ce57-4a85-4cfb-8b33-36f61f55c487"
   },
   "source": [
    "## Custom type + multiple dispatch"
   ]
  },
  {
   "cell_type": "code",
   "execution_count": 8,
   "id": "c3649948-ff2a-4675-8a48-672374522ff4",
   "metadata": {
    "execution": {
     "iopub.execute_input": "2025-10-15T17:51:59.397000Z",
     "iopub.status.busy": "2025-10-15T17:51:59.397000Z",
     "iopub.status.idle": "2025-10-15T17:51:59.400000Z",
     "shell.execute_reply": "2025-10-15T17:51:59.400000Z"
    },
    "id": "c3649948-ff2a-4675-8a48-672374522ff4"
   },
   "outputs": [],
   "source": [
    "# Define a simple complex number type\n",
    "# don't actually do this! There's a built-in one.\n",
    "struct MyComplex\n",
    "    real_component::Float64\n",
    "    imag_component::Float64\n",
    "end\n",
    "\n",
    "# Nice string representation\n",
    "function Base.show(io::IO, z::MyComplex)\n",
    "    if z.imag_component >= 0\n",
    "        print(io, \"$(z.real_component) + $(z.imag_component)i\")\n",
    "    else\n",
    "        print(io, \"$(z.real_component) - $(abs(z.imag_component))i\")\n",
    "    end\n",
    "end"
   ]
  },
  {
   "cell_type": "code",
   "execution_count": 9,
   "id": "03520e29-222d-4316-906a-9bf56de599d1",
   "metadata": {
    "execution": {
     "iopub.execute_input": "2025-10-15T17:51:59.401000Z",
     "iopub.status.busy": "2025-10-15T17:51:59.401000Z",
     "iopub.status.idle": "2025-10-15T17:51:59.557000Z",
     "shell.execute_reply": "2025-10-15T17:51:59.557000Z"
    },
    "id": "03520e29-222d-4316-906a-9bf56de599d1"
   },
   "outputs": [
    {
     "data": {
      "text/plain": [
       "1.0 + 2.0i"
      ]
     },
     "execution_count": 9,
     "metadata": {},
     "output_type": "execute_result"
    }
   ],
   "source": [
    "# try creating a MyComplex\n",
    "MyComplex(1, 2)"
   ]
  },
  {
   "cell_type": "code",
   "execution_count": 10,
   "id": "9a2ff0b9-8968-4e72-9bb0-ed1fa071b5db",
   "metadata": {
    "execution": {
     "iopub.execute_input": "2025-10-15T17:51:59.559000Z",
     "iopub.status.busy": "2025-10-15T17:51:59.559000Z",
     "iopub.status.idle": "2025-10-15T17:51:59.562000Z",
     "shell.execute_reply": "2025-10-15T17:51:59.562000Z"
    },
    "id": "9a2ff0b9-8968-4e72-9bb0-ed1fa071b5db"
   },
   "outputs": [],
   "source": [
    "# define a couple arithmetic operations\n",
    "\n",
    "# we have to import these to override them\n",
    "import Base: +, *\n",
    "\n",
    "function +(a::MyComplex, b::MyComplex)\n",
    "    MyComplex(a.real_component + b.real_component, a.imag_component + b.imag_component)\n",
    "end\n",
    "# \"Real\" is an abstract type that includes floats, rationals, etc.\n",
    "+(a::MyComplex, b::Real) = MyComplex(a.real_component + b, a.imag_component)\n",
    "+(a::Real, b::MyComplex) = b + a\n",
    "\n",
    "function *(a::MyComplex, b::MyComplex)\n",
    "    real_part = a.real_component * b.real_component - a.imag_component * b.imag_component\n",
    "    imag_part = a.real_component * b.imag_component + a.imag_component * b.real_component\n",
    "    MyComplex(real_part, imag_part)\n",
    "end\n",
    "*(a::MyComplex, b::Real) = MyComplex(a.real_component * b, a.imag_component * b)\n",
    "*(a::Real, b::MyComplex) = b * a\n",
    ";"
   ]
  },
  {
   "cell_type": "code",
   "execution_count": 11,
   "id": "8386e4cf-facd-4baa-9deb-6c50cf34c542",
   "metadata": {
    "execution": {
     "iopub.execute_input": "2025-10-15T17:51:59.563000Z",
     "iopub.status.busy": "2025-10-15T17:51:59.563000Z",
     "iopub.status.idle": "2025-10-15T17:51:59.571000Z",
     "shell.execute_reply": "2025-10-15T17:51:59.571000Z"
    },
    "id": "8386e4cf-facd-4baa-9deb-6c50cf34c542"
   },
   "outputs": [
    {
     "data": {
      "text/plain": [
       "5.0 + 4.0i"
      ]
     },
     "execution_count": 11,
     "metadata": {},
     "output_type": "execute_result"
    }
   ],
   "source": [
    "# try it out\n",
    "z1 = MyComplex(3.0, 4.0)\n",
    "z2 = MyComplex(1.0, 2.0)\n",
    "r = 2.0\n",
    "\n",
    "z1 + r"
   ]
  },
  {
   "cell_type": "code",
   "execution_count": 12,
   "id": "ec6f4c39-d7ae-454f-80f9-1adc28da30bd",
   "metadata": {
    "execution": {
     "iopub.execute_input": "2025-10-15T17:51:59.572000Z",
     "iopub.status.busy": "2025-10-15T17:51:59.572000Z",
     "iopub.status.idle": "2025-10-15T17:51:59.573000Z",
     "shell.execute_reply": "2025-10-15T17:51:59.572000Z"
    },
    "id": "ec6f4c39-d7ae-454f-80f9-1adc28da30bd"
   },
   "outputs": [],
   "source": [
    "# this is a silly example, but this is really powerful for, e.g. dual numbers, unitful types, etc."
   ]
  },
  {
   "cell_type": "markdown",
   "id": "2ecf9887-ab50-4e9c-92f5-e618673572db",
   "metadata": {
    "id": "2ecf9887-ab50-4e9c-92f5-e618673572db"
   },
   "source": [
    "## basic linear algebra and broadcasting (\"vectorization\")"
   ]
  },
  {
   "cell_type": "code",
   "execution_count": 13,
   "id": "ebb8ba78-07a3-4e0c-9b8c-32283ef53d58",
   "metadata": {
    "execution": {
     "iopub.execute_input": "2025-10-15T17:51:59.574000Z",
     "iopub.status.busy": "2025-10-15T17:51:59.574000Z",
     "iopub.status.idle": "2025-10-15T17:51:59.578000Z",
     "shell.execute_reply": "2025-10-15T17:51:59.578000Z"
    },
    "id": "ebb8ba78-07a3-4e0c-9b8c-32283ef53d58"
   },
   "outputs": [],
   "source": [
    "# Define matrices and vectors with clean syntax\n",
    "A = [1 2\n",
    "     3 4]\n",
    "B = [5 6; 7 8] # 2×2 matrix\n",
    "v = [1, 2] # column vector\n",
    "w = [3, 4]' # row vector\n",
    ";"
   ]
  },
  {
   "cell_type": "code",
   "execution_count": 14,
   "id": "af010215-abad-436a-a366-b71508083f6a",
   "metadata": {
    "execution": {
     "iopub.execute_input": "2025-10-15T17:51:59.579000Z",
     "iopub.status.busy": "2025-10-15T17:51:59.579000Z",
     "iopub.status.idle": "2025-10-15T17:52:00.017000Z",
     "shell.execute_reply": "2025-10-15T17:52:00.017000Z"
    },
    "id": "af010215-abad-436a-a366-b71508083f6a"
   },
   "outputs": [
    {
     "data": {
      "text/plain": [
       "2×2 Matrix{Int64}:\n",
       " 1  2\n",
       " 3  4"
      ]
     },
     "execution_count": 14,
     "metadata": {},
     "output_type": "execute_result"
    }
   ],
   "source": [
    "A"
   ]
  },
  {
   "cell_type": "code",
   "execution_count": 15,
   "id": "50a7344c-9950-475f-af55-23787c1e9deb",
   "metadata": {
    "execution": {
     "iopub.execute_input": "2025-10-15T17:52:00.019000Z",
     "iopub.status.busy": "2025-10-15T17:52:00.019000Z",
     "iopub.status.idle": "2025-10-15T17:52:00.336000Z",
     "shell.execute_reply": "2025-10-15T17:52:00.336000Z"
    },
    "id": "50a7344c-9950-475f-af55-23787c1e9deb"
   },
   "outputs": [
    {
     "data": {
      "text/plain": [
       "2×2 adjoint(::Matrix{Int64}) with eltype Int64:\n",
       " 1  3\n",
       " 2  4"
      ]
     },
     "execution_count": 15,
     "metadata": {},
     "output_type": "execute_result"
    }
   ],
   "source": [
    "A' # adjoint (~transpose)"
   ]
  },
  {
   "cell_type": "code",
   "execution_count": 16,
   "id": "973b1b2f-20b6-4dbe-8b42-2c7bcd265699",
   "metadata": {
    "execution": {
     "iopub.execute_input": "2025-10-15T17:52:00.338000Z",
     "iopub.status.busy": "2025-10-15T17:52:00.338000Z",
     "iopub.status.idle": "2025-10-15T17:52:01.041000Z",
     "shell.execute_reply": "2025-10-15T17:52:01.041000Z"
    },
    "id": "973b1b2f-20b6-4dbe-8b42-2c7bcd265699"
   },
   "outputs": [
    {
     "data": {
      "text/plain": [
       "2×2 Matrix{Int64}:\n",
       "  6   8\n",
       " 10  12"
      ]
     },
     "execution_count": 16,
     "metadata": {},
     "output_type": "execute_result"
    }
   ],
   "source": [
    "# matrix addition\n",
    "A + B"
   ]
  },
  {
   "cell_type": "code",
   "execution_count": 17,
   "id": "091ab9ca-e975-4ca7-8879-5b91d062a7bc",
   "metadata": {
    "execution": {
     "iopub.execute_input": "2025-10-15T17:52:01.043000Z",
     "iopub.status.busy": "2025-10-15T17:52:01.043000Z",
     "iopub.status.idle": "2025-10-15T17:52:01.563000Z",
     "shell.execute_reply": "2025-10-15T17:52:01.563000Z"
    },
    "id": "091ab9ca-e975-4ca7-8879-5b91d062a7bc"
   },
   "outputs": [
    {
     "data": {
      "text/plain": [
       "2-element Vector{Int64}:\n",
       "  5\n",
       " 11"
      ]
     },
     "execution_count": 17,
     "metadata": {},
     "output_type": "execute_result"
    }
   ],
   "source": [
    "# matrix multiplication\n",
    "A * v"
   ]
  },
  {
   "cell_type": "code",
   "execution_count": 18,
   "id": "042bee8e-b8bf-4fb0-931c-04442490d5ba",
   "metadata": {
    "execution": {
     "iopub.execute_input": "2025-10-15T17:52:01.565000Z",
     "iopub.status.busy": "2025-10-15T17:52:01.565000Z",
     "iopub.status.idle": "2025-10-15T17:52:01.565000Z",
     "shell.execute_reply": "2025-10-15T17:52:01.565000Z"
    },
    "id": "042bee8e-b8bf-4fb0-931c-04442490d5ba"
   },
   "outputs": [],
   "source": [
    "# try w A v"
   ]
  },
  {
   "cell_type": "code",
   "execution_count": 19,
   "id": "227e691f-db7b-4d68-9dea-4356ec6dd1ab",
   "metadata": {
    "execution": {
     "iopub.execute_input": "2025-10-15T17:52:01.566000Z",
     "iopub.status.busy": "2025-10-15T17:52:01.566000Z",
     "iopub.status.idle": "2025-10-15T17:52:02.116000Z",
     "shell.execute_reply": "2025-10-15T17:52:02.116000Z"
    },
    "id": "227e691f-db7b-4d68-9dea-4356ec6dd1ab"
   },
   "outputs": [
    {
     "data": {
      "text/plain": [
       "2×2 Matrix{Int64}:\n",
       "  7  10\n",
       " 15  22"
      ]
     },
     "execution_count": 19,
     "metadata": {},
     "output_type": "execute_result"
    }
   ],
   "source": [
    "A^2 # matrix power"
   ]
  },
  {
   "cell_type": "code",
   "execution_count": 20,
   "id": "a6f67621-7de7-4ab8-a278-ed4df37b3c78",
   "metadata": {
    "execution": {
     "iopub.execute_input": "2025-10-15T17:52:02.118000Z",
     "iopub.status.busy": "2025-10-15T17:52:02.118000Z",
     "iopub.status.idle": "2025-10-15T17:52:02.391000Z",
     "shell.execute_reply": "2025-10-15T17:52:02.391000Z"
    },
    "id": "a6f67621-7de7-4ab8-a278-ed4df37b3c78"
   },
   "outputs": [
    {
     "ename": "LoadError",
     "evalue": "DimensionMismatch: a has size (2, 2), mismatch at dim 2",
     "output_type": "error",
     "traceback": [
      "DimensionMismatch: a has size (2, 2), mismatch at dim 2",
      "",
      "Stacktrace:",
      " [1] \u001b[0m\u001b[1mthrow_promote_shape_mismatch\u001b[22m\u001b[0m\u001b[1m(\u001b[22m\u001b[90ma\u001b[39m::\u001b[0mTuple\u001b[90m{Base.OneTo{Int64}, Base.OneTo{Int64}}\u001b[39m, \u001b[90mb\u001b[39m::\u001b[0mNothing, \u001b[90mi\u001b[39m::\u001b[0mInt64\u001b[0m\u001b[1m)\u001b[22m",
      "\u001b[90m   @\u001b[39m \u001b[90mBase\u001b[39m \u001b[90m./\u001b[39m\u001b[90m\u001b[4mindices.jl:135\u001b[24m\u001b[39m",
      " [2] \u001b[0m\u001b[1mpromote_shape\u001b[22m",
      "\u001b[90m   @\u001b[39m \u001b[90m./\u001b[39m\u001b[90m\u001b[4mindices.jl:199\u001b[24m\u001b[39m\u001b[90m [inlined]\u001b[39m",
      " [3] \u001b[0m\u001b[1mpromote_shape\u001b[22m",
      "\u001b[90m   @\u001b[39m \u001b[90m./\u001b[39m\u001b[90m\u001b[4mindices.jl:188\u001b[24m\u001b[39m\u001b[90m [inlined]\u001b[39m",
      " [4] \u001b[0m\u001b[1m+\u001b[22m\u001b[0m\u001b[1m(\u001b[22m\u001b[90mA\u001b[39m::\u001b[0mMatrix\u001b[90m{Int64}\u001b[39m, \u001b[90mBs\u001b[39m::\u001b[0mVector\u001b[90m{Int64}\u001b[39m\u001b[0m\u001b[1m)\u001b[22m",
      "\u001b[90m   @\u001b[39m \u001b[90mBase\u001b[39m \u001b[90m./\u001b[39m\u001b[90m\u001b[4marraymath.jl:14\u001b[24m\u001b[39m",
      " [5] top-level scope",
      "\u001b[90m   @\u001b[39m \u001b[90m\u001b[4mIn[20]:4\u001b[24m\u001b[39m"
     ]
    }
   ],
   "source": [
    "# if we want to add v to each column, this doesn't work, use .+ instead\n",
    "# \".\" is special broadcasting syntax\n",
    "\n",
    "A + v"
   ]
  },
  {
   "cell_type": "code",
   "execution_count": 21,
   "id": "ce8b3d2e-7d74-4d09-a94e-792a891ea12e",
   "metadata": {
    "execution": {
     "iopub.execute_input": "2025-10-15T17:52:02.394000Z",
     "iopub.status.busy": "2025-10-15T17:52:02.394000Z",
     "iopub.status.idle": "2025-10-15T17:52:02.394000Z",
     "shell.execute_reply": "2025-10-15T17:52:02.394000Z"
    },
    "id": "ce8b3d2e-7d74-4d09-a94e-792a891ea12e"
   },
   "outputs": [],
   "source": [
    "# try adding w to each row"
   ]
  },
  {
   "cell_type": "code",
   "execution_count": 22,
   "id": "3473b1cf-aeba-46b4-9f0b-bee7c9eeecaa",
   "metadata": {
    "execution": {
     "iopub.execute_input": "2025-10-15T17:52:02.395000Z",
     "iopub.status.busy": "2025-10-15T17:52:02.395000Z",
     "iopub.status.idle": "2025-10-15T17:52:02.811000Z",
     "shell.execute_reply": "2025-10-15T17:52:02.811000Z"
    },
    "id": "3473b1cf-aeba-46b4-9f0b-bee7c9eeecaa"
   },
   "outputs": [
    {
     "data": {
      "text/plain": [
       "2×2 Matrix{Float64}:\n",
       " 0.841471   0.909297\n",
       " 0.14112   -0.756802"
      ]
     },
     "execution_count": 22,
     "metadata": {},
     "output_type": "execute_result"
    }
   ],
   "source": [
    "# apply any function element-wise\n",
    "sin.(A)"
   ]
  },
  {
   "cell_type": "code",
   "execution_count": 23,
   "id": "eae0b02a-10a1-4880-8e0f-99e1f8c7ec8d",
   "metadata": {
    "execution": {
     "iopub.execute_input": "2025-10-15T17:52:02.813000Z",
     "iopub.status.busy": "2025-10-15T17:52:02.813000Z",
     "iopub.status.idle": "2025-10-15T17:52:02.961000Z",
     "shell.execute_reply": "2025-10-15T17:52:02.961000Z"
    },
    "id": "eae0b02a-10a1-4880-8e0f-99e1f8c7ec8d"
   },
   "outputs": [
    {
     "data": {
      "text/plain": [
       "2×2 Matrix{Float64}:\n",
       " 2.14112  2.2432\n",
       " 5.14112  5.2432"
      ]
     },
     "execution_count": 23,
     "metadata": {},
     "output_type": "execute_result"
    }
   ],
   "source": [
    "# the @. macro broadcasts every operation\n",
    "@. sin(w) + A + v"
   ]
  },
  {
   "cell_type": "code",
   "execution_count": 24,
   "id": "4431f5d6-a40b-44eb-a602-34e4878c574c",
   "metadata": {
    "execution": {
     "iopub.execute_input": "2025-10-15T17:52:02.963000Z",
     "iopub.status.busy": "2025-10-15T17:52:02.963000Z",
     "iopub.status.idle": "2025-10-15T17:52:04.591000Z",
     "shell.execute_reply": "2025-10-15T17:52:04.591000Z"
    },
    "id": "4431f5d6-a40b-44eb-a602-34e4878c574c"
   },
   "outputs": [
    {
     "data": {
      "text/plain": [
       "Eigen{Float64, Float64, Matrix{Float64}, Vector{Float64}}\n",
       "values:\n",
       "2-element Vector{Float64}:\n",
       " -0.3722813232690143\n",
       "  5.372281323269014\n",
       "vectors:\n",
       "2×2 Matrix{Float64}:\n",
       " -0.824565  -0.415974\n",
       "  0.565767  -0.909377"
      ]
     },
     "execution_count": 24,
     "metadata": {},
     "output_type": "execute_result"
    }
   ],
   "source": [
    "eigen(A)"
   ]
  },
  {
   "cell_type": "code",
   "execution_count": 25,
   "id": "0b0984f5-6b17-497a-b453-37ef45f4e608",
   "metadata": {
    "execution": {
     "iopub.execute_input": "2025-10-15T17:52:04.593000Z",
     "iopub.status.busy": "2025-10-15T17:52:04.593000Z",
     "iopub.status.idle": "2025-10-15T17:52:05.791000Z",
     "shell.execute_reply": "2025-10-15T17:52:05.791000Z"
    },
    "id": "0b0984f5-6b17-497a-b453-37ef45f4e608"
   },
   "outputs": [
    {
     "data": {
      "text/plain": [
       "2-element Vector{Float64}:\n",
       " 0.0\n",
       " 0.5"
      ]
     },
     "execution_count": 25,
     "metadata": {},
     "output_type": "execute_result"
    }
   ],
   "source": [
    "# compute A⁻¹ v\n",
    "x = A \\ v"
   ]
  },
  {
   "cell_type": "code",
   "execution_count": 26,
   "id": "b3a8f97c-35a4-413d-ad17-95b9f2f0f2bd",
   "metadata": {
    "execution": {
     "iopub.execute_input": "2025-10-15T17:52:05.793000Z",
     "iopub.status.busy": "2025-10-15T17:52:05.793000Z",
     "iopub.status.idle": "2025-10-15T17:52:05.977000Z",
     "shell.execute_reply": "2025-10-15T17:52:05.977000Z"
    },
    "id": "b3a8f97c-35a4-413d-ad17-95b9f2f0f2bd"
   },
   "outputs": [
    {
     "data": {
      "text/plain": [
       "2-element Vector{Float64}:\n",
       " 1.0\n",
       " 2.0"
      ]
     },
     "execution_count": 26,
     "metadata": {},
     "output_type": "execute_result"
    }
   ],
   "source": [
    "A * x"
   ]
  },
  {
   "cell_type": "markdown",
   "id": "4240bb56-92ca-4629-98e3-86baa39a5f68",
   "metadata": {
    "id": "4240bb56-92ca-4629-98e3-86baa39a5f68"
   },
   "source": [
    "## PythonPlot"
   ]
  },
  {
   "cell_type": "code",
   "execution_count": 27,
   "id": "88f668d5-a1bf-4d40-b0fa-1f92e37a4cc5",
   "metadata": {
    "execution": {
     "iopub.execute_input": "2025-10-15T17:52:05.979000Z",
     "iopub.status.busy": "2025-10-15T17:52:05.979000Z",
     "iopub.status.idle": "2025-10-15T17:53:19.972000Z",
     "shell.execute_reply": "2025-10-15T17:53:19.972000Z"
    },
    "id": "88f668d5-a1bf-4d40-b0fa-1f92e37a4cc5"
   },
   "outputs": [
    {
     "name": "stderr",
     "output_type": "stream",
     "text": [
      "\u001b[32m\u001b[1m    Updating\u001b[22m\u001b[39m registry at `~/.julia/registries/General.toml`\n",
      "\u001b[32m\u001b[1m   Resolving\u001b[22m\u001b[39m "
     ]
    },
    {
     "name": "stderr",
     "output_type": "stream",
     "text": [
      "package versions...\n"
     ]
    },
    {
     "name": "stderr",
     "output_type": "stream",
     "text": [
      "\u001b[32m\u001b[1m   Installed\u001b[22m\u001b[39m MicroMamba ────────────────── v0.1.14\n"
     ]
    },
    {
     "name": "stderr",
     "output_type": "stream",
     "text": [
      "\u001b[32m\u001b[1m   Installed\u001b[22m\u001b[39m DataAPI ───────────────────── v1.16.0\n",
      "\u001b[32m\u001b[1m   Installed\u001b[22m\u001b[39m Tables ────────────────────── v1.12.1\n",
      "\u001b[32m\u001b[1m   Installed\u001b[22m\u001b[39m TableTraits ───────────────── v1.0.1\n",
      "\u001b[32m\u001b[1m   Installed\u001b[22m\u001b[39m ColorTypes ────────────────── v0.12.1\n",
      "\u001b[32m\u001b[1m   Installed\u001b[22m\u001b[39m Scratch ───────────────────── v1.3.0\n",
      "\u001b[32m\u001b[1m   Installed\u001b[22m\u001b[39m JSON3 ─────────────────────── v1.14.3\n"
     ]
    },
    {
     "name": "stderr",
     "output_type": "stream",
     "text": [
      "\u001b[32m\u001b[1m   Installed\u001b[22m\u001b[39m PythonCall ────────────────── v0.9.28\n",
      "\u001b[32m\u001b[1m   Installed\u001b[22m\u001b[39m FixedPointNumbers ─────────── v0.8.5\n",
      "\u001b[32m\u001b[1m   Installed\u001b[22m\u001b[39m micromamba_jll ────────────── v1.5.12+0\n",
      "\u001b[32m\u001b[1m   Installed\u001b[22m\u001b[39m DataValueInterfaces ───────── v1.0.0\n",
      "\u001b[32m\u001b[1m   Installed\u001b[22m\u001b[39m Pidfile ───────────────────── v1.3.0\n",
      "\u001b[32m\u001b[1m   Installed\u001b[22m\u001b[39m IteratorInterfaceExtensions ─ v1.0.0\n",
      "\u001b[32m\u001b[1m   Installed\u001b[22m\u001b[39m OrderedCollections ────────── v1.8.1\n",
      "\u001b[32m\u001b[1m   Installed\u001b[22m\u001b[39m LaTeXStrings ──────────────── v1.4.0\n",
      "\u001b[32m\u001b[1m   Installed\u001b[22m\u001b[39m Reexport ──────────────────── v1.2.2\n"
     ]
    },
    {
     "name": "stderr",
     "output_type": "stream",
     "text": [
      "\u001b[32m\u001b[1m   Installed\u001b[22m\u001b[39m Statistics ────────────────── v1.11.1\n",
      "\u001b[32m\u001b[1m   Installed\u001b[22m\u001b[39m MacroTools ────────────────── v0.5.16\n",
      "\u001b[32m\u001b[1m   Installed\u001b[22m\u001b[39m pixi_jll ──────────────────── v0.41.3+0\n",
      "\u001b[32m\u001b[1m   Installed\u001b[22m\u001b[39m UnsafePointers ────────────── v1.0.0\n",
      "\u001b[32m\u001b[1m   Installed\u001b[22m\u001b[39m StructTypes ───────────────── v1.11.0\n",
      "\u001b[32m\u001b[1m   Installed\u001b[22m\u001b[39m CondaPkg ──────────────────── v0.2.33\n",
      "\u001b[32m\u001b[1m   Installed\u001b[22m\u001b[39m Colors ────────────────────── v0.13.1\n"
     ]
    },
    {
     "name": "stderr",
     "output_type": "stream",
     "text": [
      "\u001b[32m\u001b[1m   Installed\u001b[22m\u001b[39m PythonPlot ────────────────── v1.0.6\n"
     ]
    },
    {
     "name": "stderr",
     "output_type": "stream",
     "text": [
      "\u001b[32m\u001b[1m    Updating\u001b[22m\u001b[39m `~/.julia/environments/v1.11/Project.toml`\n",
      "  \u001b[90m[274fc56d] \u001b[39m\u001b[92m+ PythonPlot v1.0.6\u001b[39m\n",
      "\u001b[32m\u001b[1m    Updating\u001b[22m\u001b[39m `~/.julia/environments/v1.11/Manifest.toml`\n",
      "  \u001b[90m[3da002f7] \u001b[39m\u001b[92m+ ColorTypes v0.12.1\u001b[39m\n",
      "  \u001b[90m[5ae59095] \u001b[39m\u001b[92m+ Colors v0.13.1\u001b[39m\n",
      "  \u001b[90m[992eb4ea] \u001b[39m\u001b[92m+ CondaPkg v0.2.33\u001b[39m\n",
      "  \u001b[90m[9a962f9c] \u001b[39m\u001b[92m+ DataAPI v1.16.0\u001b[39m\n",
      "  \u001b[90m[e2d170a0] \u001b[39m\u001b[92m+ DataValueInterfaces v1.0.0\u001b[39m\n",
      "  \u001b[90m[53c48c17] \u001b[39m\u001b[92m+ FixedPointNumbers v0.8.5\u001b[39m\n",
      "  \u001b[90m[82899510] \u001b[39m\u001b[92m+ IteratorInterfaceExtensions v1.0.0\u001b[39m\n",
      "  \u001b[90m[0f8b85d8] \u001b[39m\u001b[92m+ JSON3 v1.14.3\u001b[39m\n",
      "  \u001b[90m[b964fa9f] \u001b[39m\u001b[92m+ LaTeXStrings v1.4.0\u001b[39m\n",
      "  \u001b[90m[1914dd2f] \u001b[39m\u001b[92m+ MacroTools v0.5.16\u001b[39m\n",
      "  \u001b[90m[0b3b1443] \u001b[39m\u001b[92m+ MicroMamba v0.1.14\u001b[39m\n",
      "  \u001b[90m[bac558e1] \u001b[39m\u001b[92m+ OrderedCollections v1.8.1\u001b[39m\n",
      "  \u001b[90m[fa939f87] \u001b[39m\u001b[92m+ Pidfile v1.3.0\u001b[39m\n",
      "  \u001b[90m[6099a3de] \u001b[39m\u001b[92m+ PythonCall v0.9.28\u001b[39m\n",
      "  \u001b[90m[274fc56d] \u001b[39m\u001b[92m+ PythonPlot v1.0.6\u001b[39m\n",
      "  \u001b[90m[189a3867] \u001b[39m\u001b[92m+ Reexport v1.2.2\u001b[39m\n",
      "  \u001b[90m[6c6a2e73] \u001b[39m\u001b[92m+ Scratch v1.3.0\u001b[39m\n",
      "  \u001b[90m[10745b16] \u001b[39m\u001b[92m+ Statistics v1.11.1\u001b[39m\n",
      "  \u001b[90m[856f2bd8] \u001b[39m\u001b[92m+ StructTypes v1.11.0\u001b[39m\n",
      "  \u001b[90m[3783bdb8] \u001b[39m\u001b[92m+ TableTraits v1.0.1\u001b[39m\n",
      "  \u001b[90m[bd369af6] \u001b[39m\u001b[92m+ Tables v1.12.1\u001b[39m\n",
      "  \u001b[90m[e17b2a0c] \u001b[39m\u001b[92m+ UnsafePointers v1.0.0\u001b[39m\n",
      "\u001b[33m⌅\u001b[39m \u001b[90m[f8abcde7] \u001b[39m\u001b[92m+ micromamba_jll v1.5.12+0\u001b[39m\n",
      "  \u001b[90m[4d7b5844] \u001b[39m\u001b[92m+ pixi_jll v0.41.3+0\u001b[39m\n",
      "  \u001b[90m[4af54fe1] \u001b[39m\u001b[92m+ LazyArtifacts v1.11.0\u001b[39m\n",
      "  \u001b[90m[37e2e46d] \u001b[39m\u001b[92m+ LinearAlgebra v1.11.0\u001b[39m\n",
      "  \u001b[90m[9e88b42a] \u001b[39m\u001b[92m+ Serialization v1.11.0\u001b[39m\n",
      "  \u001b[90m[8dfed614] \u001b[39m\u001b[92m+ Test v1.11.0\u001b[39m\n",
      "  \u001b[90m[e66e0078] \u001b[39m\u001b[92m+ CompilerSupportLibraries_jll v1.1.1+0\u001b[39m\n",
      "  \u001b[90m[4536629a] \u001b[39m\u001b[92m+ OpenBLAS_jll v0.3.27+1\u001b[39m\n",
      "  \u001b[90m[8e850b90] \u001b[39m\u001b[92m+ libblastrampoline_jll v5.11.0+0\u001b[39m\n",
      "\u001b[36m\u001b[1m        Info\u001b[22m\u001b[39m Packages marked with \u001b[33m⌅\u001b[39m have new versions available but compatibility constraints restrict them from upgrading. To see why use `status --outdated -m`\n",
      "\u001b[92m\u001b[1mPrecompiling\u001b[22m\u001b[39m "
     ]
    },
    {
     "name": "stderr",
     "output_type": "stream",
     "text": [
      "project...\n"
     ]
    },
    {
     "name": "stderr",
     "output_type": "stream",
     "text": [
      "    377.2 ms\u001b[32m  ✓ \u001b[39m\u001b[90mReexport\u001b[39m\n"
     ]
    },
    {
     "name": "stderr",
     "output_type": "stream",
     "text": [
      "    431.9 ms\u001b[32m  ✓ \u001b[39m\u001b[90mDataValueInterfaces\u001b[39m\n"
     ]
    },
    {
     "name": "stderr",
     "output_type": "stream",
     "text": [
      "    672.2 ms\u001b[32m  ✓ \u001b[39m\u001b[90mLaTeXStrings\u001b[39m\n"
     ]
    },
    {
     "name": "stderr",
     "output_type": "stream",
     "text": [
      "    872.3 ms\u001b[32m  ✓ \u001b[39m\u001b[90mOrderedCollections\u001b[39m\n",
      "    764.5 ms\u001b[32m  ✓ \u001b[39m\u001b[90mStatistics\u001b[39m\n"
     ]
    },
    {
     "name": "stderr",
     "output_type": "stream",
     "text": [
      "    467.8 ms\u001b[32m  ✓ \u001b[39m\u001b[90mUnsafePointers\u001b[39m\n",
      "    467.6 ms\u001b[32m  ✓ \u001b[39m\u001b[90mIteratorInterfaceExtensions\u001b[39m\n"
     ]
    },
    {
     "name": "stderr",
     "output_type": "stream",
     "text": [
      "    561.2 ms\u001b[32m  ✓ \u001b[39m\u001b[90mDataAPI\u001b[39m\n"
     ]
    },
    {
     "name": "stderr",
     "output_type": "stream",
     "text": [
      "    546.9 ms\u001b[32m  ✓ \u001b[39m\u001b[90mPidfile\u001b[39m\n"
     ]
    },
    {
     "name": "stderr",
     "output_type": "stream",
     "text": [
      "    831.6 ms\u001b[32m  ✓ \u001b[39m\u001b[90mScratch\u001b[39m\n"
     ]
    },
    {
     "name": "stderr",
     "output_type": "stream",
     "text": [
      "   1076.5 ms\u001b[32m  ✓ \u001b[39m\u001b[90mStructTypes\u001b[39m\n"
     ]
    },
    {
     "name": "stderr",
     "output_type": "stream",
     "text": [
      "    558.2 ms\u001b[32m  ✓ \u001b[39m\u001b[90mTableTraits\u001b[39m\n"
     ]
    },
    {
     "name": "stderr",
     "output_type": "stream",
     "text": [
      "   1667.1 ms\u001b[32m  ✓ \u001b[39m\u001b[90mmicromamba_jll\u001b[39m\n"
     ]
    },
    {
     "name": "stderr",
     "output_type": "stream",
     "text": [
      "   1920.7 ms\u001b[32m  ✓ \u001b[39m\u001b[90mpixi_jll\u001b[39m\n"
     ]
    },
    {
     "name": "stderr",
     "output_type": "stream",
     "text": [
      "   1470.7 ms\u001b[32m  ✓ \u001b[39m\u001b[90mTables\u001b[39m\n"
     ]
    },
    {
     "name": "stderr",
     "output_type": "stream",
     "text": [
      "   4233.4 ms\u001b[32m  ✓ \u001b[39m\u001b[90mMacroTools\u001b[39m\n"
     ]
    },
    {
     "name": "stderr",
     "output_type": "stream",
     "text": [
      "   3870.0 ms\u001b[32m  ✓ \u001b[39m\u001b[90mFixedPointNumbers\u001b[39m\n"
     ]
    },
    {
     "name": "stderr",
     "output_type": "stream",
     "text": [
      "   3646.3 ms\u001b[32m  ✓ \u001b[39m\u001b[90mMicroMamba\u001b[39m\n"
     ]
    },
    {
     "name": "stderr",
     "output_type": "stream",
     "text": [
      "   1678.3 ms\u001b[32m  ✓ \u001b[39m\u001b[90mColorTypes\u001b[39m\n"
     ]
    },
    {
     "name": "stderr",
     "output_type": "stream",
     "text": [
      "    701.6 ms\u001b[32m  ✓ \u001b[39m\u001b[90mColorTypes → StyledStringsExt\u001b[39m\n"
     ]
    },
    {
     "name": "stderr",
     "output_type": "stream",
     "text": [
      "   9735.6 ms\u001b[32m  ✓ \u001b[39m\u001b[90mJSON3\u001b[39m\n"
     ]
    },
    {
     "name": "stderr",
     "output_type": "stream",
     "text": [
      "   5574.8 ms\u001b[32m  ✓ \u001b[39m\u001b[90mColors\u001b[39m\n"
     ]
    },
    {
     "name": "stderr",
     "output_type": "stream",
     "text": [
      "   4385.1 ms\u001b[32m  ✓ \u001b[39m\u001b[90mCondaPkg\u001b[39m\n"
     ]
    },
    {
     "name": "stderr",
     "output_type": "stream",
     "text": [
      "  13381.2 ms\u001b[32m  ✓ \u001b[39m\u001b[90mPythonCall\u001b[39m\n"
     ]
    },
    {
     "name": "stderr",
     "output_type": "stream",
     "text": [
      "PythonCallExt\u001b[33m Waiting for background task / IO / timer.\u001b[39m\n",
      "[pid 3666] waiting for IO to finish:\n",
      " Handle type        uv_handle_t->data\n",
      " timer              0x21ddda20->0x7fcfefcf18a0\n",
      "This means that a package has started a background task or event source that has not finished running. For precompilation to complete successfully, the event source needs to be closed explicitly. See the developer documentation on fixing precompilation hangs for more help.\n"
     ]
    },
    {
     "name": "stderr",
     "output_type": "stream",
     "text": [
      "  16411.4 ms\u001b[32m  ✓ \u001b[39mPythonPlot\n"
     ]
    },
    {
     "name": "stderr",
     "output_type": "stream",
     "text": [
      "  25919.1 ms\u001b[32m  ✓ \u001b[39mIJulia → PythonCallExt\n",
      "  26 dependencies successfully precompiled in 57 seconds. 43 already precompiled.\n",
      "  \u001b[33m4\u001b[39m dependencies had output during precompilation:\u001b[33m\n",
      "┌ \u001b[39mMicroMamba\u001b[33m\n",
      "│  \u001b[39m\u001b[32m\u001b[1m Downloading\u001b[22m\u001b[39m artifact: micromamba\u001b[33m\n",
      "└  \u001b[39m\u001b[33m\n",
      "┌ \u001b[39mIJulia → PythonCallExt\u001b[33m\n",
      "│  \u001b[39m\u001b[36m\u001b[1m┌ \u001b[22m\u001b[39m\u001b[36m\u001b[1mInfo: \u001b[22m\u001b[39mCondaPkg: Waiting for lock to be freed. You may delete this file if no other process is resolving.\u001b[33m\n",
      "│  \u001b[39m\u001b[36m\u001b[1m└ \u001b[22m\u001b[39m  lock_file = \"/home/runner/.julia/environments/v1.11/.CondaPkg/lock\"\u001b[33m\n",
      "│  \u001b[39m\u001b[33m\n",
      "│  \u001b[39m[pid 3666] waiting for IO to finish:\u001b[33m\n",
      "│  \u001b[39m Handle type        uv_handle_t->data\u001b[33m\n",
      "│  \u001b[39m timer              0x21ddda20->0x7fcfefcf18a0\u001b[33m\n",
      "│  \u001b[39mThis means that a package has started a background task or event source that has not finished running. For precompilation to complete successfully, the event source needs to be closed explicitly. See the developer documentation on fixing precompilation hangs for more help.\u001b[33m\n",
      "└  \u001b[39m\u001b[33m\n",
      "┌ \u001b[39mCondaPkg\u001b[33m\n",
      "│  \u001b[39m\u001b[32m\u001b[1m Downloading\u001b[22m\u001b[39m artifact: pixi\u001b[33m\n",
      "└  \u001b[39m\u001b[33m\n",
      "┌ \u001b[39mPythonPlot\u001b[33m\n",
      "│  \u001b[39m\u001b[32m\u001b[1m    CondaPkg \u001b[22m\u001b[39m\u001b[0mFound dependencies: /home/runner/.julia/packages/PythonPlot/oS8x4/CondaPkg.toml\u001b[33m\n",
      "│  \u001b[39m\u001b[32m\u001b[1m    CondaPkg \u001b[22m\u001b[39m\u001b[0mFound dependencies: /home/runner/.julia/packages/PythonCall/mkWc2/CondaPkg.toml\u001b[33m\n",
      "│  \u001b[39m\u001b[32m\u001b[1m    CondaPkg \u001b[22m\u001b[39m\u001b[0mFound dependencies: /home/runner/.julia/packages/IJulia/xpifh/CondaPkg.toml\u001b[33m\n",
      "│  \u001b[39m\u001b[32m\u001b[1m    CondaPkg \u001b[22m\u001b[39m\u001b[0mFound dependencies: /home/runner/.julia/packages/CondaPkg/0UqYV/CondaPkg.toml\u001b[33m\n",
      "│  \u001b[39m\u001b[32m\u001b[1m    CondaPkg \u001b[22m\u001b[39m\u001b[0mResolving changes\u001b[33m\n",
      "│  \u001b[39m\u001b[32m\u001b[1m             \u001b[22m\u001b[39m\u001b[32m+ comm\u001b[39m\u001b[33m\n",
      "│  \u001b[39m\u001b[32m\u001b[1m             \u001b[22m\u001b[39m\u001b[32m+ ipympl\u001b[39m\u001b[33m\n",
      "│  \u001b[39m\u001b[32m\u001b[1m             \u001b[22m\u001b[39m\u001b[32m+ ipython\u001b[39m\u001b[33m\n",
      "│  \u001b[39m\u001b[32m\u001b[1m             \u001b[22m\u001b[39m\u001b[32m+ ipywidgets\u001b[39m\u001b[33m\n",
      "│  \u001b[39m\u001b[32m\u001b[1m             \u001b[22m\u001b[39m\u001b[32m+ jupyter_client\u001b[39m\u001b[33m\n",
      "│  \u001b[39m\u001b[32m\u001b[1m             \u001b[22m\u001b[39m\u001b[32m+ jupyter_kernel_test\u001b[39m\u001b[33m\n",
      "│  \u001b[39m\u001b[32m\u001b[1m             \u001b[22m\u001b[39m\u001b[32m+ libstdcxx\u001b[39m\u001b[33m\n",
      "│  \u001b[39m\u001b[32m\u001b[1m             \u001b[22m\u001b[39m\u001b[32m+ libstdcxx-ng\u001b[39m\u001b[33m\n",
      "│  \u001b[39m\u001b[32m\u001b[1m             \u001b[22m\u001b[39m\u001b[32m+ matplotlib\u001b[39m\u001b[33m\n",
      "│  \u001b[39m\u001b[32m\u001b[1m             \u001b[22m\u001b[39m\u001b[32m+ python\u001b[39m\u001b[33m\n",
      "│  \u001b[39m\u001b[32m\u001b[1m    CondaPkg \u001b[22m\u001b[39m\u001b[0mInitialising pixi\u001b[33m\n",
      "│  \u001b[39m\u001b[32m\u001b[1m             \u001b[22m\u001b[39m│ \u001b[90m/home/runner/.julia/artifacts/cefba4912c2b400756d043a2563ef77a0088866b/bin/pixi\u001b[39m\u001b[33m\n",
      "│  \u001b[39m\u001b[32m\u001b[1m             \u001b[22m\u001b[39m│ \u001b[90minit\u001b[39m\u001b[33m\n",
      "│  \u001b[39m\u001b[32m\u001b[1m             \u001b[22m\u001b[39m│ \u001b[90m--format pixi\u001b[39m\u001b[33m\n",
      "│  \u001b[39m\u001b[32m\u001b[1m             \u001b[22m\u001b[39m└ \u001b[90m/home/runner/.julia/environments/v1.11/.CondaPkg\u001b[39m\u001b[33m\n",
      "│  \u001b[39m✔ Created /home/runner/.julia/environments/v1.11/.CondaPkg/pixi.toml\u001b[33m\n",
      "│  \u001b[39m\u001b[32m\u001b[1m    CondaPkg \u001b[22m\u001b[39m\u001b[0mWrote /home/runner/.julia/environments/v1.11/.CondaPkg/pixi.toml\u001b[33m\n",
      "│  \u001b[39m\u001b[32m\u001b[1m             \u001b[22m\u001b[39m│ \u001b[90m[dependencies]\u001b[39m\u001b[33m\n",
      "│  \u001b[39m\u001b[32m\u001b[1m             \u001b[22m\u001b[39m│ \u001b[90mipython = \"*\"\u001b[39m\u001b[33m\n",
      "│  \u001b[39m\u001b[32m\u001b[1m             \u001b[22m\u001b[39m│ \u001b[90mjupyter_kernel_test = \"*\"\u001b[39m\u001b[33m\n",
      "│  \u001b[39m\u001b[32m\u001b[1m             \u001b[22m\u001b[39m│ \u001b[90mlibstdcxx = \">=3.4,<15.0\"\u001b[39m\u001b[33m\n",
      "│  \u001b[39m\u001b[32m\u001b[1m             \u001b[22m\u001b[39m│ \u001b[90mipywidgets = \"*\"\u001b[39m\u001b[33m\n",
      "│  \u001b[39m\u001b[32m\u001b[1m             \u001b[22m\u001b[39m│ \u001b[90mlibstdcxx-ng = \">=3.4,<15.0\"\u001b[39m\u001b[33m\n",
      "│  \u001b[39m\u001b[32m\u001b[1m             \u001b[22m\u001b[39m│ \u001b[90mmatplotlib = \">=1\"\u001b[39m\u001b[33m\n",
      "│  \u001b[39m\u001b[32m\u001b[1m             \u001b[22m\u001b[39m│ \u001b[90mjupyter_client = \"*\"\u001b[39m\u001b[33m\n",
      "│  \u001b[39m\u001b[32m\u001b[1m             \u001b[22m\u001b[39m│ \u001b[90mipympl = \"*\"\u001b[39m\u001b[33m\n",
      "│  \u001b[39m\u001b[32m\u001b[1m             \u001b[22m\u001b[39m│ \u001b[90mcomm = \"*\"\u001b[39m\u001b[33m\n",
      "│  \u001b[39m\u001b[32m\u001b[1m             \u001b[22m\u001b[39m│ \u001b[33m\n",
      "│  \u001b[39m\u001b[32m\u001b[1m             \u001b[22m\u001b[39m│ \u001b[90m    [dependencies.python]\u001b[39m\u001b[33m\n",
      "│  \u001b[39m\u001b[32m\u001b[1m             \u001b[22m\u001b[39m│ \u001b[90m    channel = \"conda-forge\"\u001b[39m\u001b[33m\n",
      "│  \u001b[39m\u001b[32m\u001b[1m             \u001b[22m\u001b[39m│ \u001b[90m    build = \"*cp*\"\u001b[39m\u001b[33m\n",
      "│  \u001b[39m\u001b[32m\u001b[1m             \u001b[22m\u001b[39m│ \u001b[90m    version = \"3.13.*, >=3.9,<4\"\u001b[39m\u001b[33m\n",
      "│  \u001b[39m\u001b[32m\u001b[1m             \u001b[22m\u001b[39m│ \u001b[33m\n",
      "│  \u001b[39m\u001b[32m\u001b[1m             \u001b[22m\u001b[39m│ \u001b[90m[project]\u001b[39m\u001b[33m\n",
      "│  \u001b[39m\u001b[32m\u001b[1m             \u001b[22m\u001b[39m│ \u001b[90mname = \".CondaPkg\"\u001b[39m\u001b[33m\n",
      "│  \u001b[39m\u001b[32m\u001b[1m             \u001b[22m\u001b[39m│ \u001b[90mplatforms = [\"linux-64\"]\u001b[39m\u001b[33m\n",
      "│  \u001b[39m\u001b[32m\u001b[1m             \u001b[22m\u001b[39m│ \u001b[90mchannels = [\"conda-forge\"]\u001b[39m\u001b[33m\n",
      "│  \u001b[39m\u001b[32m\u001b[1m             \u001b[22m\u001b[39m│ \u001b[90mchannel-priority = \"strict\"\u001b[39m\u001b[33m\n",
      "│  \u001b[39m\u001b[32m\u001b[1m             \u001b[22m\u001b[39m└ \u001b[90mdescription = \"automatically generated by CondaPkg.jl\"\u001b[39m\u001b[33m\n",
      "│  \u001b[39m\u001b[32m\u001b[1m    CondaPkg \u001b[22m\u001b[39m\u001b[0mInstalling packages\u001b[33m\n",
      "│  \u001b[39m\u001b[32m\u001b[1m             \u001b[22m\u001b[39m│ \u001b[90m/home/runner/.julia/artifacts/cefba4912c2b400756d043a2563ef77a0088866b/bin/pixi\u001b[39m\u001b[33m\n",
      "│  \u001b[39m\u001b[32m\u001b[1m             \u001b[22m\u001b[39m│ \u001b[90minstall\u001b[39m\u001b[33m\n",
      "│  \u001b[39m\u001b[32m\u001b[1m             \u001b[22m\u001b[39m└ \u001b[90m--manifest-path /home/runner/.julia/environments/v1.11/.CondaPkg/pixi.toml\u001b[39m\u001b[33m\n",
      "│  \u001b[39m✔ The default environment has been installed.\u001b[33m\n",
      "└  \u001b[39m\n"
     ]
    }
   ],
   "source": [
    "# I don't recommend doing this on Google colab\n",
    "\n",
    "using Pkg\n",
    "Pkg.add(\"PythonPlot\")\n",
    "using PythonPlot"
   ]
  },
  {
   "cell_type": "code",
   "execution_count": 28,
   "id": "46994609-ce9a-4a4b-a8fc-7dd0dfc2cda8",
   "metadata": {
    "execution": {
     "iopub.execute_input": "2025-10-15T17:53:20.276000Z",
     "iopub.status.busy": "2025-10-15T17:53:19.973000Z",
     "iopub.status.idle": "2025-10-15T17:53:22.340000Z",
     "shell.execute_reply": "2025-10-15T17:53:22.340000Z"
    },
    "id": "46994609-ce9a-4a4b-a8fc-7dd0dfc2cda8"
   },
   "outputs": [
    {
     "data": {
      "image/png": "[encoded data removed]",
      "text/plain": [
       "Figure(<py Figure size 300x300 with 1 Axes>)"
      ]
     },
     "metadata": {},
     "output_type": "display_data"
    },
    {
     "data": {
      "text/plain": [
       "Python: Text(23.999999999999993, 0.5, 'sin(x)')"
      ]
     },
     "execution_count": 28,
     "metadata": {},
     "output_type": "execute_result"
    }
   ],
   "source": [
    "x = 1:0.01:10\n",
    "\n",
    "figure(figsize=(3,3))\n",
    "plot(x, sin.(x))\n",
    "xlabel(\"x\")\n",
    "ylabel(\"sin(x)\")"
   ]
  }
 ],
 "metadata": {
  "colab": {
   "provenance": []
  },
  "kernelspec": {
   "display_name": "Julia 1.11.0",
   "language": "julia",
   "name": "julia-1.11"
  },
  "language_info": {
   "file_extension": ".jl",
   "mimetype": "application/julia",
   "name": "julia",
   "version": "1.11.7"
  }
 },
 "nbformat": 4,
 "nbformat_minor": 5
}
