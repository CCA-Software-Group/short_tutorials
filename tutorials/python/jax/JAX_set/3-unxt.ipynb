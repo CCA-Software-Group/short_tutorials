{
 "cells": [
  {
   "cell_type": "markdown",
   "id": "554fa6a9",
   "metadata": {},
   "source": [
    "# Unxt"
   ]
  },
  {
   "cell_type": "markdown",
   "id": "ab10a8ea",
   "metadata": {},
   "source": [
    "Author: Nathaniel Starkman (MIT, 2025)"
   ]
  },
  {
   "cell_type": "markdown",
   "id": "3d9c07cc",
   "metadata": {},
   "source": [
    "With `quax` we can do units in JAX!"
   ]
  },
  {
   "cell_type": "code",
   "execution_count": 1,
   "id": "d58e728a",
   "metadata": {},
   "outputs": [],
   "source": [
    "import jax\n",
    "import jax.numpy as jnp\n",
    "from beartype import beartype\n",
    "from jaxtyping import Float"
   ]
  },
  {
   "cell_type": "markdown",
   "id": "ba555014",
   "metadata": {},
   "source": [
    "Why doesn't Astropy work out of the box?"
   ]
  },
  {
   "cell_type": "code",
   "execution_count": 2,
   "id": "857c6da4",
   "metadata": {},
   "outputs": [],
   "source": [
    "import astropy.units as u"
   ]
  },
  {
   "cell_type": "code",
   "execution_count": 3,
   "id": "d2a1ca0a",
   "metadata": {},
   "outputs": [],
   "source": [
    "x = u.Quantity([1, 2, 3], \"m\")"
   ]
  },
  {
   "cell_type": "code",
   "execution_count": 4,
   "id": "a02608a3",
   "metadata": {},
   "outputs": [
    {
     "data": {
      "text/plain": [
       "Array([1.       , 1.4142135, 1.7320508], dtype=float32)"
      ]
     },
     "execution_count": 4,
     "metadata": {},
     "output_type": "execute_result"
    }
   ],
   "source": [
    "jnp.sqrt(x)"
   ]
  },
  {
   "cell_type": "markdown",
   "id": "3c7ed708",
   "metadata": {},
   "source": [
    "We lost the units!\n",
    "\n",
    "Astropy arrays are converted to NumPy arrays, which are then converted to JAX arrays."
   ]
  },
  {
   "cell_type": "markdown",
   "id": "17e3f827",
   "metadata": {},
   "source": [
    "Let's try the `quaxed` version."
   ]
  },
  {
   "cell_type": "code",
   "execution_count": 5,
   "id": "d708851e",
   "metadata": {},
   "outputs": [],
   "source": [
    "import quaxed.numpy as qnp"
   ]
  },
  {
   "cell_type": "code",
   "execution_count": 6,
   "id": "94917079",
   "metadata": {},
   "outputs": [
    {
     "data": {
      "text/plain": [
       "Array([1.       , 1.4142135, 1.7320508], dtype=float32)"
      ]
     },
     "execution_count": 6,
     "metadata": {},
     "output_type": "execute_result"
    }
   ],
   "source": [
    "qnp.sqrt(x)"
   ]
  },
  {
   "cell_type": "markdown",
   "id": "c843f9a4",
   "metadata": {},
   "source": [
    "Darn. same problem."
   ]
  },
  {
   "cell_type": "markdown",
   "id": "5d1f0338",
   "metadata": {},
   "source": [
    "Introducing..."
   ]
  },
  {
   "cell_type": "markdown",
   "id": "da2ce216",
   "metadata": {},
   "source": [
    "## Quantity"
   ]
  },
  {
   "cell_type": "code",
   "execution_count": 7,
   "id": "f5e9e4bb",
   "metadata": {},
   "outputs": [],
   "source": [
    "from unxt import Quantity\n",
    "from unxt import uconvert, ustrip  # alt functional API"
   ]
  },
  {
   "cell_type": "code",
   "execution_count": 8,
   "id": "10cc004e",
   "metadata": {},
   "outputs": [
    {
     "data": {
      "text/html": [
       "<span>[1, 2, 3]</span> * <span>Unit(\"m\")</span>"
      ],
      "text/latex": [
       "$[1,~2,~3] \\; \\mathrm{m}$"
      ],
      "text/plain": [
       "Quantity(Array([1, 2, 3], dtype=int32), unit='m')"
      ]
     },
     "execution_count": 8,
     "metadata": {},
     "output_type": "execute_result"
    }
   ],
   "source": [
    "x = Quantity([1, 2, 3], 'm')\n",
    "x"
   ]
  },
  {
   "cell_type": "code",
   "execution_count": 9,
   "id": "c467dca7",
   "metadata": {},
   "outputs": [
    {
     "name": "stdout",
     "output_type": "stream",
     "text": [
      "sqrt requires ndarray or scalar arguments, got <class 'unxt._src.quantity.quantity.Quantity[PhysicalType('length')]'> at position 0.\n"
     ]
    }
   ],
   "source": [
    "try:\n",
    "    jnp.sqrt(x)\n",
    "except TypeError as e:\n",
    "    print(e)"
   ]
  },
  {
   "cell_type": "code",
   "execution_count": 10,
   "id": "dc400fa6",
   "metadata": {},
   "outputs": [
    {
     "data": {
      "text/html": [
       "<span>[1.       , 1.41421354, 1.73205078]</span> * <span>Unit(\"m(1/2)\")</span>"
      ],
      "text/latex": [
       "$[1.       ,~1.41421354,~1.73205078] \\; \\mathrm{m^{1/2}}$"
      ],
      "text/plain": [
       "Quantity(Array([1.       , 1.4142135, 1.7320508], dtype=float32), unit='m(1/2)')"
      ]
     },
     "execution_count": 10,
     "metadata": {},
     "output_type": "execute_result"
    }
   ],
   "source": [
    "from quax import quaxify\n",
    "\n",
    "quaxify(jnp.sqrt)(x)"
   ]
  },
  {
   "cell_type": "code",
   "execution_count": 11,
   "id": "7663d4c2",
   "metadata": {},
   "outputs": [
    {
     "data": {
      "text/html": [
       "<span>[1.       , 1.41421354, 1.73205078]</span> * <span>Unit(\"m(1/2)\")</span>"
      ],
      "text/latex": [
       "$[1.       ,~1.41421354,~1.73205078] \\; \\mathrm{m^{1/2}}$"
      ],
      "text/plain": [
       "Quantity(Array([1.       , 1.4142135, 1.7320508], dtype=float32), unit='m(1/2)')"
      ]
     },
     "execution_count": 11,
     "metadata": {},
     "output_type": "execute_result"
    }
   ],
   "source": [
    "# Alternatively, use the `quaxed` version.\n",
    "qnp.sqrt(x)"
   ]
  },
  {
   "cell_type": "markdown",
   "id": "3624f4be",
   "metadata": {},
   "source": [
    "Now let's return to the Astropy Quantity"
   ]
  },
  {
   "cell_type": "code",
   "execution_count": 12,
   "id": "e17d8bc8",
   "metadata": {},
   "outputs": [
    {
     "data": {
      "text/html": [
       "<span>[1.       , 1.41421354, 1.73205078]</span> * <span>Unit(\"m(1/2)\")</span>"
      ],
      "text/latex": [
       "$[1.       ,~1.41421354,~1.73205078] \\; \\mathrm{m^{1/2}}$"
      ],
      "text/plain": [
       "Quantity(Array([1.       , 1.4142135, 1.7320508], dtype=float32), unit='m(1/2)')"
      ]
     },
     "execution_count": 12,
     "metadata": {},
     "output_type": "execute_result"
    }
   ],
   "source": [
    "qnp.sqrt(x)"
   ]
  },
  {
   "cell_type": "markdown",
   "id": "4ee35ab0",
   "metadata": {},
   "source": [
    "It worked?!? What happened?\n",
    "\n",
    "Well, `unxt` hooked into `quax` and said it knows how to handle Astropy Quantities.\n",
    "That's some nice interoperability."
   ]
  },
  {
   "cell_type": "markdown",
   "id": "56048b35",
   "metadata": {},
   "source": [
    "### Astropy-like API"
   ]
  },
  {
   "cell_type": "code",
   "execution_count": 13,
   "id": "25b7addd",
   "metadata": {},
   "outputs": [
    {
     "data": {
      "text/html": [
       "<span>[0.001, 0.002, 0.003]</span> * <span>Unit(\"km\")</span>"
      ],
      "text/latex": [
       "$[0.001,~0.002,~0.003] \\; \\mathrm{km}$"
      ],
      "text/plain": [
       "Quantity(Array([0.001, 0.002, 0.003], dtype=float32, weak_type=True), unit='km')"
      ]
     },
     "execution_count": 13,
     "metadata": {},
     "output_type": "execute_result"
    }
   ],
   "source": [
    "x.to(u.km)"
   ]
  },
  {
   "cell_type": "code",
   "execution_count": 14,
   "id": "8fc01b50",
   "metadata": {},
   "outputs": [
    {
     "data": {
      "text/plain": [
       "Array([0.001, 0.002, 0.003], dtype=float32, weak_type=True)"
      ]
     },
     "execution_count": 14,
     "metadata": {},
     "output_type": "execute_result"
    }
   ],
   "source": [
    "x.to_value(u.km)"
   ]
  },
  {
   "cell_type": "code",
   "execution_count": 15,
   "id": "2c21a96b",
   "metadata": {},
   "outputs": [
    {
     "data": {
      "text/html": [
       "<span>[0.00497097, 0.00994194, 0.01491291]</span> * <span>Unit(\"fur\")</span>"
      ],
      "text/latex": [
       "$[0.00497097,~0.00994194,~0.01491291] \\; \\mathrm{fur}$"
      ],
      "text/plain": [
       "Quantity(Array([0.00497097, 0.00994194, 0.01491291], dtype=float32, weak_type=True),\n",
       "    unit='fur')"
      ]
     },
     "execution_count": 15,
     "metadata": {},
     "output_type": "execute_result"
    }
   ],
   "source": [
    "x.decompose([u.imperial.furlong, u.Gyr])"
   ]
  },
  {
   "cell_type": "code",
   "execution_count": null,
   "id": "dcb61d68",
   "metadata": {},
   "outputs": [],
   "source": []
  },
  {
   "cell_type": "markdown",
   "id": "c42b70e3",
   "metadata": {},
   "source": [
    "### Parametric"
   ]
  },
  {
   "cell_type": "markdown",
   "id": "0942a6bc",
   "metadata": {},
   "source": [
    "`unxt.Quantity` can be parametrized by its dimensions!\n",
    "This can be run-time inferred or set and used for verification"
   ]
  },
  {
   "cell_type": "code",
   "execution_count": 16,
   "id": "1c570725",
   "metadata": {},
   "outputs": [
    {
     "data": {
      "text/html": [
       "<span>1</span> * <span>Unit(\"1 / s\")</span>"
      ],
      "text/latex": [
       "$1 \\; \\mathrm{\\frac{1}{s}}$"
      ],
      "text/plain": [
       "Quantity(Array(1, dtype=int32, weak_type=True), unit='1 / s')"
      ]
     },
     "execution_count": 16,
     "metadata": {},
     "output_type": "execute_result"
    }
   ],
   "source": [
    "Quantity[\"frequency\"](1, 1/u.s)  # works"
   ]
  },
  {
   "cell_type": "code",
   "execution_count": 17,
   "id": "6e6760ae",
   "metadata": {},
   "outputs": [
    {
     "name": "stdout",
     "output_type": "stream",
     "text": [
      "Physical type mismatch.\n"
     ]
    }
   ],
   "source": [
    "try:\n",
    "    Quantity[\"frequency\"](1, \"kpc\")\n",
    "except Exception as e:\n",
    "    print(e)"
   ]
  },
  {
   "cell_type": "code",
   "execution_count": 18,
   "id": "5160d6bf",
   "metadata": {},
   "outputs": [],
   "source": [
    "@beartype\n",
    "def func(x: Quantity[\"length\"], v: Quantity[\"speed\"]) -> Quantity[\"time\"]:\n",
    "    return x / v\n"
   ]
  },
  {
   "cell_type": "code",
   "execution_count": 19,
   "id": "82b33d93",
   "metadata": {},
   "outputs": [
    {
     "data": {
      "text/html": [
       "<span>0.01</span> * <span>Unit(\"kpc s / km\")</span>"
      ],
      "text/latex": [
       "$0.01 \\; \\mathrm{\\frac{kpc\\,s}{km}}$"
      ],
      "text/plain": [
       "Quantity(Array(0.01, dtype=float32, weak_type=True), unit='kpc s / km')"
      ]
     },
     "execution_count": 19,
     "metadata": {},
     "output_type": "execute_result"
    }
   ],
   "source": [
    "func(Quantity(1, \"kpc\"), Quantity(100, \"km/s\"))"
   ]
  },
  {
   "cell_type": "code",
   "execution_count": 20,
   "id": "41cc0d21",
   "metadata": {},
   "outputs": [
    {
     "name": "stdout",
     "output_type": "stream",
     "text": [
      "Function __main__.func() parameter v=\"Quantity(Array(100, dtype=int32, weak_type=True), unit='1 / s')\" violates type hint <class 'unxt._src.quantity.quantity.Quantity[PhysicalType({'speed', 'velocity'})]'>, as <class \"unxt._src.quantity.quantity.Quantity[PhysicalType('frequency')]\"> \"Quantity(Array(100, dtype=int32, weak_type=True), unit='1 / s')\" not instance of <class \"unxt._src.quantity.quantity.Quantity[PhysicalType({'speed', 'velocity'})]\">.\n"
     ]
    }
   ],
   "source": [
    "try:\n",
    "    func(Quantity(1, \"kpc\"), Quantity(100, \"1/s\"))\n",
    "except Exception as e:\n",
    "    print(e)"
   ]
  },
  {
   "cell_type": "code",
   "execution_count": null,
   "id": "6f12e3a8",
   "metadata": {},
   "outputs": [],
   "source": []
  },
  {
   "cell_type": "markdown",
   "id": "322b6271",
   "metadata": {},
   "source": [
    "### Constructor"
   ]
  },
  {
   "cell_type": "markdown",
   "id": "1bc9d0f4",
   "metadata": {},
   "source": [
    "`unxt` offers powerful methods to construct a `Quantity`, through a generalized constructor class-method."
   ]
  },
  {
   "cell_type": "code",
   "execution_count": 21,
   "id": "32e224cf",
   "metadata": {},
   "outputs": [
    {
     "data": {
      "text/html": [
       "<span>[1, 2, 3]</span> * <span>Unit(\"m\")</span>"
      ],
      "text/latex": [
       "$[1,~2,~3] \\; \\mathrm{m}$"
      ],
      "text/plain": [
       "Quantity(Array([1, 2, 3], dtype=int32), unit='m')"
      ]
     },
     "execution_count": 21,
     "metadata": {},
     "output_type": "execute_result"
    }
   ],
   "source": [
    "# normal construction\n",
    "Quantity.from_([1, 2, 3], 'm')"
   ]
  },
  {
   "cell_type": "code",
   "execution_count": 22,
   "id": "87b5c5a2",
   "metadata": {},
   "outputs": [
    {
     "data": {
      "text/html": [
       "<span>[1, 2, 3]</span> * <span>Unit(\"m\")</span>"
      ],
      "text/latex": [
       "$[1,~2,~3] \\; \\mathrm{m}$"
      ],
      "text/plain": [
       "Quantity(Array([1, 2, 3], dtype=int32), unit='m')"
      ]
     },
     "execution_count": 22,
     "metadata": {},
     "output_type": "execute_result"
    }
   ],
   "source": [
    "# From a Quantity\n",
    "Quantity.from_(x)"
   ]
  },
  {
   "cell_type": "code",
   "execution_count": 23,
   "id": "a380d4fa",
   "metadata": {},
   "outputs": [
    {
     "data": {
      "text/html": [
       "<span>[0.001, 0.002, 0.003]</span> * <span>Unit(\"km\")</span>"
      ],
      "text/latex": [
       "$[0.001,~0.002,~0.003] \\; \\mathrm{km}$"
      ],
      "text/plain": [
       "Quantity(Array([0.001, 0.002, 0.003], dtype=float32, weak_type=True), unit='km')"
      ]
     },
     "execution_count": 23,
     "metadata": {},
     "output_type": "execute_result"
    }
   ],
   "source": [
    "# Also changing the unit\n",
    "Quantity.from_(x, \"km\")"
   ]
  },
  {
   "cell_type": "code",
   "execution_count": 24,
   "id": "b0c57c8c",
   "metadata": {},
   "outputs": [
    {
     "data": {
      "text/html": [
       "<pre style=\"white-space:pre;overflow-x:auto;line-height:normal;font-family:Menlo,'DejaVu Sans Mono',consolas,'Courier New',monospace\"></pre>\n"
      ],
      "text/plain": []
     },
     "metadata": {},
     "output_type": "display_data"
    },
    {
     "data": {
      "text/html": [
       "<pre style=\"white-space:pre;overflow-x:auto;line-height:normal;font-family:Menlo,'DejaVu Sans Mono',consolas,'Courier New',monospace\">List of <span style=\"color: #008080; text-decoration-color: #008080; font-weight: bold\">9</span> <span style=\"color: #800080; text-decoration-color: #800080; font-weight: bold\">method</span><span style=\"font-weight: bold\">(</span>s<span style=\"font-weight: bold\">)</span>:\n",
       "    [0] from_(cls: <span style=\"font-weight: bold\">type[unxt._src.quantity.base.AbstractQuantity]</span>, value: <span style=\"font-weight: bold\">typing.Union[ArrayLike, </span>                 \n",
       "    <span style=\"font-weight: bold\">list[typing.Union[jaxtyping.Shaped[Array, ''], jaxtyping.Shaped[ndarray, ''], numpy.bool, numpy.number, </span>       \n",
       "    <span style=\"font-weight: bold\">bool, int, float, complex]], tuple[typing.Union[jaxtyping.Shaped[Array, ''], jaxtyping.Shaped[ndarray, ''],</span>    \n",
       "    <span style=\"font-weight: bold\">numpy.bool, numpy.number, bool, int, float, complex], ...]]</span>, unit: <span style=\"font-weight: bold\">Any</span>, *, dtype) -&gt;                           \n",
       "    <span style=\"color: #a8a8a8; text-decoration-color: #a8a8a8\">unxt._src.quantity.base.</span><span style=\"color: #a8a8a8; text-decoration-color: #a8a8a8; font-weight: bold\">AbstractQuantity</span>                                                                       \n",
       "        &lt;function from_ at 0x116d8f6a0&gt; @ <span style=\"color: #c0c0c0; text-decoration-color: #c0c0c0\">~/Documents/Academia/Conferences &amp; Presentations/2025-09-Thunch and </span>     \n",
       "    <span style=\"color: #c0c0c0; text-decoration-color: #c0c0c0\">Flatiron/Flatiron Presentation/.venv/lib/python3.12/site-packages/jaxtyping/</span><span style=\"color: #c0c0c0; text-decoration-color: #c0c0c0; font-weight: bold; text-decoration: underline\">_decorator.py</span><span style=\"color: #c0c0c0; text-decoration-color: #c0c0c0\">:799</span>                  \n",
       "    [1] from_(cls: <span style=\"font-weight: bold\">type[unxt._src.quantity.base.AbstractQuantity]</span>, value: <span style=\"font-weight: bold\">typing.Union[ArrayLike, </span>                 \n",
       "    <span style=\"font-weight: bold\">list[typing.Union[jaxtyping.Shaped[Array, ''], jaxtyping.Shaped[ndarray, ''], numpy.bool, numpy.number, </span>       \n",
       "    <span style=\"font-weight: bold\">bool, int, float, complex]], tuple[typing.Union[jaxtyping.Shaped[Array, ''], jaxtyping.Shaped[ndarray, ''],</span>    \n",
       "    <span style=\"font-weight: bold\">numpy.bool, numpy.number, bool, int, float, complex], ...]]</span>, *, unit, dtype) -&gt;                                \n",
       "    <span style=\"color: #a8a8a8; text-decoration-color: #a8a8a8\">unxt._src.quantity.base.</span><span style=\"color: #a8a8a8; text-decoration-color: #a8a8a8; font-weight: bold\">AbstractQuantity</span>                                                                       \n",
       "        &lt;function from_ at 0x116d8f9c0&gt; @ <span style=\"color: #c0c0c0; text-decoration-color: #c0c0c0\">~/Documents/Academia/Conferences &amp; Presentations/2025-09-Thunch and </span>     \n",
       "    <span style=\"color: #c0c0c0; text-decoration-color: #c0c0c0\">Flatiron/Flatiron Presentation/.venv/lib/python3.12/site-packages/jaxtyping/</span><span style=\"color: #c0c0c0; text-decoration-color: #c0c0c0; font-weight: bold; text-decoration: underline\">_decorator.py</span><span style=\"color: #c0c0c0; text-decoration-color: #c0c0c0\">:838</span>                  \n",
       "    [2] from_(cls: <span style=\"font-weight: bold\">type[unxt._src.quantity.base.AbstractQuantity]</span>, *, value, unit, dtype) -&gt;                       \n",
       "    <span style=\"color: #a8a8a8; text-decoration-color: #a8a8a8\">unxt._src.quantity.base.</span><span style=\"color: #a8a8a8; text-decoration-color: #a8a8a8; font-weight: bold\">AbstractQuantity</span>                                                                       \n",
       "        &lt;function from_ at 0x116d8fce0&gt; @ <span style=\"color: #c0c0c0; text-decoration-color: #c0c0c0\">~/Documents/Academia/Conferences &amp; Presentations/2025-09-Thunch and </span>     \n",
       "    <span style=\"color: #c0c0c0; text-decoration-color: #c0c0c0\">Flatiron/Flatiron Presentation/.venv/lib/python3.12/site-packages/jaxtyping/</span><span style=\"color: #c0c0c0; text-decoration-color: #c0c0c0; font-weight: bold; text-decoration: underline\">_decorator.py</span><span style=\"color: #c0c0c0; text-decoration-color: #c0c0c0\">:863</span>                  \n",
       "    [3] from_(cls: <span style=\"font-weight: bold\">type[unxt._src.quantity.base.AbstractQuantity]</span>, mapping: <span style=\"font-weight: bold\">collections.abc.Mapping[str, </span>          \n",
       "    <span style=\"font-weight: bold\">typing.Any]</span>) -&gt; <span style=\"color: #a8a8a8; text-decoration-color: #a8a8a8\">unxt._src.quantity.base.</span><span style=\"color: #a8a8a8; text-decoration-color: #a8a8a8; font-weight: bold\">AbstractQuantity</span>                                                       \n",
       "        &lt;function from_ at 0x116dac220&gt; @ <span style=\"color: #c0c0c0; text-decoration-color: #c0c0c0\">~/Documents/Academia/Conferences &amp; Presentations/2025-09-Thunch and </span>     \n",
       "    <span style=\"color: #c0c0c0; text-decoration-color: #c0c0c0\">Flatiron/Flatiron Presentation/.venv/lib/python3.12/site-packages/jaxtyping/</span><span style=\"color: #c0c0c0; text-decoration-color: #c0c0c0; font-weight: bold; text-decoration: underline\">_decorator.py</span><span style=\"color: #c0c0c0; text-decoration-color: #c0c0c0\">:883</span>                  \n",
       "    [4] from_(cls: <span style=\"font-weight: bold\">type[unxt._src.quantity.base.AbstractQuantity]</span>, value:                                          \n",
       "    <span style=\"color: #a8a8a8; text-decoration-color: #a8a8a8\">unxt._src.quantity.base.</span><span style=\"color: #a8a8a8; text-decoration-color: #a8a8a8; font-weight: bold\">AbstractQuantity</span>, unit: <span style=\"font-weight: bold\">Any</span>, *, dtype) -&gt; <span style=\"color: #a8a8a8; text-decoration-color: #a8a8a8\">unxt._src.quantity.base.</span><span style=\"color: #a8a8a8; text-decoration-color: #a8a8a8; font-weight: bold\">AbstractQuantity</span>     \n",
       "        &lt;function from_ at 0x116dac360&gt; @ <span style=\"color: #c0c0c0; text-decoration-color: #c0c0c0\">~/Documents/Academia/Conferences &amp; Presentations/2025-09-Thunch and </span>     \n",
       "    <span style=\"color: #c0c0c0; text-decoration-color: #c0c0c0\">Flatiron/Flatiron Presentation/.venv/lib/python3.12/site-packages/jaxtyping/</span><span style=\"color: #c0c0c0; text-decoration-color: #c0c0c0; font-weight: bold; text-decoration: underline\">_decorator.py</span><span style=\"color: #c0c0c0; text-decoration-color: #c0c0c0\">:909</span>                  \n",
       "    [5] from_(cls: <span style=\"font-weight: bold\">type[unxt._src.quantity.base.AbstractQuantity]</span>, value:                                          \n",
       "    <span style=\"color: #a8a8a8; text-decoration-color: #a8a8a8\">unxt._src.quantity.base.</span><span style=\"color: #a8a8a8; text-decoration-color: #a8a8a8; font-weight: bold\">AbstractQuantity</span>, unit: <span style=\"font-weight: bold\">NoneType</span>, *, dtype) -&gt;                                         \n",
       "    <span style=\"color: #a8a8a8; text-decoration-color: #a8a8a8\">unxt._src.quantity.base.</span><span style=\"color: #a8a8a8; text-decoration-color: #a8a8a8; font-weight: bold\">AbstractQuantity</span>                                                                       \n",
       "        &lt;function from_ at 0x116dac680&gt; @ <span style=\"color: #c0c0c0; text-decoration-color: #c0c0c0\">~/Documents/Academia/Conferences &amp; Presentations/2025-09-Thunch and </span>     \n",
       "    <span style=\"color: #c0c0c0; text-decoration-color: #c0c0c0\">Flatiron/Flatiron Presentation/.venv/lib/python3.12/site-packages/jaxtyping/</span><span style=\"color: #c0c0c0; text-decoration-color: #c0c0c0; font-weight: bold; text-decoration: underline\">_decorator.py</span><span style=\"color: #c0c0c0; text-decoration-color: #c0c0c0\">:935</span>                  \n",
       "    [6] from_(cls: <span style=\"font-weight: bold\">type[unxt._src.quantity.base.AbstractQuantity]</span>, value:                                          \n",
       "    <span style=\"color: #a8a8a8; text-decoration-color: #a8a8a8\">unxt._src.quantity.base.</span><span style=\"color: #a8a8a8; text-decoration-color: #a8a8a8; font-weight: bold\">AbstractQuantity</span>, *, unit, dtype) -&gt; <span style=\"color: #a8a8a8; text-decoration-color: #a8a8a8\">unxt._src.quantity.base.</span><span style=\"color: #a8a8a8; text-decoration-color: #a8a8a8; font-weight: bold\">AbstractQuantity</span>          \n",
       "        &lt;function from_ at 0x116dac9a0&gt; @ <span style=\"color: #c0c0c0; text-decoration-color: #c0c0c0\">~/Documents/Academia/Conferences &amp; Presentations/2025-09-Thunch and </span>     \n",
       "    <span style=\"color: #c0c0c0; text-decoration-color: #c0c0c0\">Flatiron/Flatiron Presentation/.venv/lib/python3.12/site-packages/jaxtyping/</span><span style=\"color: #c0c0c0; text-decoration-color: #c0c0c0; font-weight: bold; text-decoration: underline\">_decorator.py</span><span style=\"color: #c0c0c0; text-decoration-color: #c0c0c0\">:962</span>                  \n",
       "    [7] from_(cls: <span style=\"font-weight: bold\">type[unxt._src.quantity.base.AbstractQuantity]</span>, value: <span style=\"color: #a8a8a8; text-decoration-color: #a8a8a8\">astropy.units.quantity.</span><span style=\"color: #a8a8a8; text-decoration-color: #a8a8a8; font-weight: bold\">Quantity</span>, *,      \n",
       "    **kwargs) -&gt; <span style=\"color: #a8a8a8; text-decoration-color: #a8a8a8\">unxt._src.quantity.base.</span><span style=\"color: #a8a8a8; text-decoration-color: #a8a8a8; font-weight: bold\">AbstractQuantity</span>                                                          \n",
       "        &lt;function from_ at 0x116ff7a60&gt; @ <span style=\"color: #c0c0c0; text-decoration-color: #c0c0c0\">~/Documents/Academia/Conferences &amp; Presentations/2025-09-Thunch and </span>     \n",
       "    <span style=\"color: #c0c0c0; text-decoration-color: #c0c0c0\">Flatiron/Flatiron </span>                                                                                             \n",
       "    <span style=\"color: #c0c0c0; text-decoration-color: #c0c0c0\">Presentation/.venv/lib/python3.12/site-packages/unxt/_interop/unxt_interop_astropy/</span><span style=\"color: #c0c0c0; text-decoration-color: #c0c0c0; font-weight: bold; text-decoration: underline\">quantity.py</span><span style=\"color: #c0c0c0; text-decoration-color: #c0c0c0\">:53</span>              \n",
       "    [8] from_(cls: <span style=\"font-weight: bold\">type[unxt._src.quantity.base.AbstractQuantity]</span>, value: <span style=\"color: #a8a8a8; text-decoration-color: #a8a8a8\">astropy.units.quantity.</span><span style=\"color: #a8a8a8; text-decoration-color: #a8a8a8; font-weight: bold\">Quantity</span>, u:      \n",
       "    <span style=\"font-weight: bold\">Any</span>, *, **kwargs) -&gt; <span style=\"color: #a8a8a8; text-decoration-color: #a8a8a8\">unxt._src.quantity.base.</span><span style=\"color: #a8a8a8; text-decoration-color: #a8a8a8; font-weight: bold\">AbstractQuantity</span>                                                  \n",
       "        &lt;function from_ at 0x116fc2980&gt; @ <span style=\"color: #c0c0c0; text-decoration-color: #c0c0c0\">~/Documents/Academia/Conferences &amp; Presentations/2025-09-Thunch and </span>     \n",
       "    <span style=\"color: #c0c0c0; text-decoration-color: #c0c0c0\">Flatiron/Flatiron </span>                                                                                             \n",
       "    <span style=\"color: #c0c0c0; text-decoration-color: #c0c0c0\">Presentation/.venv/lib/python3.12/site-packages/unxt/_interop/unxt_interop_astropy/</span><span style=\"color: #c0c0c0; text-decoration-color: #c0c0c0; font-weight: bold; text-decoration: underline\">quantity.py</span><span style=\"color: #c0c0c0; text-decoration-color: #c0c0c0\">:75</span>              \n",
       "</pre>\n"
      ],
      "text/plain": [
       "List of \u001b[1;36m9\u001b[0m \u001b[1;35mmethod\u001b[0m\u001b[1m(\u001b[0ms\u001b[1m)\u001b[0m:\n",
       "    [0] from_(cls: \u001b[1mtype[unxt._src.quantity.base.AbstractQuantity]\u001b[0m, value: \u001b[1mtyping.Union[ArrayLike, \u001b[0m                 \n",
       "    \u001b[1mlist[typing.Union[jaxtyping.Shaped[Array, ''], jaxtyping.Shaped[ndarray, ''], numpy.bool, numpy.number, \u001b[0m       \n",
       "    \u001b[1mbool, int, float, complex]], tuple[typing.Union[jaxtyping.Shaped[Array, ''], jaxtyping.Shaped[ndarray, ''],\u001b[0m    \n",
       "    \u001b[1mnumpy.bool, numpy.number, bool, int, float, complex], ...]]\u001b[0m, unit: \u001b[1mAny\u001b[0m, *, dtype) ->                           \n",
       "    \u001b[38;5;248munxt._src.quantity.base.\u001b[0m\u001b[1;38;5;248mAbstractQuantity\u001b[0m                                                                       \n",
       "        <function from_ at 0x116d8f6a0> @ \u001b[37m~/Documents/Academia/Conferences & Presentations/2025-09-Thunch and \u001b[0m     \n",
       "    \u001b[37mFlatiron/Flatiron Presentation/.venv/lib/python3.12/site-packages/jaxtyping/\u001b[0m\u001b[1;4;37m_decorator.py\u001b[0m\u001b[37m:799\u001b[0m                  \n",
       "    [1] from_(cls: \u001b[1mtype[unxt._src.quantity.base.AbstractQuantity]\u001b[0m, value: \u001b[1mtyping.Union[ArrayLike, \u001b[0m                 \n",
       "    \u001b[1mlist[typing.Union[jaxtyping.Shaped[Array, ''], jaxtyping.Shaped[ndarray, ''], numpy.bool, numpy.number, \u001b[0m       \n",
       "    \u001b[1mbool, int, float, complex]], tuple[typing.Union[jaxtyping.Shaped[Array, ''], jaxtyping.Shaped[ndarray, ''],\u001b[0m    \n",
       "    \u001b[1mnumpy.bool, numpy.number, bool, int, float, complex], ...]]\u001b[0m, *, unit, dtype) ->                                \n",
       "    \u001b[38;5;248munxt._src.quantity.base.\u001b[0m\u001b[1;38;5;248mAbstractQuantity\u001b[0m                                                                       \n",
       "        <function from_ at 0x116d8f9c0> @ \u001b[37m~/Documents/Academia/Conferences & Presentations/2025-09-Thunch and \u001b[0m     \n",
       "    \u001b[37mFlatiron/Flatiron Presentation/.venv/lib/python3.12/site-packages/jaxtyping/\u001b[0m\u001b[1;4;37m_decorator.py\u001b[0m\u001b[37m:838\u001b[0m                  \n",
       "    [2] from_(cls: \u001b[1mtype[unxt._src.quantity.base.AbstractQuantity]\u001b[0m, *, value, unit, dtype) ->                       \n",
       "    \u001b[38;5;248munxt._src.quantity.base.\u001b[0m\u001b[1;38;5;248mAbstractQuantity\u001b[0m                                                                       \n",
       "        <function from_ at 0x116d8fce0> @ \u001b[37m~/Documents/Academia/Conferences & Presentations/2025-09-Thunch and \u001b[0m     \n",
       "    \u001b[37mFlatiron/Flatiron Presentation/.venv/lib/python3.12/site-packages/jaxtyping/\u001b[0m\u001b[1;4;37m_decorator.py\u001b[0m\u001b[37m:863\u001b[0m                  \n",
       "    [3] from_(cls: \u001b[1mtype[unxt._src.quantity.base.AbstractQuantity]\u001b[0m, mapping: \u001b[1mcollections.abc.Mapping[str, \u001b[0m          \n",
       "    \u001b[1mtyping.Any]\u001b[0m) -> \u001b[38;5;248munxt._src.quantity.base.\u001b[0m\u001b[1;38;5;248mAbstractQuantity\u001b[0m                                                       \n",
       "        <function from_ at 0x116dac220> @ \u001b[37m~/Documents/Academia/Conferences & Presentations/2025-09-Thunch and \u001b[0m     \n",
       "    \u001b[37mFlatiron/Flatiron Presentation/.venv/lib/python3.12/site-packages/jaxtyping/\u001b[0m\u001b[1;4;37m_decorator.py\u001b[0m\u001b[37m:883\u001b[0m                  \n",
       "    [4] from_(cls: \u001b[1mtype[unxt._src.quantity.base.AbstractQuantity]\u001b[0m, value:                                          \n",
       "    \u001b[38;5;248munxt._src.quantity.base.\u001b[0m\u001b[1;38;5;248mAbstractQuantity\u001b[0m, unit: \u001b[1mAny\u001b[0m, *, dtype) -> \u001b[38;5;248munxt._src.quantity.base.\u001b[0m\u001b[1;38;5;248mAbstractQuantity\u001b[0m     \n",
       "        <function from_ at 0x116dac360> @ \u001b[37m~/Documents/Academia/Conferences & Presentations/2025-09-Thunch and \u001b[0m     \n",
       "    \u001b[37mFlatiron/Flatiron Presentation/.venv/lib/python3.12/site-packages/jaxtyping/\u001b[0m\u001b[1;4;37m_decorator.py\u001b[0m\u001b[37m:909\u001b[0m                  \n",
       "    [5] from_(cls: \u001b[1mtype[unxt._src.quantity.base.AbstractQuantity]\u001b[0m, value:                                          \n",
       "    \u001b[38;5;248munxt._src.quantity.base.\u001b[0m\u001b[1;38;5;248mAbstractQuantity\u001b[0m, unit: \u001b[1mNoneType\u001b[0m, *, dtype) ->                                         \n",
       "    \u001b[38;5;248munxt._src.quantity.base.\u001b[0m\u001b[1;38;5;248mAbstractQuantity\u001b[0m                                                                       \n",
       "        <function from_ at 0x116dac680> @ \u001b[37m~/Documents/Academia/Conferences & Presentations/2025-09-Thunch and \u001b[0m     \n",
       "    \u001b[37mFlatiron/Flatiron Presentation/.venv/lib/python3.12/site-packages/jaxtyping/\u001b[0m\u001b[1;4;37m_decorator.py\u001b[0m\u001b[37m:935\u001b[0m                  \n",
       "    [6] from_(cls: \u001b[1mtype[unxt._src.quantity.base.AbstractQuantity]\u001b[0m, value:                                          \n",
       "    \u001b[38;5;248munxt._src.quantity.base.\u001b[0m\u001b[1;38;5;248mAbstractQuantity\u001b[0m, *, unit, dtype) -> \u001b[38;5;248munxt._src.quantity.base.\u001b[0m\u001b[1;38;5;248mAbstractQuantity\u001b[0m          \n",
       "        <function from_ at 0x116dac9a0> @ \u001b[37m~/Documents/Academia/Conferences & Presentations/2025-09-Thunch and \u001b[0m     \n",
       "    \u001b[37mFlatiron/Flatiron Presentation/.venv/lib/python3.12/site-packages/jaxtyping/\u001b[0m\u001b[1;4;37m_decorator.py\u001b[0m\u001b[37m:962\u001b[0m                  \n",
       "    [7] from_(cls: \u001b[1mtype[unxt._src.quantity.base.AbstractQuantity]\u001b[0m, value: \u001b[38;5;248mastropy.units.quantity.\u001b[0m\u001b[1;38;5;248mQuantity\u001b[0m, *,      \n",
       "    **kwargs) -> \u001b[38;5;248munxt._src.quantity.base.\u001b[0m\u001b[1;38;5;248mAbstractQuantity\u001b[0m                                                          \n",
       "        <function from_ at 0x116ff7a60> @ \u001b[37m~/Documents/Academia/Conferences & Presentations/2025-09-Thunch and \u001b[0m     \n",
       "    \u001b[37mFlatiron/Flatiron \u001b[0m                                                                                             \n",
       "    \u001b[37mPresentation/.venv/lib/python3.12/site-packages/unxt/_interop/unxt_interop_astropy/\u001b[0m\u001b[1;4;37mquantity.py\u001b[0m\u001b[37m:53\u001b[0m              \n",
       "    [8] from_(cls: \u001b[1mtype[unxt._src.quantity.base.AbstractQuantity]\u001b[0m, value: \u001b[38;5;248mastropy.units.quantity.\u001b[0m\u001b[1;38;5;248mQuantity\u001b[0m, u:      \n",
       "    \u001b[1mAny\u001b[0m, *, **kwargs) -> \u001b[38;5;248munxt._src.quantity.base.\u001b[0m\u001b[1;38;5;248mAbstractQuantity\u001b[0m                                                  \n",
       "        <function from_ at 0x116fc2980> @ \u001b[37m~/Documents/Academia/Conferences & Presentations/2025-09-Thunch and \u001b[0m     \n",
       "    \u001b[37mFlatiron/Flatiron \u001b[0m                                                                                             \n",
       "    \u001b[37mPresentation/.venv/lib/python3.12/site-packages/unxt/_interop/unxt_interop_astropy/\u001b[0m\u001b[1;4;37mquantity.py\u001b[0m\u001b[37m:75\u001b[0m              "
      ]
     },
     "execution_count": 24,
     "metadata": {},
     "output_type": "execute_result"
    }
   ],
   "source": [
    "Quantity.from_._f.methods"
   ]
  },
  {
   "cell_type": "code",
   "execution_count": 25,
   "id": "92cabb31",
   "metadata": {},
   "outputs": [
    {
     "data": {
      "text/html": [
       "<span>[0.001, 0.002, 0.003]</span> * <span>Unit(\"km\")</span>"
      ],
      "text/latex": [
       "$[0.001,~0.002,~0.003] \\; \\mathrm{km}$"
      ],
      "text/plain": [
       "Quantity(Array([0.001, 0.002, 0.003], dtype=float32, weak_type=True), unit='km')"
      ]
     },
     "execution_count": 25,
     "metadata": {},
     "output_type": "execute_result"
    }
   ],
   "source": [
    "# Using a dictionary\n",
    "Quantity.from_({\"value\": x, \"unit\": \"km\"})"
   ]
  },
  {
   "cell_type": "code",
   "execution_count": 26,
   "id": "fe9c9293",
   "metadata": {},
   "outputs": [
    {
     "name": "stdout",
     "output_type": "stream",
     "text": [
      "\u001b[31mSignature:\u001b[39m Quantity.from_(*args: Any, **kwargs: Any) -> \u001b[33m'AbstractQuantity'\u001b[39m\n",
      "\u001b[31mDocstring:\u001b[39m\n",
      "-------------------------------------------------------------------------------------------------------------------------------------------------------------------------------------------------------------------------------------------------------------------------------------------------------------------------------------------------------------------------------------------------------------------------------------\n",
      "\n",
      "from_(cls: type[unxt._src.quantity.base.AbstractQuantity], value: Union[ArrayLike, list[Union[jaxtyping.Shaped[Array, ''], jaxtyping.Shaped[ndarray, ''], numpy.bool, numpy.number, bool, int, float, complex]], tuple[Union[jaxtyping.Shaped[Array, ''], jaxtyping.Shaped[ndarray, ''], numpy.bool, numpy.number, bool, int, float, complex], ...]], unit: Any, /, *, dtype: Any = None) -> unxt._src.quantity.base.AbstractQuantity\n",
      "\n",
      "Construct a `unxt.Quantity` from an array-like value and a unit.\n",
      "\n",
      ":param value: The array-like value.\n",
      ":param unit: The unit of the value.\n",
      ":param dtype: The data type of the array (keyword-only).\n",
      "\n",
      "Examples\n",
      "--------\n",
      "For this example we'll use the `Quantity` class. The same applies to\n",
      "any subclass of `AbstractQuantity`.\n",
      "\n",
      ">>> import jax.numpy as jnp\n",
      ">>> import unxt as u\n",
      "\n",
      ">>> x = jnp.array([1.0, 2, 3])\n",
      ">>> u.Quantity.from_(x, \"m\")\n",
      "Quantity(Array([1., 2., 3.], dtype=float32), unit='m')\n",
      "\n",
      ">>> u.Quantity.from_([1.0, 2, 3], \"m\")\n",
      "Quantity(Array([1., 2., 3.], dtype=float32), unit='m')\n",
      "\n",
      ">>> u.Quantity.from_((1.0, 2, 3), \"m\")\n",
      "Quantity(Array([1., 2., 3.], dtype=float32), unit='m')\n",
      "\n",
      "-------------------------------------------------------------------------------------------------------------------------------------------------------------------------------------------------------------------------------------------------------------------------------------------------------------------------------------------------------------------------------------------------------------------------------------\n",
      "\n",
      "from_(cls: type[unxt._src.quantity.base.AbstractQuantity], value: Union[ArrayLike, list[Union[jaxtyping.Shaped[Array, ''], jaxtyping.Shaped[ndarray, ''], numpy.bool, numpy.number, bool, int, float, complex]], tuple[Union[jaxtyping.Shaped[Array, ''], jaxtyping.Shaped[ndarray, ''], numpy.bool, numpy.number, bool, int, float, complex], ...]], /, *, unit: Any, dtype: Any = None) -> unxt._src.quantity.base.AbstractQuantity\n",
      "\n",
      "Make a `unxt.AbstractQuantity` from an array-like value and a unit kwarg.\n",
      "\n",
      "Examples\n",
      "--------\n",
      "For this example we'll use the `unxt.Quantity` class. The same applies\n",
      "to any subclass of `unxt.AbstractQuantity`.\n",
      "\n",
      ">>> import unxt as u\n",
      ">>> u.Quantity.from_([1.0, 2, 3], unit=\"m\")\n",
      "Quantity(Array([1., 2., 3.], dtype=float32), unit='m')\n",
      "\n",
      "-------------------------------------------------------------------------------------------------------------------------------------------------------------------------------------------------------------------------------------------------------------------------------------------------------------------------------------------------------------------------------------------------------------------------------------\n",
      "\n",
      "from_(cls: type[unxt._src.quantity.base.AbstractQuantity], *, value: Any, unit: Any, dtype: Any = None) -> unxt._src.quantity.base.AbstractQuantity\n",
      "\n",
      "Construct a `AbstractQuantity` from value and unit kwargs.\n",
      "\n",
      "Examples\n",
      "--------\n",
      "For this example we'll use the `Quantity` class. The same applies to\n",
      "any subclass of `AbstractQuantity`.\n",
      "\n",
      ">>> import unxt as u\n",
      ">>> u.Quantity.from_(value=[1.0, 2, 3], unit=\"m\")\n",
      "Quantity(Array([1., 2., 3.], dtype=float32), unit='m')\n",
      "\n",
      "-------------------------------------------------------------------------------------------------------------------------------------------------------------------------------------------------------------------------------------------------------------------------------------------------------------------------------------------------------------------------------------------------------------------------------------\n",
      "\n",
      "from_(cls: type[unxt._src.quantity.base.AbstractQuantity], mapping: collections.abc.Mapping[str, typing.Any]) -> unxt._src.quantity.base.AbstractQuantity\n",
      "\n",
      "Construct a `Quantity` from a Mapping.\n",
      "\n",
      "Examples\n",
      "--------\n",
      "For this example we'll use the `Quantity` class. The same applies to\n",
      "any subclass of `AbstractQuantity`.\n",
      "\n",
      ">>> import jax.numpy as jnp\n",
      ">>> import unxt as u\n",
      "\n",
      ">>> x = jnp.array([1.0, 2, 3])\n",
      ">>> q = u.Quantity.from_({\"value\": x, \"unit\": \"m\"})\n",
      ">>> q\n",
      "Quantity(Array([1., 2., 3.], dtype=float32), unit='m')\n",
      "\n",
      ">>> u.Quantity.from_({\"value\": q, \"unit\": \"km\"})\n",
      "Quantity(Array([0.001, 0.002, 0.003], dtype=float32), unit='km')\n",
      "\n",
      "-------------------------------------------------------------------------------------------------------------------------------------------------------------------------------------------------------------------------------------------------------------------------------------------------------------------------------------------------------------------------------------------------------------------------------------\n",
      "\n",
      "from_(cls: type[unxt._src.quantity.base.AbstractQuantity], value: unxt._src.quantity.base.AbstractQuantity, unit: Any, /, *, dtype: Any = None) -> unxt._src.quantity.base.AbstractQuantity\n",
      "\n",
      "Construct a `Quantity` from another `Quantity`.\n",
      "\n",
      "The `value` is converted to the new `unit`.\n",
      "\n",
      "Examples\n",
      "--------\n",
      ">>> import unxt as u\n",
      "\n",
      ">>> q = u.Quantity(1, \"m\")\n",
      ">>> u.Quantity.from_(q, \"cm\")\n",
      "Quantity(Array(100., dtype=float32, ...), unit='cm')\n",
      "\n",
      "-------------------------------------------------------------------------------------------------------------------------------------------------------------------------------------------------------------------------------------------------------------------------------------------------------------------------------------------------------------------------------------------------------------------------------------\n",
      "\n",
      "from_(cls: type[unxt._src.quantity.base.AbstractQuantity], value: unxt._src.quantity.base.AbstractQuantity, unit: NoneType, /, *, dtype: Any = None) -> unxt._src.quantity.base.AbstractQuantity\n",
      "\n",
      "Construct a `Quantity` from another `Quantity`.\n",
      "\n",
      "The `value` is converted to the new `unit`.\n",
      "\n",
      "Examples\n",
      "--------\n",
      ">>> import unxt as u\n",
      "\n",
      ">>> q = u.Quantity(1, \"m\")\n",
      ">>> u.Quantity.from_(q, None)\n",
      "Quantity(Array(1, dtype=int32, ...), unit='m')\n",
      "\n",
      "-------------------------------------------------------------------------------------------------------------------------------------------------------------------------------------------------------------------------------------------------------------------------------------------------------------------------------------------------------------------------------------------------------------------------------------\n",
      "\n",
      "from_(cls: type[unxt._src.quantity.base.AbstractQuantity], value: unxt._src.quantity.base.AbstractQuantity, /, *, unit: typing.Any | None = None, dtype: Any = None) -> unxt._src.quantity.base.AbstractQuantity\n",
      "\n",
      "Construct a `Quantity` from another `Quantity`, with no unit change.\n",
      "\n",
      "-------------------------------------------------------------------------------------------------------------------------------------------------------------------------------------------------------------------------------------------------------------------------------------------------------------------------------------------------------------------------------------------------------------------------------------\n",
      "\n",
      "from_(cls: type[unxt._src.quantity.base.AbstractQuantity], value: astropy.units.quantity.Quantity, /, **kwargs: Any) -> unxt._src.quantity.base.AbstractQuantity\n",
      "\n",
      "Construct a `Quantity` from another `Quantity`.\n",
      "\n",
      "The `value` is converted to the new `unit`.\n",
      "\n",
      "Examples\n",
      "--------\n",
      ">>> import unxt as u\n",
      ">>> import astropy.units as apyu\n",
      "\n",
      ">>> u.Quantity.from_(apyu.Quantity(1, \"m\"))\n",
      "Quantity(Array(1., dtype=float32), unit='m')\n",
      "\n",
      "-------------------------------------------------------------------------------------------------------------------------------------------------------------------------------------------------------------------------------------------------------------------------------------------------------------------------------------------------------------------------------------------------------------------------------------\n",
      "\n",
      "from_(cls: type[unxt._src.quantity.base.AbstractQuantity], value: astropy.units.quantity.Quantity, u: Any, /, **kwargs: Any) -> unxt._src.quantity.base.AbstractQuantity\n",
      "\n",
      "Construct a `Quantity` from another `Quantity`.\n",
      "\n",
      "The `value` is converted to the new `unit`.\n",
      "\n",
      "Examples\n",
      "--------\n",
      ">>> import unxt as u\n",
      ">>> import astropy.units as apyu\n",
      "\n",
      ">>> u.Quantity.from_(apyu.Quantity(1, \"m\"), \"cm\")\n",
      "Quantity(Array(100., dtype=float32), unit='cm')\n",
      "\u001b[31mFile:\u001b[39m      ~/Documents/Academia/Conferences & Presentations/2025-09-Thunch and Flatiron/Flatiron Presentation/.venv/lib/python3.12/site-packages/unxt/_src/quantity/base.py\n",
      "\u001b[31mType:\u001b[39m      method"
     ]
    }
   ],
   "source": [
    "Quantity.from_?"
   ]
  },
  {
   "cell_type": "markdown",
   "id": "5531196e",
   "metadata": {},
   "source": [
    "## Non-Parametric"
   ]
  },
  {
   "cell_type": "markdown",
   "id": "c45070ad",
   "metadata": {},
   "source": [
    "Parametric types can be slower (it's pretty marginal).\n",
    "If in a hot-path it ends up being a limiting factor,\n",
    "`unxt` offers a non-parametric Quantity."
   ]
  },
  {
   "cell_type": "code",
   "execution_count": 27,
   "id": "59eb5893",
   "metadata": {},
   "outputs": [],
   "source": [
    "from unxt.quantity import BareQuantity"
   ]
  },
  {
   "cell_type": "code",
   "execution_count": 28,
   "id": "c125242c",
   "metadata": {},
   "outputs": [
    {
     "data": {
      "text/html": [
       "<span>100</span> * <span>Unit(\"km\")</span>"
      ],
      "text/latex": [
       "$100 \\; \\mathrm{km}$"
      ],
      "text/plain": [
       "BareQuantity(Array(100, dtype=int32, weak_type=True), unit='km')"
      ]
     },
     "execution_count": 28,
     "metadata": {},
     "output_type": "execute_result"
    }
   ],
   "source": [
    "x = BareQuantity(100, \"km\")\n",
    "x"
   ]
  },
  {
   "cell_type": "code",
   "execution_count": 29,
   "id": "ce2a3dfe",
   "metadata": {},
   "outputs": [
    {
     "data": {
      "text/html": [
       "<span>4.641589</span> * <span>Unit(\"km(1/3)\")</span>"
      ],
      "text/latex": [
       "$4.641589 \\; \\mathrm{km^{1/3}}$"
      ],
      "text/plain": [
       "BareQuantity(Array(4.641589, dtype=float32, weak_type=True), unit='km(1/3)')"
      ]
     },
     "execution_count": 29,
     "metadata": {},
     "output_type": "execute_result"
    }
   ],
   "source": [
    "qnp.cbrt(x)"
   ]
  },
  {
   "cell_type": "code",
   "execution_count": null,
   "id": "733f1691",
   "metadata": {},
   "outputs": [],
   "source": []
  },
  {
   "cell_type": "markdown",
   "id": "b7bd6add",
   "metadata": {},
   "source": [
    "## Distance / Parallax"
   ]
  },
  {
   "cell_type": "markdown",
   "id": "520d6386",
   "metadata": {},
   "source": [
    "This is similar to Astropy's \n",
    "``astropy.coordinates.Distance``"
   ]
  },
  {
   "cell_type": "code",
   "execution_count": 30,
   "id": "e9f773d7",
   "metadata": {},
   "outputs": [],
   "source": [
    "from coordinax import Distance"
   ]
  },
  {
   "cell_type": "code",
   "execution_count": 31,
   "id": "bc6f8093",
   "metadata": {},
   "outputs": [
    {
     "data": {
      "text/html": [
       "<span>[1, 2, 3]</span> * <span>Unit(\"m\")</span>"
      ],
      "text/latex": [
       "$[1,~2,~3] \\; \\mathrm{m}$"
      ],
      "text/plain": [
       "Distance(Array([1, 2, 3], dtype=int32), unit='m')"
      ]
     },
     "execution_count": 31,
     "metadata": {},
     "output_type": "execute_result"
    }
   ],
   "source": [
    "d = Distance([1, 2, 3], 'm')\n",
    "d"
   ]
  },
  {
   "cell_type": "markdown",
   "id": "90bfbad8",
   "metadata": {},
   "source": [
    "We can use it as normal"
   ]
  },
  {
   "cell_type": "code",
   "execution_count": 32,
   "id": "55c5fe52",
   "metadata": {},
   "outputs": [
    {
     "data": {
      "text/html": [
       "<span>[1.       , 1.41421354, 1.73205078]</span> * <span>Unit(\"m(1/2)\")</span>"
      ],
      "text/latex": [
       "$[1.       ,~1.41421354,~1.73205078] \\; \\mathrm{m^{1/2}}$"
      ],
      "text/plain": [
       "BareQuantity(Array([1.       , 1.4142135, 1.7320508], dtype=float32), unit='m(1/2)')"
      ]
     },
     "execution_count": 32,
     "metadata": {},
     "output_type": "execute_result"
    }
   ],
   "source": [
    "qnp.sqrt(d)"
   ]
  },
  {
   "cell_type": "markdown",
   "id": "a29a7c9e",
   "metadata": {},
   "source": [
    "Like Astropy, this has methods for converting between distance measures"
   ]
  },
  {
   "cell_type": "code",
   "execution_count": 33,
   "id": "eee7446d",
   "metadata": {},
   "outputs": [
    {
     "data": {
      "text/html": [
       "<span>[1, 2, 3]</span> * <span>Unit(\"m\")</span>"
      ],
      "text/latex": [
       "$[1,~2,~3] \\; \\mathrm{m}$"
      ],
      "text/plain": [
       "Distance(Array([1, 2, 3], dtype=int32), unit='m')"
      ]
     },
     "execution_count": 33,
     "metadata": {},
     "output_type": "execute_result"
    }
   ],
   "source": [
    "d.distance"
   ]
  },
  {
   "cell_type": "code",
   "execution_count": 34,
   "id": "6ed3ce87",
   "metadata": {},
   "outputs": [
    {
     "data": {
      "text/html": [
       "<span>[1.57079637, 1.57079637, 1.57079637]</span> * <span>Unit(\"rad\")</span>"
      ],
      "text/latex": [
       "$[1.57079637,~1.57079637,~1.57079637] \\; \\mathrm{rad}$"
      ],
      "text/plain": [
       "Parallax(Array([1.5707964, 1.5707964, 1.5707964], dtype=float32), unit='rad')"
      ]
     },
     "execution_count": 34,
     "metadata": {},
     "output_type": "execute_result"
    }
   ],
   "source": [
    "d.parallax"
   ]
  },
  {
   "cell_type": "code",
   "execution_count": 35,
   "id": "2ada00a9",
   "metadata": {},
   "outputs": [
    {
     "data": {
      "text/html": [
       "<span>[-87.44674683, -85.94160461, -85.0611496]</span> * <span>Unit(\"mag\")</span>"
      ],
      "text/latex": [
       "$[-87.44674683,~-85.94160461,~-85.0611496] \\; \\mathrm{mag}$"
      ],
      "text/plain": [
       "DistanceModulus(Array([-87.44675 , -85.941605, -85.06115 ], dtype=float32), unit='mag')"
      ]
     },
     "execution_count": 35,
     "metadata": {},
     "output_type": "execute_result"
    }
   ],
   "source": [
    "d.distance_modulus"
   ]
  },
  {
   "cell_type": "markdown",
   "id": "554b4507",
   "metadata": {},
   "source": [
    "There are convenient constructors"
   ]
  },
  {
   "cell_type": "markdown",
   "id": "55984206",
   "metadata": {},
   "source": [
    "Parallax:"
   ]
  },
  {
   "cell_type": "code",
   "execution_count": 36,
   "id": "697c73a4",
   "metadata": {},
   "outputs": [
    {
     "data": {
      "text/html": [
       "<span>[0.64209259]</span> * <span>Unit(\"AU\")</span>"
      ],
      "text/latex": [
       "$[0.64209259] \\; \\mathrm{AU}$"
      ],
      "text/plain": [
       "Distance(Array([0.6420926], dtype=float32), unit='AU')"
      ]
     },
     "execution_count": 36,
     "metadata": {},
     "output_type": "execute_result"
    }
   ],
   "source": [
    "Distance.from_(Quantity([1.], \"rad\"))"
   ]
  },
  {
   "cell_type": "code",
   "execution_count": null,
   "id": "bec143d0",
   "metadata": {},
   "outputs": [],
   "source": []
  },
  {
   "cell_type": "markdown",
   "id": "223eccf0",
   "metadata": {},
   "source": [
    "See the Parallax class"
   ]
  },
  {
   "cell_type": "code",
   "execution_count": 37,
   "id": "75095f7d",
   "metadata": {},
   "outputs": [],
   "source": [
    "from coordinax.angle import Parallax"
   ]
  },
  {
   "cell_type": "code",
   "execution_count": 38,
   "id": "f1182768",
   "metadata": {},
   "outputs": [
    {
     "data": {
      "text/html": [
       "<span>[1., 2., 3.]</span> * <span>Unit(\"mas\")</span>"
      ],
      "text/latex": [
       "$[1.,~2.,~3.] \\; \\mathrm{mas}$"
      ],
      "text/plain": [
       "Parallax(Array([1., 2., 3.], dtype=float32), unit='mas')"
      ]
     },
     "execution_count": 38,
     "metadata": {},
     "output_type": "execute_result"
    }
   ],
   "source": [
    "p = Parallax([1., 2, 3], 'mas')\n",
    "p"
   ]
  },
  {
   "cell_type": "code",
   "execution_count": 39,
   "id": "2d935b7d",
   "metadata": {},
   "outputs": [
    {
     "data": {
      "text/html": [
       "<span>[2.0626480e+08, 1.0313240e+08, 6.8754936e+07]</span> * <span>Unit(\"AU\")</span>"
      ],
      "text/latex": [
       "$[2.0626480e+08,~1.0313240e+08,~6.8754936e+07] \\; \\mathrm{AU}$"
      ],
      "text/plain": [
       "Distance(Array([2.0626480e+08, 1.0313240e+08, 6.8754936e+07], dtype=float32), unit='AU')"
      ]
     },
     "execution_count": 39,
     "metadata": {},
     "output_type": "execute_result"
    }
   ],
   "source": [
    "p.distance"
   ]
  },
  {
   "cell_type": "code",
   "execution_count": 40,
   "id": "60c903d7",
   "metadata": {},
   "outputs": [
    {
     "data": {
      "text/html": [
       "<span>[1., 2., 3.]</span> * <span>Unit(\"mas\")</span>"
      ],
      "text/latex": [
       "$[1.,~2.,~3.] \\; \\mathrm{mas}$"
      ],
      "text/plain": [
       "Parallax(Array([1., 2., 3.], dtype=float32), unit='mas')"
      ]
     },
     "execution_count": 40,
     "metadata": {},
     "output_type": "execute_result"
    }
   ],
   "source": [
    "p.parallax"
   ]
  },
  {
   "cell_type": "code",
   "execution_count": 41,
   "id": "5bfa3c5b",
   "metadata": {},
   "outputs": [
    {
     "data": {
      "text/html": [
       "<span>[10.      ,  8.49485016,  7.61439323]</span> * <span>Unit(\"mag\")</span>"
      ],
      "text/latex": [
       "$[10.      ,~ 8.49485016,~ 7.61439323] \\; \\mathrm{mag}$"
      ],
      "text/plain": [
       "DistanceModulus(Array([10.      ,  8.49485 ,  7.614393], dtype=float32), unit='mag')"
      ]
     },
     "execution_count": 41,
     "metadata": {},
     "output_type": "execute_result"
    }
   ],
   "source": [
    "p.distance_modulus"
   ]
  },
  {
   "cell_type": "code",
   "execution_count": null,
   "id": "deed5f21",
   "metadata": {},
   "outputs": [],
   "source": []
  },
  {
   "cell_type": "markdown",
   "id": "a28ea125",
   "metadata": {},
   "source": [
    "<div class=\"alert alert-block alert-success\">\n",
    "<b>Exercise:</b> Build a DistanceModulus class\n",
    "</div>"
   ]
  },
  {
   "cell_type": "markdown",
   "id": "5bce1586",
   "metadata": {},
   "source": [
    "Hint, check out `coordinax.distance.DistanceModulus`"
   ]
  },
  {
   "cell_type": "code",
   "execution_count": null,
   "id": "6fb1112a",
   "metadata": {},
   "outputs": [],
   "source": []
  },
  {
   "cell_type": "code",
   "execution_count": null,
   "id": "f770bd77",
   "metadata": {},
   "outputs": [],
   "source": []
  },
  {
   "cell_type": "markdown",
   "id": "6c6bb68b",
   "metadata": {},
   "source": [
    "## Unit Systems"
   ]
  },
  {
   "cell_type": "markdown",
   "id": "15502915",
   "metadata": {},
   "source": [
    "If you've used `gala.units` then you're familiar with Astropy-compatible unit systems!"
   ]
  },
  {
   "cell_type": "code",
   "execution_count": 42,
   "id": "410bfdab",
   "metadata": {},
   "outputs": [],
   "source": [
    "from unxt.unitsystems import unitsystem, galactic, solarsystem"
   ]
  },
  {
   "cell_type": "code",
   "execution_count": 43,
   "id": "0ef35db2",
   "metadata": {},
   "outputs": [
    {
     "name": "stdout",
     "output_type": "stream",
     "text": [
      "\u001b[31mSignature:\u001b[39m       unitsystem(usys: unxt._src.unitsystems.base.AbstractUnitSystem, /) -> unxt._src.unitsystems.base.AbstractUnitSystem\n",
      "\u001b[31mCall signature:\u001b[39m  unitsystem(*args, **kw_args)\n",
      "\u001b[31mType:\u001b[39m            Function\n",
      "\u001b[31mString form:\u001b[39m     <multiple-dispatch function unitsystem (with 9 registered and 0 pending method(s))>\n",
      "\u001b[31mFile:\u001b[39m            ~/Documents/Academia/Conferences & Presentations/2025-09-Thunch and Flatiron/Flatiron Presentation/.venv/lib/python3.12/site-packages/unxt/_src/unitsystems/core.py\n",
      "\u001b[31mDocstring:\u001b[39m      \n",
      "Convert a UnitSystem to a UnitSystem.\n",
      "\n",
      "Examples\n",
      "--------\n",
      ">>> from unxt.unitsystems import unitsystem\n",
      ">>> usys = unitsystem(\"kpc\", \"Myr\", \"Msun\", \"radian\")\n",
      ">>> usys\n",
      "unitsystem(kpc, Myr, solMass, rad)\n",
      "\n",
      ">>> unitsystem(usys) is usys\n",
      "True\n",
      "\n",
      "-----------------------------------------------------------------------------------------------------------------------------------------------------------\n",
      "\n",
      "unitsystem(seq: collections.abc.Sequence[typing.Any], /) -> unxt._src.unitsystems.base.AbstractUnitSystem\n",
      "\n",
      "Convert a UnitSystem or tuple of arguments to a UnitSystem.\n",
      "\n",
      "Examples\n",
      "--------\n",
      ">>> import unxt as u\n",
      "\n",
      ">>> u.unitsystem(())\n",
      "DimensionlessUnitSystem()\n",
      "\n",
      ">>> u.unitsystem((\"kpc\", \"Myr\", \"Msun\", \"radian\"))\n",
      "unitsystem(kpc, Myr, solMass, rad)\n",
      "\n",
      ">>> u.unitsystem([\"kpc\", \"Myr\", \"Msun\", \"radian\"])\n",
      "unitsystem(kpc, Myr, solMass, rad)\n",
      "\n",
      "-----------------------------------------------------------------------------------------------------------------------------------------------------------\n",
      "\n",
      "unitsystem(_: NoneType, /) -> unxt._src.unitsystems.builtin.DimensionlessUnitSystem\n",
      "\n",
      "Dimensionless unit system from None.\n",
      "\n",
      "Examples\n",
      "--------\n",
      ">>> from unxt.unitsystems import unitsystem\n",
      ">>> unitsystem(None)\n",
      "DimensionlessUnitSystem()\n",
      "\n",
      "-----------------------------------------------------------------------------------------------------------------------------------------------------------\n",
      "\n",
      "unitsystem(*args: Any) -> unxt._src.unitsystems.base.AbstractUnitSystem\n",
      "\n",
      "Convert a set of arguments to a UnitSystem.\n",
      "\n",
      "Examples\n",
      "--------\n",
      ">>> from unxt.unitsystems import unitsystem\n",
      "\n",
      ">>> unitsystem(\"kpc\", \"Myr\", \"Msun\", \"radian\")\n",
      "unitsystem(kpc, Myr, solMass, rad)\n",
      "\n",
      "-----------------------------------------------------------------------------------------------------------------------------------------------------------\n",
      "\n",
      "unitsystem(name: str, /) -> unxt._src.unitsystems.base.AbstractUnitSystem\n",
      "\n",
      "Return unit system from name.\n",
      "\n",
      "Examples\n",
      "--------\n",
      ">>> from unxt.unitsystems import unitsystem\n",
      ">>> unitsystem(\"galactic\")\n",
      "unitsystem(kpc, Myr, solMass, rad)\n",
      "\n",
      ">>> unitsystem(\"solarsystem\")\n",
      "unitsystem(AU, yr, solMass, rad)\n",
      "\n",
      ">>> unitsystem(\"dimensionless\")\n",
      "DimensionlessUnitSystem()\n",
      "\n",
      "-----------------------------------------------------------------------------------------------------------------------------------------------------------\n",
      "\n",
      "unitsystem(usys: unxt._src.unitsystems.base.AbstractUnitSystem, *args: Any) -> unxt._src.unitsystems.base.AbstractUnitSystem\n",
      "\n",
      "Create a unit system from an existing unit system and additional units.\n",
      "\n",
      "Examples\n",
      "--------\n",
      "We can add a new unit definition to an existing unit system:\n",
      "\n",
      ">>> from unxt.unitsystems import unitsystem\n",
      ">>> usys = unitsystem(\"galactic\")\n",
      ">>> unitsystem(usys, \"km/s\")\n",
      "LengthTimeMassAngleSpeedUnitSystem(length=Unit(\"kpc\"), time=Unit(\"Myr\"), mass=Unit(\"solMass\"), angle=Unit(\"rad\"), speed=Unit(\"km / s\"))\n",
      "\n",
      "We can also override the base unit of an existing unit system:\n",
      "\n",
      ">>> new_usys = unitsystem(usys, \"pc\")\n",
      ">>> new_usys\n",
      "TimeMassAngleLengthUnitSystem(time=Unit(\"Myr\"), mass=Unit(\"solMass\"), angle=Unit(\"rad\"), length=Unit(\"pc\"))\n",
      "\n",
      "-----------------------------------------------------------------------------------------------------------------------------------------------------------\n",
      "\n",
      "unitsystem(flag: type[unxt._src.unitsystems.flags.AbstractUSysFlag], *_: Any) -> unxt._src.unitsystems.base.AbstractUnitSystem\n",
      "\n",
      "Raise an exception since the flag is abstract.\n",
      "\n",
      "-----------------------------------------------------------------------------------------------------------------------------------------------------------\n",
      "\n",
      "unitsystem(flag: type[unxt._src.unitsystems.flags.StandardUSysFlag], *args: Any) -> unxt._src.unitsystems.base.AbstractUnitSystem\n",
      "\n",
      "Create a standard unit system using the inputted units.\n",
      "\n",
      "Examples\n",
      "--------\n",
      ">>> from unxt import unitsystem, unitsystems\n",
      ">>> unitsystem(unitsystems.StandardUSysFlag, \"kpc\", \"Myr\", \"Msun\")\n",
      "LengthTimeMassUnitSystem(length=Unit(\"kpc\"), time=Unit(\"Myr\"), mass=Unit(\"solMass\"))\n",
      "\n",
      "-----------------------------------------------------------------------------------------------------------------------------------------------------------\n",
      "\n",
      "unitsystem(flag: type[unxt._src.unitsystems.flags.DynamicalSimUSysFlag], *args: Any, G: float | int = 1.0) -> unxt._src.unitsystems.base.AbstractUnitSystem\n",
      "\n",
      "Make a dynamical unit system.\n",
      "\n",
      "Examples\n",
      "--------\n",
      ">>> from unxt.unitsystems import unitsystem, DynamicalSimUSysFlag\n",
      "\n",
      ">>> unitsystem(DynamicalSimUSysFlag, \"m\", \"kg\")\n",
      "LengthMassTimeUnitSystem(length=Unit(\"m\"), mass=Unit(\"kg\"), time=Unit(\"122404 s\"))\n",
      "\u001b[31mClass docstring:\u001b[39m\n",
      "A function.\n",
      "\n",
      "Args:\n",
      "    f (function): Function that is wrapped.\n",
      "    owner (str, optional): Name of the class that owns the function.\n",
      "    warn_redefinition (bool, optional): Throw a warning whenever a method is\n",
      "        redefined. Defaults to `False`."
     ]
    }
   ],
   "source": [
    "unitsystem?"
   ]
  },
  {
   "cell_type": "code",
   "execution_count": 44,
   "id": "d5ae73d2",
   "metadata": {},
   "outputs": [
    {
     "data": {
      "text/plain": [
       "unitsystem(kpc, Gyr, solMass, deg)"
      ]
     },
     "execution_count": 44,
     "metadata": {},
     "output_type": "execute_result"
    }
   ],
   "source": [
    "usys = unitsystem(\"kpc\", \"Gyr\", \"solMass\", \"deg\")\n",
    "usys"
   ]
  },
  {
   "cell_type": "markdown",
   "id": "7df43b18",
   "metadata": {},
   "source": [
    "There are also pre-defined unit systems"
   ]
  },
  {
   "cell_type": "code",
   "execution_count": 45,
   "id": "2f598fc5",
   "metadata": {},
   "outputs": [
    {
     "data": {
      "text/plain": [
       "unitsystem(kpc, Myr, solMass, rad)"
      ]
     },
     "execution_count": 45,
     "metadata": {},
     "output_type": "execute_result"
    }
   ],
   "source": [
    "galactic"
   ]
  },
  {
   "cell_type": "code",
   "execution_count": 46,
   "id": "4e444d45",
   "metadata": {},
   "outputs": [
    {
     "data": {
      "text/plain": [
       "unitsystem(AU, yr, solMass, rad)"
      ]
     },
     "execution_count": 46,
     "metadata": {},
     "output_type": "execute_result"
    }
   ],
   "source": [
    "solarsystem"
   ]
  },
  {
   "cell_type": "markdown",
   "id": "51207d0b",
   "metadata": {},
   "source": [
    "The unit systems are useful when working with Quantities."
   ]
  },
  {
   "cell_type": "code",
   "execution_count": 47,
   "id": "80876715",
   "metadata": {},
   "outputs": [
    {
     "name": "stdout",
     "output_type": "stream",
     "text": [
      "BareQuantity(weak_i32[], unit='km')\n"
     ]
    },
    {
     "data": {
      "text/html": [
       "<span>3.2407792e-15</span> * <span>Unit(\"kpc\")</span>"
      ],
      "text/latex": [
       "$3.2407792e-15 \\; \\mathrm{kpc}$"
      ],
      "text/plain": [
       "BareQuantity(Array(3.2407792e-15, dtype=float32, weak_type=True), unit='kpc')"
      ]
     },
     "execution_count": 47,
     "metadata": {},
     "output_type": "execute_result"
    }
   ],
   "source": [
    "print(x)\n",
    "x.decompose(usys)"
   ]
  },
  {
   "cell_type": "code",
   "execution_count": 48,
   "id": "fc7482e4",
   "metadata": {},
   "outputs": [
    {
     "data": {
      "text/html": [
       "<span>[3.06601405, 6.1320281, 9.19804192]</span> * <span>Unit(\"kpc\")</span>"
      ],
      "text/latex": [
       "$[3.06601405,~6.1320281,~9.19804192] \\; \\mathrm{kpc}$"
      ],
      "text/plain": [
       "Quantity(Array([3.066014, 6.132028, 9.198042], dtype=float32, weak_type=True),\n",
       "    unit='kpc')"
      ]
     },
     "execution_count": 48,
     "metadata": {},
     "output_type": "execute_result"
    }
   ],
   "source": [
    "x = 1e4 * Quantity([1, 2, 3], 'lyr')\n",
    "x.uconvert(usys[\"length\"])"
   ]
  },
  {
   "cell_type": "code",
   "execution_count": 49,
   "id": "5d694066",
   "metadata": {},
   "outputs": [
    {
     "data": {
      "text/html": [
       "<span>[1103.76501465, 2207.5300293, 3311.29492188]</span> * <span>Unit(\"kpc / deg\")</span>"
      ],
      "text/latex": [
       "$[1103.76501465,~2207.5300293,~3311.29492188] \\; \\mathrm{\\frac{kpc}{{}^{\\circ}}}$"
      ],
      "text/plain": [
       "Quantity(Array([1103.765, 2207.53 , 3311.295], dtype=float32, weak_type=True),\n",
       "    unit='kpc / deg')"
      ]
     },
     "execution_count": 49,
     "metadata": {},
     "output_type": "execute_result"
    }
   ],
   "source": [
    "Quantity([1, 2, 3], 'lyr / mas').decompose(usys)"
   ]
  },
  {
   "cell_type": "code",
   "execution_count": null,
   "id": "c2103833",
   "metadata": {},
   "outputs": [],
   "source": []
  },
  {
   "cell_type": "markdown",
   "id": "4bcb748d",
   "metadata": {},
   "source": [
    "## Astropy Compatibility"
   ]
  },
  {
   "cell_type": "markdown",
   "id": "81d320a7",
   "metadata": {},
   "source": [
    "`unxt.Quantity` can be made from an Astropy Quantity"
   ]
  },
  {
   "cell_type": "code",
   "execution_count": 50,
   "id": "b8acdda2",
   "metadata": {},
   "outputs": [
    {
     "data": {
      "text/html": [
       "<span>1.</span> * <span>Unit(\"kpc\")</span>"
      ],
      "text/latex": [
       "$1. \\; \\mathrm{kpc}$"
      ],
      "text/plain": [
       "Quantity(Array(1., dtype=float32), unit='kpc')"
      ]
     },
     "execution_count": 50,
     "metadata": {},
     "output_type": "execute_result"
    }
   ],
   "source": [
    "x = Quantity.from_(u.Quantity(1, \"kpc\"))\n",
    "x"
   ]
  },
  {
   "cell_type": "markdown",
   "id": "1aa14331",
   "metadata": {},
   "source": [
    "And it can be converted to Astropy"
   ]
  },
  {
   "cell_type": "code",
   "execution_count": 51,
   "id": "9afebfa0",
   "metadata": {},
   "outputs": [
    {
     "data": {
      "text/latex": [
       "$1 \\; \\mathrm{kpc}$"
      ],
      "text/plain": [
       "<Quantity 1. kpc>"
      ]
     },
     "execution_count": 51,
     "metadata": {},
     "output_type": "execute_result"
    }
   ],
   "source": [
    "from plum import convert\n",
    "\n",
    "convert(x, u.Quantity)"
   ]
  },
  {
   "cell_type": "code",
   "execution_count": null,
   "id": "810395ab",
   "metadata": {},
   "outputs": [],
   "source": []
  },
  {
   "cell_type": "markdown",
   "id": "14cf4e3c",
   "metadata": {},
   "source": [
    "## Differentiation"
   ]
  },
  {
   "cell_type": "markdown",
   "id": "7a0cba68",
   "metadata": {},
   "source": [
    "`unxt` fully integrates with `JAX` differentiation."
   ]
  },
  {
   "cell_type": "code",
   "execution_count": 52,
   "id": "0b10189c",
   "metadata": {},
   "outputs": [
    {
     "data": {
      "text/plain": [
       "<function __main__.polynomial(x: jaxtyping.Float[Quantity[PhysicalType('area')], 'N'], a0: jaxtyping.Float[Quantity[PhysicalType('volume')], ''], a1: jaxtyping.Float[Quantity[PhysicalType('length')], ''], a2: jaxtyping.Float[Quantity[PhysicalType('wavenumber')], '']) -> jaxtyping.Float[Quantity[PhysicalType('volume')], 'N']>"
      ]
     },
     "execution_count": 52,
     "metadata": {},
     "output_type": "execute_result"
    }
   ],
   "source": [
    "def polynomial(\n",
    "    x: Float[Quantity[\"area\"], \"N\"],\n",
    "    a0: Float[Quantity[\"volume\"], \"\"],\n",
    "    a1: Float[Quantity[\"length\"], \"\"],\n",
    "    a2: Float[Quantity[\"1/m\"], \"\"],\n",
    ") -> Float[Quantity[\"volume\"], \"N\"]:\n",
    "    return a0 + a1 * x ** 1 + a2 * x ** 2\n",
    "\n",
    "polynomial"
   ]
  },
  {
   "cell_type": "code",
   "execution_count": 53,
   "id": "1be2e09f",
   "metadata": {},
   "outputs": [],
   "source": [
    "x = Quantity(1.0, \"km2\")\n",
    "a0, a1, a2 = Quantity(1, \"km3\"), Quantity(2, \"km\"), Quantity(3, \"1/km\")"
   ]
  },
  {
   "cell_type": "code",
   "execution_count": 54,
   "id": "0d317921",
   "metadata": {},
   "outputs": [
    {
     "data": {
      "text/html": [
       "<span>6.</span> * <span>Unit(\"km3\")</span>"
      ],
      "text/latex": [
       "$6. \\; \\mathrm{km^{3}}$"
      ],
      "text/plain": [
       "Quantity(Array(6., dtype=float32, weak_type=True), unit='km3')"
      ]
     },
     "execution_count": 54,
     "metadata": {},
     "output_type": "execute_result"
    }
   ],
   "source": [
    "polynomial(x, a0, a1, a2)"
   ]
  },
  {
   "cell_type": "code",
   "execution_count": 55,
   "id": "7723f045",
   "metadata": {},
   "outputs": [
    {
     "data": {
      "text/html": [
       "<span>8.</span> * <span>Unit(\"km\")</span>"
      ],
      "text/latex": [
       "$8. \\; \\mathrm{km}$"
      ],
      "text/plain": [
       "Quantity(Array(8., dtype=float32), unit='km')"
      ]
     },
     "execution_count": 55,
     "metadata": {},
     "output_type": "execute_result"
    }
   ],
   "source": [
    "grad_fn = quaxify(jax.grad(polynomial))\n",
    "grad_fn(x, a0, a1, a2)"
   ]
  },
  {
   "cell_type": "code",
   "execution_count": 56,
   "id": "effcc0eb",
   "metadata": {},
   "outputs": [
    {
     "data": {
      "text/html": [
       "<span>8.</span> * <span>Unit(\"km\")</span>"
      ],
      "text/latex": [
       "$8. \\; \\mathrm{km}$"
      ],
      "text/plain": [
       "Quantity(Array(8., dtype=float32), unit='km')"
      ]
     },
     "execution_count": 56,
     "metadata": {},
     "output_type": "execute_result"
    }
   ],
   "source": [
    "# Alternatively:\n",
    "\n",
    "from quaxed import grad as qgrad\n",
    "\n",
    "qgrad(polynomial)(x, a0, a1, a2)"
   ]
  },
  {
   "cell_type": "code",
   "execution_count": null,
   "id": "194576ed",
   "metadata": {},
   "outputs": [],
   "source": []
  }
 ],
 "metadata": {
  "kernelspec": {
   "display_name": "flatiron-presentation",
   "language": "python",
   "name": "python3"
  },
  "language_info": {
   "codemirror_mode": {
    "name": "ipython",
    "version": 3
   },
   "file_extension": ".py",
   "mimetype": "text/x-python",
   "name": "python",
   "nbconvert_exporter": "python",
   "pygments_lexer": "ipython3",
   "version": "3.12.10"
  }
 },
 "nbformat": 4,
 "nbformat_minor": 5
}
