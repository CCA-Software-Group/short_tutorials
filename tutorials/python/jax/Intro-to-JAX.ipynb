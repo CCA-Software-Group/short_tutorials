{
 "cells": [
  {
   "cell_type": "markdown",
   "id": "0",
   "metadata": {},
   "source": [
    "# Intro to JAX"
   ]
  },
  {
   "cell_type": "markdown",
   "id": "179084fd",
   "metadata": {},
   "source": [
    "Author: Adrian Price-Whelan (CCA, 2025)"
   ]
  },
  {
   "cell_type": "markdown",
   "id": "5946975c",
   "metadata": {},
   "source": [
    "[Live notebook on Colab](https://colab.research.google.com/github/JAXtronomy/tutorials/blob/main/tutorials/Intro-to-JAX.ipynb)\n",
    "\n",
    "[Here is the slide deck](../../_static/Intro-to-JAX-for-astronomers.pdf)"
   ]
  },
  {
   "cell_type": "code",
   "execution_count": 1,
   "id": "1",
   "metadata": {
    "execution": {
     "iopub.execute_input": "2025-10-15T17:53:27.993072Z",
     "iopub.status.busy": "2025-10-15T17:53:27.992904Z",
     "iopub.status.idle": "2025-10-15T17:53:28.139228Z",
     "shell.execute_reply": "2025-10-15T17:53:28.138429Z"
    }
   },
   "outputs": [
    {
     "ename": "ModuleNotFoundError",
     "evalue": "No module named 'jax'",
     "output_type": "error",
     "traceback": [
      "\u001b[31m---------------------------------------------------------------------------\u001b[39m",
      "\u001b[31mModuleNotFoundError\u001b[39m                       Traceback (most recent call last)",
      "\u001b[36mCell\u001b[39m\u001b[36m \u001b[39m\u001b[32mIn[1]\u001b[39m\u001b[32m, line 1\u001b[39m\n\u001b[32m----> \u001b[39m\u001b[32m1\u001b[39m \u001b[38;5;28;01mimport\u001b[39;00m\u001b[38;5;250m \u001b[39m\u001b[34;01mjax\u001b[39;00m\n\u001b[32m      2\u001b[39m \u001b[38;5;28;01mimport\u001b[39;00m\u001b[38;5;250m \u001b[39m\u001b[34;01mjax\u001b[39;00m\u001b[34;01m.\u001b[39;00m\u001b[34;01mnumpy\u001b[39;00m\u001b[38;5;250m \u001b[39m\u001b[38;5;28;01mas\u001b[39;00m\u001b[38;5;250m \u001b[39m\u001b[34;01mjnp\u001b[39;00m\n\u001b[32m      3\u001b[39m \u001b[38;5;28;01mimport\u001b[39;00m\u001b[38;5;250m \u001b[39m\u001b[34;01mmatplotlib\u001b[39;00m\u001b[34;01m.\u001b[39;00m\u001b[34;01mpyplot\u001b[39;00m\u001b[38;5;250m \u001b[39m\u001b[38;5;28;01mas\u001b[39;00m\u001b[38;5;250m \u001b[39m\u001b[34;01mplt\u001b[39;00m\n",
      "\u001b[31mModuleNotFoundError\u001b[39m: No module named 'jax'"
     ]
    }
   ],
   "source": [
    "import jax\n",
    "import jax.numpy as jnp\n",
    "import matplotlib.pyplot as plt\n",
    "import numpy as np\n",
    "\n",
    "%xmode minimal"
   ]
  },
  {
   "cell_type": "markdown",
   "id": "2",
   "metadata": {},
   "source": [
    "## JIT Compilation\n",
    "\n",
    "Just-in-Time (JIT) compilation enables getting low-level language performance from Python code, on the fly. This can dramatically speed up some numerical computations, especially where loops are required or where the code is not easily vectorized. \n",
    "\n",
    "### Example: Computing the gravitational potential of a set of particles"
   ]
  },
  {
   "cell_type": "code",
   "execution_count": 2,
   "id": "3",
   "metadata": {
    "execution": {
     "iopub.execute_input": "2025-10-15T17:53:28.140748Z",
     "iopub.status.busy": "2025-10-15T17:53:28.140578Z",
     "iopub.status.idle": "2025-10-15T17:53:28.143558Z",
     "shell.execute_reply": "2025-10-15T17:53:28.142848Z"
    }
   },
   "outputs": [],
   "source": [
    "def func(x, a):\n",
    "    return jnp.log(jnp.sum(x**2, axis=1) + a**2)"
   ]
  },
  {
   "cell_type": "code",
   "execution_count": 3,
   "id": "4",
   "metadata": {
    "execution": {
     "iopub.execute_input": "2025-10-15T17:53:28.144976Z",
     "iopub.status.busy": "2025-10-15T17:53:28.144803Z",
     "iopub.status.idle": "2025-10-15T17:53:28.161737Z",
     "shell.execute_reply": "2025-10-15T17:53:28.161069Z"
    }
   },
   "outputs": [
    {
     "ename": "NameError",
     "evalue": "name 'np' is not defined",
     "output_type": "error",
     "traceback": [
      "\u001b[31m---------------------------------------------------------------------------\u001b[39m",
      "\u001b[31mNameError\u001b[39m                                 Traceback (most recent call last)",
      "\u001b[36mCell\u001b[39m\u001b[36m \u001b[39m\u001b[32mIn[3]\u001b[39m\u001b[32m, line 1\u001b[39m\n\u001b[32m----> \u001b[39m\u001b[32m1\u001b[39m x = \u001b[43mnp\u001b[49m.random.normal(size=(\u001b[32m1_000_000\u001b[39m, \u001b[32m3\u001b[39m))\n",
      "\u001b[31mNameError\u001b[39m: name 'np' is not defined"
     ]
    }
   ],
   "source": [
    "x = np.random.normal(size=(1_000_000, 3))"
   ]
  },
  {
   "cell_type": "code",
   "execution_count": 4,
   "id": "5",
   "metadata": {
    "execution": {
     "iopub.execute_input": "2025-10-15T17:53:28.163143Z",
     "iopub.status.busy": "2025-10-15T17:53:28.162991Z",
     "iopub.status.idle": "2025-10-15T17:53:28.329381Z",
     "shell.execute_reply": "2025-10-15T17:53:28.328523Z"
    }
   },
   "outputs": [
    {
     "ename": "NameError",
     "evalue": "name 'x' is not defined",
     "output_type": "error",
     "traceback": [
      "\u001b[31m---------------------------------------------------------------------------\u001b[39m",
      "\u001b[31mNameError\u001b[39m                                 Traceback (most recent call last)",
      "\u001b[36mCell\u001b[39m\u001b[36m \u001b[39m\u001b[32mIn[4]\u001b[39m\u001b[32m, line 2\u001b[39m\n\u001b[32m      1\u001b[39m \u001b[38;5;66;03m# without JIT:\u001b[39;00m\n\u001b[32m----> \u001b[39m\u001b[32m2\u001b[39m \u001b[43mget_ipython\u001b[49m\u001b[43m(\u001b[49m\u001b[43m)\u001b[49m\u001b[43m.\u001b[49m\u001b[43mrun_line_magic\u001b[49m\u001b[43m(\u001b[49m\u001b[33;43m'\u001b[39;49m\u001b[33;43mtimeit\u001b[39;49m\u001b[33;43m'\u001b[39;49m\u001b[43m,\u001b[49m\u001b[43m \u001b[49m\u001b[33;43m'\u001b[39;49m\u001b[33;43mfunc(x, 1.0).block_until_ready()\u001b[39;49m\u001b[33;43m'\u001b[39;49m\u001b[43m)\u001b[49m\n",
      "\u001b[36mFile \u001b[39m\u001b[32m/opt/hostedtoolcache/Python/3.11.13/x64/lib/python3.11/site-packages/IPython/core/interactiveshell.py:2504\u001b[39m, in \u001b[36mInteractiveShell.run_line_magic\u001b[39m\u001b[34m(self, magic_name, line, _stack_depth)\u001b[39m\n\u001b[32m   2502\u001b[39m     kwargs[\u001b[33m'\u001b[39m\u001b[33mlocal_ns\u001b[39m\u001b[33m'\u001b[39m] = \u001b[38;5;28mself\u001b[39m.get_local_scope(stack_depth)\n\u001b[32m   2503\u001b[39m \u001b[38;5;28;01mwith\u001b[39;00m \u001b[38;5;28mself\u001b[39m.builtin_trap:\n\u001b[32m-> \u001b[39m\u001b[32m2504\u001b[39m     result = \u001b[43mfn\u001b[49m\u001b[43m(\u001b[49m\u001b[43m*\u001b[49m\u001b[43margs\u001b[49m\u001b[43m,\u001b[49m\u001b[43m \u001b[49m\u001b[43m*\u001b[49m\u001b[43m*\u001b[49m\u001b[43mkwargs\u001b[49m\u001b[43m)\u001b[49m\n\u001b[32m   2506\u001b[39m \u001b[38;5;66;03m# The code below prevents the output from being displayed\u001b[39;00m\n\u001b[32m   2507\u001b[39m \u001b[38;5;66;03m# when using magics with decorator @output_can_be_silenced\u001b[39;00m\n\u001b[32m   2508\u001b[39m \u001b[38;5;66;03m# when the last Python token in the expression is a ';'.\u001b[39;00m\n\u001b[32m   2509\u001b[39m \u001b[38;5;28;01mif\u001b[39;00m \u001b[38;5;28mgetattr\u001b[39m(fn, magic.MAGIC_OUTPUT_CAN_BE_SILENCED, \u001b[38;5;28;01mFalse\u001b[39;00m):\n",
      "\u001b[36mFile \u001b[39m\u001b[32m/opt/hostedtoolcache/Python/3.11.13/x64/lib/python3.11/site-packages/IPython/core/magics/execution.py:1227\u001b[39m, in \u001b[36mExecutionMagics.timeit\u001b[39m\u001b[34m(self, line, cell, local_ns)\u001b[39m\n\u001b[32m   1225\u001b[39m \u001b[38;5;28;01mfor\u001b[39;00m index \u001b[38;5;129;01min\u001b[39;00m \u001b[38;5;28mrange\u001b[39m(\u001b[32m0\u001b[39m, \u001b[32m10\u001b[39m):\n\u001b[32m   1226\u001b[39m     number = \u001b[32m10\u001b[39m ** index\n\u001b[32m-> \u001b[39m\u001b[32m1227\u001b[39m     time_number = \u001b[43mtimer\u001b[49m\u001b[43m.\u001b[49m\u001b[43mtimeit\u001b[49m\u001b[43m(\u001b[49m\u001b[43mnumber\u001b[49m\u001b[43m)\u001b[49m\n\u001b[32m   1228\u001b[39m     \u001b[38;5;28;01mif\u001b[39;00m time_number >= \u001b[32m0.2\u001b[39m:\n\u001b[32m   1229\u001b[39m         \u001b[38;5;28;01mbreak\u001b[39;00m\n",
      "\u001b[36mFile \u001b[39m\u001b[32m/opt/hostedtoolcache/Python/3.11.13/x64/lib/python3.11/site-packages/IPython/core/magics/execution.py:184\u001b[39m, in \u001b[36mTimer.timeit\u001b[39m\u001b[34m(self, number)\u001b[39m\n\u001b[32m    182\u001b[39m gc.disable()\n\u001b[32m    183\u001b[39m \u001b[38;5;28;01mtry\u001b[39;00m:\n\u001b[32m--> \u001b[39m\u001b[32m184\u001b[39m     timing = \u001b[38;5;28;43mself\u001b[39;49m\u001b[43m.\u001b[49m\u001b[43minner\u001b[49m\u001b[43m(\u001b[49m\u001b[43mit\u001b[49m\u001b[43m,\u001b[49m\u001b[43m \u001b[49m\u001b[38;5;28;43mself\u001b[39;49m\u001b[43m.\u001b[49m\u001b[43mtimer\u001b[49m\u001b[43m)\u001b[49m\n\u001b[32m    185\u001b[39m \u001b[38;5;28;01mfinally\u001b[39;00m:\n\u001b[32m    186\u001b[39m     \u001b[38;5;28;01mif\u001b[39;00m gcold:\n",
      "\u001b[36mFile \u001b[39m\u001b[32m<magic-timeit>:1\u001b[39m, in \u001b[36minner\u001b[39m\u001b[34m(_it, _timer)\u001b[39m\n",
      "\u001b[31mNameError\u001b[39m: name 'x' is not defined"
     ]
    }
   ],
   "source": [
    "# without JIT:\n",
    "%timeit func(x, 1.0).block_until_ready()"
   ]
  },
  {
   "cell_type": "code",
   "execution_count": 5,
   "id": "6",
   "metadata": {
    "execution": {
     "iopub.execute_input": "2025-10-15T17:53:28.331036Z",
     "iopub.status.busy": "2025-10-15T17:53:28.330872Z",
     "iopub.status.idle": "2025-10-15T17:53:28.348961Z",
     "shell.execute_reply": "2025-10-15T17:53:28.348194Z"
    }
   },
   "outputs": [
    {
     "ename": "NameError",
     "evalue": "name 'jax' is not defined",
     "output_type": "error",
     "traceback": [
      "\u001b[31m---------------------------------------------------------------------------\u001b[39m",
      "\u001b[31mNameError\u001b[39m                                 Traceback (most recent call last)",
      "\u001b[36mCell\u001b[39m\u001b[36m \u001b[39m\u001b[32mIn[5]\u001b[39m\u001b[32m, line 1\u001b[39m\n\u001b[32m----> \u001b[39m\u001b[32m1\u001b[39m func_jit = \u001b[43mjax\u001b[49m.jit(func)\n\u001b[32m      3\u001b[39m \u001b[38;5;66;03m# this first call compiles the function\u001b[39;00m\n\u001b[32m      4\u001b[39m func_jit(x, \u001b[32m1.0\u001b[39m).block_until_ready()\n",
      "\u001b[31mNameError\u001b[39m: name 'jax' is not defined"
     ]
    }
   ],
   "source": [
    "func_jit = jax.jit(func)\n",
    "\n",
    "# this first call compiles the function\n",
    "func_jit(x, 1.0).block_until_ready()\n",
    "\n",
    "# with JIT:\n",
    "%timeit func_jit(x, 1.0).block_until_ready()"
   ]
  },
  {
   "cell_type": "markdown",
   "id": "7",
   "metadata": {},
   "source": [
    "This example is a little contrived since the non-JITted version is already vectorized, but it serves to illustrate the JIT compilation process. JIT is most useful when you need to run a function call many times either in a loop or some other iterative process. For example, optimization, MCMC sampling, orbit integration, etc.\n",
    "\n",
    "BTW: Other packages like Numba and PyTorch also have JIT compilation, but JAX's JIT pairs with XLA to produce highly optimized and hardware-specific machine code."
   ]
  },
  {
   "cell_type": "markdown",
   "id": "8",
   "metadata": {},
   "source": [
    "A brief aside about `.block_until_ready()`: JAX uses lazy evaluation, so it doesn't actually run the code until you need the values. This is great for performance, because JAX will build up a graph of function calls, compile it and send it to XLA for further optimization. But it can be confusing when debugging -- if you don't do this, it can seem like your code is running absurdly fast. `.block_until_ready()` forces JAX to run the code and wait for it to finish before continuing. Compare these:"
   ]
  },
  {
   "cell_type": "markdown",
   "id": "9",
   "metadata": {},
   "source": [
    "---\n",
    "\n",
    "## Vectorization with `vmap`\n",
    "\n",
    "If your function can be expressed using standard `numpy` operations, writing JAX code with `jax.numpy` to accept arrays as inputs will automatically vectorize the function. However, we often write functions that are not easily vectorized - for example, functions that contain conditional statements or loops. In these cases, `jax.vmap` provides an efficient way to apply a function across batches of inputs, often avoiding explicit (external) loops.\n",
    "\n",
    "For example, imagine you have a bunch of stellar spectra for a set of stars, and you want to compute the depth of some absorption line that appears at a different location (in pixels) for each star because of doppler shifts. You could write a function that computes the depth of the line for a single spectrum, and then use `jax.vmap` to apply it to all the stars in your dataset. \n",
    "\n",
    "### Example: Find the depth of an absorption line in a set of spectra\n",
    "\n",
    "First we simulate some \"spectra\":"
   ]
  },
  {
   "cell_type": "code",
   "execution_count": 6,
   "id": "10",
   "metadata": {
    "execution": {
     "iopub.execute_input": "2025-10-15T17:53:28.350493Z",
     "iopub.status.busy": "2025-10-15T17:53:28.350334Z",
     "iopub.status.idle": "2025-10-15T17:53:28.372502Z",
     "shell.execute_reply": "2025-10-15T17:53:28.371907Z"
    }
   },
   "outputs": [
    {
     "ename": "NameError",
     "evalue": "name 'np' is not defined",
     "output_type": "error",
     "traceback": [
      "\u001b[31m---------------------------------------------------------------------------\u001b[39m",
      "\u001b[31mNameError\u001b[39m                                 Traceback (most recent call last)",
      "\u001b[36mCell\u001b[39m\u001b[36m \u001b[39m\u001b[32mIn[6]\u001b[39m\u001b[32m, line 3\u001b[39m\n\u001b[32m      1\u001b[39m N = \u001b[32m128\u001b[39m  \u001b[38;5;66;03m# number of spectra to make\u001b[39;00m\n\u001b[32m----> \u001b[39m\u001b[32m3\u001b[39m rng = \u001b[43mnp\u001b[49m.random.default_rng(\u001b[32m123\u001b[39m)\n\u001b[32m      4\u001b[39m pix = jnp.arange(\u001b[32m100\u001b[39m)\n\u001b[32m      6\u001b[39m true_ctr = rng.uniform(\u001b[32m40\u001b[39m, \u001b[32m60\u001b[39m, size=(N,))\n",
      "\u001b[31mNameError\u001b[39m: name 'np' is not defined"
     ]
    }
   ],
   "source": [
    "N = 128  # number of spectra to make\n",
    "\n",
    "rng = np.random.default_rng(123)\n",
    "pix = jnp.arange(100)\n",
    "\n",
    "true_ctr = rng.uniform(40, 60, size=(N,))\n",
    "true_depth = rng.uniform(0.1, 0.5, size=(N,))\n",
    "\n",
    "\n",
    "def make_spectrum(pix, ctr, depth, scale):\n",
    "    return 1 - depth * jnp.exp(-0.5 * (pix - ctr) ** 2 / scale**2)\n",
    "\n",
    "\n",
    "# we'll use vmap to simulate the spectra too ^_^\n",
    "spectra = jax.vmap(\n",
    "    make_spectrum,\n",
    "    in_axes=(None, 0, 0, None),\n",
    "    out_axes=0,\n",
    ")(pix, true_ctr, true_depth, 10.0).block_until_ready()"
   ]
  },
  {
   "cell_type": "code",
   "execution_count": 7,
   "id": "11",
   "metadata": {
    "execution": {
     "iopub.execute_input": "2025-10-15T17:53:28.373972Z",
     "iopub.status.busy": "2025-10-15T17:53:28.373737Z",
     "iopub.status.idle": "2025-10-15T17:53:28.391475Z",
     "shell.execute_reply": "2025-10-15T17:53:28.390746Z"
    }
   },
   "outputs": [
    {
     "ename": "NameError",
     "evalue": "name 'plt' is not defined",
     "output_type": "error",
     "traceback": [
      "\u001b[31m---------------------------------------------------------------------------\u001b[39m",
      "\u001b[31mNameError\u001b[39m                                 Traceback (most recent call last)",
      "\u001b[36mCell\u001b[39m\u001b[36m \u001b[39m\u001b[32mIn[7]\u001b[39m\u001b[32m, line 1\u001b[39m\n\u001b[32m----> \u001b[39m\u001b[32m1\u001b[39m \u001b[43mplt\u001b[49m.figure(figsize=(\u001b[32m6\u001b[39m, \u001b[32m4\u001b[39m))\n\u001b[32m      2\u001b[39m _ = plt.plot(spectra.T, \u001b[33m\"\u001b[39m\u001b[33m-\u001b[39m\u001b[33m\"\u001b[39m, alpha=\u001b[32m0.1\u001b[39m, color=\u001b[33m\"\u001b[39m\u001b[33mk\u001b[39m\u001b[33m\"\u001b[39m)\n",
      "\u001b[31mNameError\u001b[39m: name 'plt' is not defined"
     ]
    }
   ],
   "source": [
    "plt.figure(figsize=(6, 4))\n",
    "_ = plt.plot(spectra.T, \"-\", alpha=0.1, color=\"k\")"
   ]
  },
  {
   "cell_type": "markdown",
   "id": "12",
   "metadata": {},
   "source": [
    "Now we have a set of spectra, and we want to find the depth of the absorption line near pixel ~50. We can write a function that computes the depth of the line for a single spectrum, and then use `jax.vmap` to apply it to all the spectra in our dataset:"
   ]
  },
  {
   "cell_type": "code",
   "execution_count": 8,
   "id": "13",
   "metadata": {
    "execution": {
     "iopub.execute_input": "2025-10-15T17:53:28.392986Z",
     "iopub.status.busy": "2025-10-15T17:53:28.392826Z",
     "iopub.status.idle": "2025-10-15T17:53:28.413597Z",
     "shell.execute_reply": "2025-10-15T17:53:28.412894Z"
    }
   },
   "outputs": [
    {
     "ename": "NameError",
     "evalue": "name 'jax' is not defined",
     "output_type": "error",
     "traceback": [
      "\u001b[31m---------------------------------------------------------------------------\u001b[39m",
      "\u001b[31mNameError\u001b[39m                                 Traceback (most recent call last)",
      "\u001b[36mCell\u001b[39m\u001b[36m \u001b[39m\u001b[32mIn[8]\u001b[39m\u001b[32m, line 14\u001b[39m\n\u001b[32m      9\u001b[39m     coeffs = jnp.linalg.lstsq(A, y, rcond=\u001b[38;5;28;01mNone\u001b[39;00m)[\u001b[32m0\u001b[39m]\n\u001b[32m     11\u001b[39m     \u001b[38;5;28;01mreturn\u001b[39;00m \u001b[32m1\u001b[39m - coeffs[\u001b[32m0\u001b[39m]\n\u001b[32m---> \u001b[39m\u001b[32m14\u001b[39m find_depth_vmap = \u001b[43mjax\u001b[49m.vmap(find_depth, in_axes=\u001b[32m0\u001b[39m)\n",
      "\u001b[31mNameError\u001b[39m: name 'jax' is not defined"
     ]
    }
   ],
   "source": [
    "def find_depth(spectrum):\n",
    "    # find the minimum pixel value:\n",
    "    min_pix = jnp.argmin(spectrum)\n",
    "\n",
    "    # locally fit a parabola to the spectrum to find the inter-pixel minimum\n",
    "    y = jax.lax.dynamic_slice(spectrum, (min_pix - 1,), (3,))\n",
    "    x = jnp.arange(-1, 2)\n",
    "    A = jnp.vander(x, 3, increasing=True)  # creates a matrix with columns [1, x, x**2]\n",
    "    coeffs = jnp.linalg.lstsq(A, y, rcond=None)[0]\n",
    "\n",
    "    return 1 - coeffs[0]\n",
    "\n",
    "\n",
    "find_depth_vmap = jax.vmap(find_depth, in_axes=0)"
   ]
  },
  {
   "cell_type": "code",
   "execution_count": 9,
   "id": "14",
   "metadata": {
    "execution": {
     "iopub.execute_input": "2025-10-15T17:53:28.415031Z",
     "iopub.status.busy": "2025-10-15T17:53:28.414879Z",
     "iopub.status.idle": "2025-10-15T17:53:28.498201Z",
     "shell.execute_reply": "2025-10-15T17:53:28.497378Z"
    }
   },
   "outputs": [
    {
     "name": "stdout",
     "output_type": "stream",
     "text": [
      "CPU times: user 6 μs, sys: 0 ns, total: 6 μs\n",
      "Wall time: 9.06 μs\n"
     ]
    },
    {
     "ename": "NameError",
     "evalue": "name 'spectra' is not defined",
     "output_type": "error",
     "traceback": [
      "\u001b[31m---------------------------------------------------------------------------\u001b[39m",
      "\u001b[31mNameError\u001b[39m                                 Traceback (most recent call last)",
      "\u001b[36mCell\u001b[39m\u001b[36m \u001b[39m\u001b[32mIn[9]\u001b[39m\u001b[32m, line 1\u001b[39m\n\u001b[32m----> \u001b[39m\u001b[32m1\u001b[39m \u001b[43mget_ipython\u001b[49m\u001b[43m(\u001b[49m\u001b[43m)\u001b[49m\u001b[43m.\u001b[49m\u001b[43mrun_cell_magic\u001b[49m\u001b[43m(\u001b[49m\u001b[33;43m'\u001b[39;49m\u001b[33;43mtime\u001b[39;49m\u001b[33;43m'\u001b[39;49m\u001b[43m,\u001b[49m\u001b[43m \u001b[49m\u001b[33;43m'\u001b[39;49m\u001b[33;43m'\u001b[39;49m\u001b[43m,\u001b[49m\u001b[43m \u001b[49m\u001b[33;43m'\u001b[39;49m\u001b[33;43mfor spectrum in spectra:\u001b[39;49m\u001b[38;5;130;43;01m\\n\u001b[39;49;00m\u001b[33;43m    find_depth(spectrum).block_until_ready()\u001b[39;49m\u001b[38;5;130;43;01m\\n\u001b[39;49;00m\u001b[33;43m'\u001b[39;49m\u001b[43m)\u001b[49m\n",
      "\u001b[36mFile \u001b[39m\u001b[32m/opt/hostedtoolcache/Python/3.11.13/x64/lib/python3.11/site-packages/IPython/core/interactiveshell.py:2565\u001b[39m, in \u001b[36mInteractiveShell.run_cell_magic\u001b[39m\u001b[34m(self, magic_name, line, cell)\u001b[39m\n\u001b[32m   2563\u001b[39m \u001b[38;5;28;01mwith\u001b[39;00m \u001b[38;5;28mself\u001b[39m.builtin_trap:\n\u001b[32m   2564\u001b[39m     args = (magic_arg_s, cell)\n\u001b[32m-> \u001b[39m\u001b[32m2565\u001b[39m     result = \u001b[43mfn\u001b[49m\u001b[43m(\u001b[49m\u001b[43m*\u001b[49m\u001b[43margs\u001b[49m\u001b[43m,\u001b[49m\u001b[43m \u001b[49m\u001b[43m*\u001b[49m\u001b[43m*\u001b[49m\u001b[43mkwargs\u001b[49m\u001b[43m)\u001b[49m\n\u001b[32m   2567\u001b[39m \u001b[38;5;66;03m# The code below prevents the output from being displayed\u001b[39;00m\n\u001b[32m   2568\u001b[39m \u001b[38;5;66;03m# when using magics with decorator @output_can_be_silenced\u001b[39;00m\n\u001b[32m   2569\u001b[39m \u001b[38;5;66;03m# when the last Python token in the expression is a ';'.\u001b[39;00m\n\u001b[32m   2570\u001b[39m \u001b[38;5;28;01mif\u001b[39;00m \u001b[38;5;28mgetattr\u001b[39m(fn, magic.MAGIC_OUTPUT_CAN_BE_SILENCED, \u001b[38;5;28;01mFalse\u001b[39;00m):\n",
      "\u001b[36mFile \u001b[39m\u001b[32m/opt/hostedtoolcache/Python/3.11.13/x64/lib/python3.11/site-packages/IPython/core/magics/execution.py:1452\u001b[39m, in \u001b[36mExecutionMagics.time\u001b[39m\u001b[34m(self, line, cell, local_ns)\u001b[39m\n\u001b[32m   1450\u001b[39m \u001b[38;5;28;01mif\u001b[39;00m interrupt_occured:\n\u001b[32m   1451\u001b[39m     \u001b[38;5;28;01mif\u001b[39;00m exit_on_interrupt \u001b[38;5;129;01mand\u001b[39;00m captured_exception:\n\u001b[32m-> \u001b[39m\u001b[32m1452\u001b[39m         \u001b[38;5;28;01mraise\u001b[39;00m captured_exception\n\u001b[32m   1453\u001b[39m     \u001b[38;5;28;01mreturn\u001b[39;00m\n\u001b[32m   1454\u001b[39m \u001b[38;5;28;01mreturn\u001b[39;00m out\n",
      "\u001b[36mFile \u001b[39m\u001b[32m/opt/hostedtoolcache/Python/3.11.13/x64/lib/python3.11/site-packages/IPython/core/magics/execution.py:1416\u001b[39m, in \u001b[36mExecutionMagics.time\u001b[39m\u001b[34m(self, line, cell, local_ns)\u001b[39m\n\u001b[32m   1414\u001b[39m st = clock2()\n\u001b[32m   1415\u001b[39m \u001b[38;5;28;01mtry\u001b[39;00m:\n\u001b[32m-> \u001b[39m\u001b[32m1416\u001b[39m     \u001b[43mexec\u001b[49m\u001b[43m(\u001b[49m\u001b[43mcode\u001b[49m\u001b[43m,\u001b[49m\u001b[43m \u001b[49m\u001b[43mglob\u001b[49m\u001b[43m,\u001b[49m\u001b[43m \u001b[49m\u001b[43mlocal_ns\u001b[49m\u001b[43m)\u001b[49m\n\u001b[32m   1417\u001b[39m     out = \u001b[38;5;28;01mNone\u001b[39;00m\n\u001b[32m   1418\u001b[39m     \u001b[38;5;66;03m# multi-line %%time case\u001b[39;00m\n",
      "\u001b[36mFile \u001b[39m\u001b[32m<timed exec>:1\u001b[39m\n",
      "\u001b[31mNameError\u001b[39m: name 'spectra' is not defined"
     ]
    }
   ],
   "source": [
    "%%time\n",
    "for spectrum in spectra:\n",
    "    find_depth(spectrum).block_until_ready()"
   ]
  },
  {
   "cell_type": "code",
   "execution_count": 10,
   "id": "15",
   "metadata": {
    "execution": {
     "iopub.execute_input": "2025-10-15T17:53:28.499663Z",
     "iopub.status.busy": "2025-10-15T17:53:28.499499Z",
     "iopub.status.idle": "2025-10-15T17:53:28.579559Z",
     "shell.execute_reply": "2025-10-15T17:53:28.578746Z"
    }
   },
   "outputs": [
    {
     "name": "stdout",
     "output_type": "stream",
     "text": [
      "CPU times: user 4 μs, sys: 1 μs, total: 5 μs\n",
      "Wall time: 8.11 μs\n"
     ]
    },
    {
     "ename": "NameError",
     "evalue": "name 'find_depth_vmap' is not defined",
     "output_type": "error",
     "traceback": [
      "\u001b[31m---------------------------------------------------------------------------\u001b[39m",
      "\u001b[31mNameError\u001b[39m                                 Traceback (most recent call last)",
      "\u001b[36mCell\u001b[39m\u001b[36m \u001b[39m\u001b[32mIn[10]\u001b[39m\u001b[32m, line 1\u001b[39m\n\u001b[32m----> \u001b[39m\u001b[32m1\u001b[39m \u001b[43mget_ipython\u001b[49m\u001b[43m(\u001b[49m\u001b[43m)\u001b[49m\u001b[43m.\u001b[49m\u001b[43mrun_cell_magic\u001b[49m\u001b[43m(\u001b[49m\u001b[33;43m'\u001b[39;49m\u001b[33;43mtime\u001b[39;49m\u001b[33;43m'\u001b[39;49m\u001b[43m,\u001b[49m\u001b[43m \u001b[49m\u001b[33;43m'\u001b[39;49m\u001b[33;43m'\u001b[39;49m\u001b[43m,\u001b[49m\u001b[43m \u001b[49m\u001b[33;43m'\u001b[39;49m\u001b[33;43mfind_depth_vmap(spectra).block_until_ready()\u001b[39;49m\u001b[38;5;130;43;01m\\n\u001b[39;49;00m\u001b[33;43m'\u001b[39;49m\u001b[43m)\u001b[49m\n",
      "\u001b[36mFile \u001b[39m\u001b[32m/opt/hostedtoolcache/Python/3.11.13/x64/lib/python3.11/site-packages/IPython/core/interactiveshell.py:2565\u001b[39m, in \u001b[36mInteractiveShell.run_cell_magic\u001b[39m\u001b[34m(self, magic_name, line, cell)\u001b[39m\n\u001b[32m   2563\u001b[39m \u001b[38;5;28;01mwith\u001b[39;00m \u001b[38;5;28mself\u001b[39m.builtin_trap:\n\u001b[32m   2564\u001b[39m     args = (magic_arg_s, cell)\n\u001b[32m-> \u001b[39m\u001b[32m2565\u001b[39m     result = \u001b[43mfn\u001b[49m\u001b[43m(\u001b[49m\u001b[43m*\u001b[49m\u001b[43margs\u001b[49m\u001b[43m,\u001b[49m\u001b[43m \u001b[49m\u001b[43m*\u001b[49m\u001b[43m*\u001b[49m\u001b[43mkwargs\u001b[49m\u001b[43m)\u001b[49m\n\u001b[32m   2567\u001b[39m \u001b[38;5;66;03m# The code below prevents the output from being displayed\u001b[39;00m\n\u001b[32m   2568\u001b[39m \u001b[38;5;66;03m# when using magics with decorator @output_can_be_silenced\u001b[39;00m\n\u001b[32m   2569\u001b[39m \u001b[38;5;66;03m# when the last Python token in the expression is a ';'.\u001b[39;00m\n\u001b[32m   2570\u001b[39m \u001b[38;5;28;01mif\u001b[39;00m \u001b[38;5;28mgetattr\u001b[39m(fn, magic.MAGIC_OUTPUT_CAN_BE_SILENCED, \u001b[38;5;28;01mFalse\u001b[39;00m):\n",
      "\u001b[36mFile \u001b[39m\u001b[32m/opt/hostedtoolcache/Python/3.11.13/x64/lib/python3.11/site-packages/IPython/core/magics/execution.py:1452\u001b[39m, in \u001b[36mExecutionMagics.time\u001b[39m\u001b[34m(self, line, cell, local_ns)\u001b[39m\n\u001b[32m   1450\u001b[39m \u001b[38;5;28;01mif\u001b[39;00m interrupt_occured:\n\u001b[32m   1451\u001b[39m     \u001b[38;5;28;01mif\u001b[39;00m exit_on_interrupt \u001b[38;5;129;01mand\u001b[39;00m captured_exception:\n\u001b[32m-> \u001b[39m\u001b[32m1452\u001b[39m         \u001b[38;5;28;01mraise\u001b[39;00m captured_exception\n\u001b[32m   1453\u001b[39m     \u001b[38;5;28;01mreturn\u001b[39;00m\n\u001b[32m   1454\u001b[39m \u001b[38;5;28;01mreturn\u001b[39;00m out\n",
      "\u001b[36mFile \u001b[39m\u001b[32m/opt/hostedtoolcache/Python/3.11.13/x64/lib/python3.11/site-packages/IPython/core/magics/execution.py:1402\u001b[39m, in \u001b[36mExecutionMagics.time\u001b[39m\u001b[34m(self, line, cell, local_ns)\u001b[39m\n\u001b[32m   1400\u001b[39m st = clock2()\n\u001b[32m   1401\u001b[39m \u001b[38;5;28;01mtry\u001b[39;00m:\n\u001b[32m-> \u001b[39m\u001b[32m1402\u001b[39m     out = \u001b[38;5;28;43meval\u001b[39;49m\u001b[43m(\u001b[49m\u001b[43mcode\u001b[49m\u001b[43m,\u001b[49m\u001b[43m \u001b[49m\u001b[43mglob\u001b[49m\u001b[43m,\u001b[49m\u001b[43m \u001b[49m\u001b[43mlocal_ns\u001b[49m\u001b[43m)\u001b[49m\n\u001b[32m   1403\u001b[39m \u001b[38;5;28;01mexcept\u001b[39;00m \u001b[38;5;167;01mKeyboardInterrupt\u001b[39;00m \u001b[38;5;28;01mas\u001b[39;00m e:\n\u001b[32m   1404\u001b[39m     captured_exception = e\n",
      "\u001b[36mFile \u001b[39m\u001b[32m<timed eval>:1\u001b[39m\n",
      "\u001b[31mNameError\u001b[39m: name 'find_depth_vmap' is not defined"
     ]
    }
   ],
   "source": [
    "%%time\n",
    "find_depth_vmap(spectra).block_until_ready()"
   ]
  },
  {
   "cell_type": "code",
   "execution_count": 11,
   "id": "16",
   "metadata": {
    "execution": {
     "iopub.execute_input": "2025-10-15T17:53:28.581112Z",
     "iopub.status.busy": "2025-10-15T17:53:28.580959Z",
     "iopub.status.idle": "2025-10-15T17:53:28.598787Z",
     "shell.execute_reply": "2025-10-15T17:53:28.598035Z"
    }
   },
   "outputs": [
    {
     "ename": "NameError",
     "evalue": "name 'find_depth_vmap' is not defined",
     "output_type": "error",
     "traceback": [
      "\u001b[31m---------------------------------------------------------------------------\u001b[39m",
      "\u001b[31mNameError\u001b[39m                                 Traceback (most recent call last)",
      "\u001b[36mCell\u001b[39m\u001b[36m \u001b[39m\u001b[32mIn[11]\u001b[39m\u001b[32m, line 1\u001b[39m\n\u001b[32m----> \u001b[39m\u001b[32m1\u001b[39m depths = \u001b[43mfind_depth_vmap\u001b[49m(spectra).block_until_ready()\n\u001b[32m      2\u001b[39m plt.scatter(depths, true_depth)\n\u001b[32m      3\u001b[39m plt.xlabel(\u001b[33m\"\u001b[39m\u001b[33mMeasured depth\u001b[39m\u001b[33m\"\u001b[39m)\n",
      "\u001b[31mNameError\u001b[39m: name 'find_depth_vmap' is not defined"
     ]
    }
   ],
   "source": [
    "depths = find_depth_vmap(spectra).block_until_ready()\n",
    "plt.scatter(depths, true_depth)\n",
    "plt.xlabel(\"Measured depth\")\n",
    "plt.ylabel(\"True depth\")"
   ]
  },
  {
   "cell_type": "markdown",
   "id": "17",
   "metadata": {},
   "source": [
    "---\n",
    "\n",
    "## Automatic Differentiation\n",
    "\n",
    "Automatic differentiation (autodiff or autograd) allows you to compute exact gradients of functions. This is generally most useful for simplifying optimization problems (and enabling faster or novel optimization methods).\n",
    "\n",
    "### Example: Evaluating the gradient of a function"
   ]
  },
  {
   "cell_type": "code",
   "execution_count": 12,
   "id": "18",
   "metadata": {
    "execution": {
     "iopub.execute_input": "2025-10-15T17:53:28.600318Z",
     "iopub.status.busy": "2025-10-15T17:53:28.600132Z",
     "iopub.status.idle": "2025-10-15T17:53:28.602866Z",
     "shell.execute_reply": "2025-10-15T17:53:28.602189Z"
    }
   },
   "outputs": [],
   "source": [
    "def some_func(x, A, P):\n",
    "    return A * jnp.cos(2 * jnp.pi * x / P)"
   ]
  },
  {
   "cell_type": "code",
   "execution_count": 13,
   "id": "19",
   "metadata": {
    "execution": {
     "iopub.execute_input": "2025-10-15T17:53:28.604580Z",
     "iopub.status.busy": "2025-10-15T17:53:28.604233Z",
     "iopub.status.idle": "2025-10-15T17:53:28.622441Z",
     "shell.execute_reply": "2025-10-15T17:53:28.621754Z"
    }
   },
   "outputs": [
    {
     "ename": "NameError",
     "evalue": "name 'jax' is not defined",
     "output_type": "error",
     "traceback": [
      "\u001b[31m---------------------------------------------------------------------------\u001b[39m",
      "\u001b[31mNameError\u001b[39m                                 Traceback (most recent call last)",
      "\u001b[36mCell\u001b[39m\u001b[36m \u001b[39m\u001b[32mIn[13]\u001b[39m\u001b[32m, line 1\u001b[39m\n\u001b[32m----> \u001b[39m\u001b[32m1\u001b[39m some_func_grad = \u001b[43mjax\u001b[49m.grad(some_func, argnums=\u001b[32m0\u001b[39m)\n\u001b[32m      3\u001b[39m xgrid = jnp.linspace(\u001b[32m0\u001b[39m, \u001b[32m10\u001b[39m, \u001b[32m4096\u001b[39m)\n\u001b[32m      4\u001b[39m some_func_grad(xgrid, \u001b[32m1.0\u001b[39m, \u001b[32m1.0\u001b[39m)\n",
      "\u001b[31mNameError\u001b[39m: name 'jax' is not defined"
     ]
    }
   ],
   "source": [
    "some_func_grad = jax.grad(some_func, argnums=0)\n",
    "\n",
    "xgrid = jnp.linspace(0, 10, 4096)\n",
    "some_func_grad(xgrid, 1.0, 1.0)"
   ]
  },
  {
   "cell_type": "markdown",
   "id": "20",
   "metadata": {},
   "source": [
    "Huh, what happened? Why did this error? `jax.grad` only works on scalar outputs. If we try to pass in an array, the output of `some_func` will be an array. Instead of the above, if we want to compute the gradient for all elements in an array, we can use `jax.vmap` to vectorize the `grad`'ed function:"
   ]
  },
  {
   "cell_type": "code",
   "execution_count": 14,
   "id": "21",
   "metadata": {
    "execution": {
     "iopub.execute_input": "2025-10-15T17:53:28.624124Z",
     "iopub.status.busy": "2025-10-15T17:53:28.623972Z",
     "iopub.status.idle": "2025-10-15T17:53:28.640840Z",
     "shell.execute_reply": "2025-10-15T17:53:28.640206Z"
    }
   },
   "outputs": [
    {
     "ename": "NameError",
     "evalue": "name 'jax' is not defined",
     "output_type": "error",
     "traceback": [
      "\u001b[31m---------------------------------------------------------------------------\u001b[39m",
      "\u001b[31mNameError\u001b[39m                                 Traceback (most recent call last)",
      "\u001b[36mCell\u001b[39m\u001b[36m \u001b[39m\u001b[32mIn[14]\u001b[39m\u001b[32m, line 1\u001b[39m\n\u001b[32m----> \u001b[39m\u001b[32m1\u001b[39m some_func_grad_vmap = \u001b[43mjax\u001b[49m.vmap(jax.grad(some_func, argnums=\u001b[32m0\u001b[39m), in_axes=(\u001b[32m0\u001b[39m, \u001b[38;5;28;01mNone\u001b[39;00m, \u001b[38;5;28;01mNone\u001b[39;00m))\n",
      "\u001b[31mNameError\u001b[39m: name 'jax' is not defined"
     ]
    }
   ],
   "source": [
    "some_func_grad_vmap = jax.vmap(jax.grad(some_func, argnums=0), in_axes=(0, None, None))"
   ]
  },
  {
   "cell_type": "code",
   "execution_count": 15,
   "id": "22",
   "metadata": {
    "execution": {
     "iopub.execute_input": "2025-10-15T17:53:28.642415Z",
     "iopub.status.busy": "2025-10-15T17:53:28.642115Z",
     "iopub.status.idle": "2025-10-15T17:53:28.660900Z",
     "shell.execute_reply": "2025-10-15T17:53:28.660250Z"
    }
   },
   "outputs": [
    {
     "ename": "NameError",
     "evalue": "name 'plt' is not defined",
     "output_type": "error",
     "traceback": [
      "\u001b[31m---------------------------------------------------------------------------\u001b[39m",
      "\u001b[31mNameError\u001b[39m                                 Traceback (most recent call last)",
      "\u001b[36mCell\u001b[39m\u001b[36m \u001b[39m\u001b[32mIn[15]\u001b[39m\u001b[32m, line 1\u001b[39m\n\u001b[32m----> \u001b[39m\u001b[32m1\u001b[39m \u001b[43mplt\u001b[49m.figure(figsize=(\u001b[32m6\u001b[39m, \u001b[32m4\u001b[39m))\n\u001b[32m      2\u001b[39m plt.plot(xgrid, some_func(xgrid, \u001b[32m1.0\u001b[39m, \u001b[32m1.0\u001b[39m), \u001b[33m\"\u001b[39m\u001b[33m-\u001b[39m\u001b[33m\"\u001b[39m, label=\u001b[33m\"\u001b[39m\u001b[33mf(x)\u001b[39m\u001b[33m\"\u001b[39m)\n\u001b[32m      3\u001b[39m plt.plot(xgrid, some_func_grad_vmap(xgrid, \u001b[32m1.0\u001b[39m, \u001b[32m1.0\u001b[39m), \u001b[33m\"\u001b[39m\u001b[33m-\u001b[39m\u001b[33m\"\u001b[39m, label=\u001b[33m\"\u001b[39m\u001b[33mdf/dx\u001b[39m\u001b[33m\"\u001b[39m)\n",
      "\u001b[31mNameError\u001b[39m: name 'plt' is not defined"
     ]
    }
   ],
   "source": [
    "plt.figure(figsize=(6, 4))\n",
    "plt.plot(xgrid, some_func(xgrid, 1.0, 1.0), \"-\", label=\"f(x)\")\n",
    "plt.plot(xgrid, some_func_grad_vmap(xgrid, 1.0, 1.0), \"-\", label=\"df/dx\")\n",
    "plt.legend(loc=\"lower right\", fontsize=20)"
   ]
  },
  {
   "cell_type": "markdown",
   "id": "23",
   "metadata": {},
   "source": [
    "---\n",
    "\n",
    "## Pytrees\n",
    "\n",
    "Pytrees are JAX’s structured data containers. Think of these as dictionaries, where the data may be scalar or array valued and could be arranged hierarchically. JAX functions often take Pytrees as input and output, and they are designed to be compatible with JAX's JIT compilation and autodiff features. Pytrees are one of my favorite features of JAX!\n",
    "\n",
    "### Example: Computing the gradient of a function with respect to a set of parameters\n"
   ]
  },
  {
   "cell_type": "code",
   "execution_count": 16,
   "id": "24",
   "metadata": {
    "execution": {
     "iopub.execute_input": "2025-10-15T17:53:28.662351Z",
     "iopub.status.busy": "2025-10-15T17:53:28.662194Z",
     "iopub.status.idle": "2025-10-15T17:53:28.665370Z",
     "shell.execute_reply": "2025-10-15T17:53:28.664630Z"
    }
   },
   "outputs": [],
   "source": [
    "def model(x, a, b):\n",
    "    return a * x + b\n",
    "\n",
    "\n",
    "def objective(params, x, y, y_err):\n",
    "    model_y = model(x, params[\"a\"], params[\"b\"])\n",
    "    return jnp.sum((y - model_y) ** 2 / y_err**2)  # chi2"
   ]
  },
  {
   "cell_type": "code",
   "execution_count": 17,
   "id": "25",
   "metadata": {
    "execution": {
     "iopub.execute_input": "2025-10-15T17:53:28.666890Z",
     "iopub.status.busy": "2025-10-15T17:53:28.666728Z",
     "iopub.status.idle": "2025-10-15T17:53:28.687176Z",
     "shell.execute_reply": "2025-10-15T17:53:28.686369Z"
    }
   },
   "outputs": [
    {
     "ename": "NameError",
     "evalue": "name 'np' is not defined",
     "output_type": "error",
     "traceback": [
      "\u001b[31m---------------------------------------------------------------------------\u001b[39m",
      "\u001b[31mNameError\u001b[39m                                 Traceback (most recent call last)",
      "\u001b[36mCell\u001b[39m\u001b[36m \u001b[39m\u001b[32mIn[17]\u001b[39m\u001b[32m, line 1\u001b[39m\n\u001b[32m----> \u001b[39m\u001b[32m1\u001b[39m rng = \u001b[43mnp\u001b[49m.random.default_rng(\u001b[32m42\u001b[39m)\n\u001b[32m      2\u001b[39m x = rng.uniform(\u001b[32m0\u001b[39m, \u001b[32m10\u001b[39m, size=\u001b[32m16\u001b[39m)\n\u001b[32m      3\u001b[39m y = model(x, a=\u001b[32m8.67\u001b[39m, b=\u001b[32m5.309\u001b[39m)\n",
      "\u001b[31mNameError\u001b[39m: name 'np' is not defined"
     ]
    }
   ],
   "source": [
    "rng = np.random.default_rng(42)\n",
    "x = rng.uniform(0, 10, size=16)\n",
    "y = model(x, a=8.67, b=5.309)\n",
    "y_err = rng.uniform(0.1, 5.0, size=len(x))\n",
    "y += rng.normal(0, y_err, size=len(x))\n",
    "\n",
    "plt.figure(figsize=(6, 4))\n",
    "plt.errorbar(x, y, yerr=y_err, fmt=\"o\", label=\"data\")"
   ]
  },
  {
   "cell_type": "code",
   "execution_count": 18,
   "id": "26",
   "metadata": {
    "execution": {
     "iopub.execute_input": "2025-10-15T17:53:28.688648Z",
     "iopub.status.busy": "2025-10-15T17:53:28.688476Z",
     "iopub.status.idle": "2025-10-15T17:53:28.705951Z",
     "shell.execute_reply": "2025-10-15T17:53:28.705171Z"
    }
   },
   "outputs": [
    {
     "ename": "NameError",
     "evalue": "name 'jax' is not defined",
     "output_type": "error",
     "traceback": [
      "\u001b[31m---------------------------------------------------------------------------\u001b[39m",
      "\u001b[31mNameError\u001b[39m                                 Traceback (most recent call last)",
      "\u001b[36mCell\u001b[39m\u001b[36m \u001b[39m\u001b[32mIn[18]\u001b[39m\u001b[32m, line 1\u001b[39m\n\u001b[32m----> \u001b[39m\u001b[32m1\u001b[39m objecive_grad = \u001b[43mjax\u001b[49m.grad(objective, argnums=\u001b[32m0\u001b[39m)\n",
      "\u001b[31mNameError\u001b[39m: name 'jax' is not defined"
     ]
    }
   ],
   "source": [
    "objecive_grad = jax.grad(objective, argnums=0)"
   ]
  },
  {
   "cell_type": "code",
   "execution_count": 19,
   "id": "27",
   "metadata": {
    "execution": {
     "iopub.execute_input": "2025-10-15T17:53:28.707393Z",
     "iopub.status.busy": "2025-10-15T17:53:28.707230Z",
     "iopub.status.idle": "2025-10-15T17:53:28.724114Z",
     "shell.execute_reply": "2025-10-15T17:53:28.723329Z"
    }
   },
   "outputs": [
    {
     "ename": "NameError",
     "evalue": "name 'objecive_grad' is not defined",
     "output_type": "error",
     "traceback": [
      "\u001b[31m---------------------------------------------------------------------------\u001b[39m",
      "\u001b[31mNameError\u001b[39m                                 Traceback (most recent call last)",
      "\u001b[36mCell\u001b[39m\u001b[36m \u001b[39m\u001b[32mIn[19]\u001b[39m\u001b[32m, line 1\u001b[39m\n\u001b[32m----> \u001b[39m\u001b[32m1\u001b[39m \u001b[43mobjecive_grad\u001b[49m({\u001b[33m\"\u001b[39m\u001b[33ma\u001b[39m\u001b[33m\"\u001b[39m: \u001b[32m1.0\u001b[39m, \u001b[33m\"\u001b[39m\u001b[33mb\u001b[39m\u001b[33m\"\u001b[39m: \u001b[32m1.0\u001b[39m}, x, y, y_err)\n",
      "\u001b[31mNameError\u001b[39m: name 'objecive_grad' is not defined"
     ]
    }
   ],
   "source": [
    "objecive_grad({\"a\": 1.0, \"b\": 1.0}, x, y, y_err)"
   ]
  },
  {
   "cell_type": "markdown",
   "id": "28",
   "metadata": {},
   "source": [
    "### Example: Using `vmap` over a pytree of parameters\n",
    "\n",
    "You can use `jax.vmap` to efficiently evaluate a function for a batch of pytree keys. Suppose we have arrays of parameter sets and we want to evaluate the function for each set of parameters:"
   ]
  },
  {
   "cell_type": "code",
   "execution_count": 20,
   "id": "29",
   "metadata": {
    "execution": {
     "iopub.execute_input": "2025-10-15T17:53:28.725648Z",
     "iopub.status.busy": "2025-10-15T17:53:28.725487Z",
     "iopub.status.idle": "2025-10-15T17:53:28.745085Z",
     "shell.execute_reply": "2025-10-15T17:53:28.744262Z"
    }
   },
   "outputs": [
    {
     "ename": "NameError",
     "evalue": "name 'jnp' is not defined",
     "output_type": "error",
     "traceback": [
      "\u001b[31m---------------------------------------------------------------------------\u001b[39m",
      "\u001b[31mNameError\u001b[39m                                 Traceback (most recent call last)",
      "\u001b[36mCell\u001b[39m\u001b[36m \u001b[39m\u001b[32mIn[20]\u001b[39m\u001b[32m, line 2\u001b[39m\n\u001b[32m      1\u001b[39m params_arr = {\n\u001b[32m----> \u001b[39m\u001b[32m2\u001b[39m     \u001b[33m\"\u001b[39m\u001b[33ma\u001b[39m\u001b[33m\"\u001b[39m: \u001b[43mjnp\u001b[49m.linspace(\u001b[32m0\u001b[39m, \u001b[32m10\u001b[39m, \u001b[32m5\u001b[39m),\n\u001b[32m      3\u001b[39m     \u001b[33m\"\u001b[39m\u001b[33mb\u001b[39m\u001b[33m\"\u001b[39m: jnp.linspace(-\u001b[32m5\u001b[39m, \u001b[32m5\u001b[39m, \u001b[32m5\u001b[39m),\n\u001b[32m      4\u001b[39m }\n\u001b[32m      6\u001b[39m objective_vmap = jax.vmap(objective, in_axes=({\u001b[33m\"\u001b[39m\u001b[33ma\u001b[39m\u001b[33m\"\u001b[39m: \u001b[32m0\u001b[39m, \u001b[33m\"\u001b[39m\u001b[33mb\u001b[39m\u001b[33m\"\u001b[39m: \u001b[32m0\u001b[39m}, \u001b[38;5;28;01mNone\u001b[39;00m, \u001b[38;5;28;01mNone\u001b[39;00m, \u001b[38;5;28;01mNone\u001b[39;00m))\n\u001b[32m      7\u001b[39m chi2_arr = objective_vmap(params_arr, x, y, y_err).block_until_ready()\n",
      "\u001b[31mNameError\u001b[39m: name 'jnp' is not defined"
     ]
    }
   ],
   "source": [
    "params_arr = {\n",
    "    \"a\": jnp.linspace(0, 10, 5),\n",
    "    \"b\": jnp.linspace(-5, 5, 5),\n",
    "}\n",
    "\n",
    "objective_vmap = jax.vmap(objective, in_axes=({\"a\": 0, \"b\": 0}, None, None, None))\n",
    "chi2_arr = objective_vmap(params_arr, x, y, y_err).block_until_ready()\n",
    "chi2_arr"
   ]
  },
  {
   "cell_type": "markdown",
   "id": "30",
   "metadata": {},
   "source": [
    "## Sharp Bits\n",
    "\n",
    "### Control flow\n",
    "\n",
    "In general, use `jax.lax.cond` instead of `if` statements, and `jax.lax.scan` instead of `for` loops. This is because JAX uses XLA to compile the code, and XLA needs to know the shape of the data at compile time. "
   ]
  },
  {
   "cell_type": "code",
   "execution_count": 21,
   "id": "31",
   "metadata": {
    "execution": {
     "iopub.execute_input": "2025-10-15T17:53:28.746488Z",
     "iopub.status.busy": "2025-10-15T17:53:28.746339Z",
     "iopub.status.idle": "2025-10-15T17:53:28.764638Z",
     "shell.execute_reply": "2025-10-15T17:53:28.763849Z"
    }
   },
   "outputs": [
    {
     "ename": "NameError",
     "evalue": "name 'jax' is not defined",
     "output_type": "error",
     "traceback": [
      "\u001b[31m---------------------------------------------------------------------------\u001b[39m",
      "\u001b[31mNameError\u001b[39m                                 Traceback (most recent call last)",
      "\u001b[36mCell\u001b[39m\u001b[36m \u001b[39m\u001b[32mIn[21]\u001b[39m\u001b[32m, line 1\u001b[39m\n\u001b[32m----> \u001b[39m\u001b[32m1\u001b[39m \u001b[38;5;129m@jax\u001b[39m.jit\n\u001b[32m      2\u001b[39m \u001b[38;5;28;01mdef\u001b[39;00m\u001b[38;5;250m \u001b[39m\u001b[34mfunc_if1\u001b[39m(x):\n\u001b[32m      3\u001b[39m     \u001b[38;5;28;01mif\u001b[39;00m x > \u001b[32m0\u001b[39m:\n\u001b[32m      4\u001b[39m         \u001b[38;5;28;01mreturn\u001b[39;00m x**\u001b[32m3\u001b[39m\n",
      "\u001b[31mNameError\u001b[39m: name 'jax' is not defined"
     ]
    }
   ],
   "source": [
    "@jax.jit\n",
    "def func_if1(x):\n",
    "    if x > 0:\n",
    "        return x**3\n",
    "    else:\n",
    "        return x**2"
   ]
  },
  {
   "cell_type": "code",
   "execution_count": 22,
   "id": "32",
   "metadata": {
    "execution": {
     "iopub.execute_input": "2025-10-15T17:53:28.766060Z",
     "iopub.status.busy": "2025-10-15T17:53:28.765898Z",
     "iopub.status.idle": "2025-10-15T17:53:28.783116Z",
     "shell.execute_reply": "2025-10-15T17:53:28.782345Z"
    }
   },
   "outputs": [
    {
     "ename": "NameError",
     "evalue": "name 'func_if1' is not defined",
     "output_type": "error",
     "traceback": [
      "\u001b[31m---------------------------------------------------------------------------\u001b[39m",
      "\u001b[31mNameError\u001b[39m                                 Traceback (most recent call last)",
      "\u001b[36mCell\u001b[39m\u001b[36m \u001b[39m\u001b[32mIn[22]\u001b[39m\u001b[32m, line 1\u001b[39m\n\u001b[32m----> \u001b[39m\u001b[32m1\u001b[39m \u001b[43mfunc_if1\u001b[49m(\u001b[32m10.0\u001b[39m)\n",
      "\u001b[31mNameError\u001b[39m: name 'func_if1' is not defined"
     ]
    }
   ],
   "source": [
    "func_if1(10.0)"
   ]
  },
  {
   "cell_type": "code",
   "execution_count": 23,
   "id": "33",
   "metadata": {
    "execution": {
     "iopub.execute_input": "2025-10-15T17:53:28.784573Z",
     "iopub.status.busy": "2025-10-15T17:53:28.784413Z",
     "iopub.status.idle": "2025-10-15T17:53:28.802215Z",
     "shell.execute_reply": "2025-10-15T17:53:28.801438Z"
    }
   },
   "outputs": [
    {
     "ename": "NameError",
     "evalue": "name 'jax' is not defined",
     "output_type": "error",
     "traceback": [
      "\u001b[31m---------------------------------------------------------------------------\u001b[39m",
      "\u001b[31mNameError\u001b[39m                                 Traceback (most recent call last)",
      "\u001b[36mCell\u001b[39m\u001b[36m \u001b[39m\u001b[32mIn[23]\u001b[39m\u001b[32m, line 1\u001b[39m\n\u001b[32m----> \u001b[39m\u001b[32m1\u001b[39m \u001b[38;5;129m@jax\u001b[39m.jit\n\u001b[32m      2\u001b[39m \u001b[38;5;28;01mdef\u001b[39;00m\u001b[38;5;250m \u001b[39m\u001b[34mfunc_if2\u001b[39m(x):\n\u001b[32m      3\u001b[39m     \u001b[38;5;28;01mreturn\u001b[39;00m jax.lax.cond(x > \u001b[32m0\u001b[39m, \u001b[38;5;28;01mlambda\u001b[39;00m: x**\u001b[32m3\u001b[39m, \u001b[38;5;28;01mlambda\u001b[39;00m: x**\u001b[32m2\u001b[39m)\n",
      "\u001b[31mNameError\u001b[39m: name 'jax' is not defined"
     ]
    }
   ],
   "source": [
    "@jax.jit\n",
    "def func_if2(x):\n",
    "    return jax.lax.cond(x > 0, lambda: x**3, lambda: x**2)"
   ]
  },
  {
   "cell_type": "code",
   "execution_count": 24,
   "id": "34",
   "metadata": {
    "execution": {
     "iopub.execute_input": "2025-10-15T17:53:28.803663Z",
     "iopub.status.busy": "2025-10-15T17:53:28.803514Z",
     "iopub.status.idle": "2025-10-15T17:53:28.820126Z",
     "shell.execute_reply": "2025-10-15T17:53:28.819315Z"
    }
   },
   "outputs": [
    {
     "ename": "NameError",
     "evalue": "name 'func_if2' is not defined",
     "output_type": "error",
     "traceback": [
      "\u001b[31m---------------------------------------------------------------------------\u001b[39m",
      "\u001b[31mNameError\u001b[39m                                 Traceback (most recent call last)",
      "\u001b[36mCell\u001b[39m\u001b[36m \u001b[39m\u001b[32mIn[24]\u001b[39m\u001b[32m, line 1\u001b[39m\n\u001b[32m----> \u001b[39m\u001b[32m1\u001b[39m \u001b[43mfunc_if2\u001b[49m(\u001b[32m10.0\u001b[39m)\n",
      "\u001b[31mNameError\u001b[39m: name 'func_if2' is not defined"
     ]
    }
   ],
   "source": [
    "func_if2(10.0)"
   ]
  },
  {
   "cell_type": "markdown",
   "id": "35",
   "metadata": {},
   "source": [
    "## Teaser: Using physical units in JAX code\n",
    "\n",
    "`astropy.units` has the `Quantity` object for handling data with associated physical units. However, this is an explicit subclass of `numpy.ndarray`, so JAX does not work natively with Astropy units. Instead, in the meantime, we are building a new package called `unxt` for handling JAX tracers with physical units. This package is still in development, but it is ready for use:"
   ]
  },
  {
   "cell_type": "code",
   "execution_count": 25,
   "id": "36",
   "metadata": {
    "execution": {
     "iopub.execute_input": "2025-10-15T17:53:28.821542Z",
     "iopub.status.busy": "2025-10-15T17:53:28.821393Z",
     "iopub.status.idle": "2025-10-15T17:53:28.837516Z",
     "shell.execute_reply": "2025-10-15T17:53:28.836851Z"
    }
   },
   "outputs": [
    {
     "ename": "ModuleNotFoundError",
     "evalue": "No module named 'unxt'",
     "output_type": "error",
     "traceback": [
      "\u001b[31m---------------------------------------------------------------------------\u001b[39m",
      "\u001b[31mModuleNotFoundError\u001b[39m                       Traceback (most recent call last)",
      "\u001b[36mCell\u001b[39m\u001b[36m \u001b[39m\u001b[32mIn[25]\u001b[39m\u001b[32m, line 1\u001b[39m\n\u001b[32m----> \u001b[39m\u001b[32m1\u001b[39m \u001b[38;5;28;01mimport\u001b[39;00m\u001b[38;5;250m \u001b[39m\u001b[34;01munxt\u001b[39;00m\u001b[38;5;250m \u001b[39m\u001b[38;5;28;01mas\u001b[39;00m\u001b[38;5;250m \u001b[39m\u001b[34;01mu\u001b[39;00m\n\u001b[32m      2\u001b[39m \u001b[38;5;28;01mimport\u001b[39;00m\u001b[38;5;250m \u001b[39m\u001b[34;01mquaxed\u001b[39;00m\n",
      "\u001b[31mModuleNotFoundError\u001b[39m: No module named 'unxt'"
     ]
    }
   ],
   "source": [
    "import unxt as u\n",
    "import quaxed"
   ]
  },
  {
   "cell_type": "code",
   "execution_count": 26,
   "id": "37",
   "metadata": {
    "execution": {
     "iopub.execute_input": "2025-10-15T17:53:28.839218Z",
     "iopub.status.busy": "2025-10-15T17:53:28.839049Z",
     "iopub.status.idle": "2025-10-15T17:53:28.857742Z",
     "shell.execute_reply": "2025-10-15T17:53:28.856971Z"
    }
   },
   "outputs": [
    {
     "ename": "NameError",
     "evalue": "name 'u' is not defined",
     "output_type": "error",
     "traceback": [
      "\u001b[31m---------------------------------------------------------------------------\u001b[39m",
      "\u001b[31mNameError\u001b[39m                                 Traceback (most recent call last)",
      "\u001b[36mCell\u001b[39m\u001b[36m \u001b[39m\u001b[32mIn[26]\u001b[39m\u001b[32m, line 1\u001b[39m\n\u001b[32m----> \u001b[39m\u001b[32m1\u001b[39m pos = \u001b[43mu\u001b[49m.Quantity(jnp.arange(\u001b[32m10.0\u001b[39m), \u001b[33m\"\u001b[39m\u001b[33mkpc\u001b[39m\u001b[33m\"\u001b[39m)\n\u001b[32m      2\u001b[39m time = u.Quantity(\u001b[32m5.3\u001b[39m, \u001b[33m\"\u001b[39m\u001b[33mGyr\u001b[39m\u001b[33m\"\u001b[39m)\n\u001b[32m      4\u001b[39m result = pos / time\n",
      "\u001b[31mNameError\u001b[39m: name 'u' is not defined"
     ]
    }
   ],
   "source": [
    "pos = u.Quantity(jnp.arange(10.0), \"kpc\")\n",
    "time = u.Quantity(5.3, \"Gyr\")\n",
    "\n",
    "result = pos / time\n",
    "result.unit"
   ]
  },
  {
   "cell_type": "code",
   "execution_count": 27,
   "id": "38",
   "metadata": {
    "execution": {
     "iopub.execute_input": "2025-10-15T17:53:28.859157Z",
     "iopub.status.busy": "2025-10-15T17:53:28.859012Z",
     "iopub.status.idle": "2025-10-15T17:53:28.861689Z",
     "shell.execute_reply": "2025-10-15T17:53:28.860909Z"
    }
   },
   "outputs": [],
   "source": [
    "def compute_potential(r, GM, a):\n",
    "    # Gravitational potential for a Hernquist model:\n",
    "    return -GM / (r + a)"
   ]
  },
  {
   "cell_type": "code",
   "execution_count": 28,
   "id": "39",
   "metadata": {
    "execution": {
     "iopub.execute_input": "2025-10-15T17:53:28.863084Z",
     "iopub.status.busy": "2025-10-15T17:53:28.862940Z",
     "iopub.status.idle": "2025-10-15T17:53:28.879442Z",
     "shell.execute_reply": "2025-10-15T17:53:28.878730Z"
    }
   },
   "outputs": [
    {
     "ename": "NameError",
     "evalue": "name 'quaxed' is not defined",
     "output_type": "error",
     "traceback": [
      "\u001b[31m---------------------------------------------------------------------------\u001b[39m",
      "\u001b[31mNameError\u001b[39m                                 Traceback (most recent call last)",
      "\u001b[36mCell\u001b[39m\u001b[36m \u001b[39m\u001b[32mIn[28]\u001b[39m\u001b[32m, line 1\u001b[39m\n\u001b[32m----> \u001b[39m\u001b[32m1\u001b[39m dPhi_dr = \u001b[43mquaxed\u001b[49m.grad(compute_potential)\n",
      "\u001b[31mNameError\u001b[39m: name 'quaxed' is not defined"
     ]
    }
   ],
   "source": [
    "dPhi_dr = quaxed.grad(compute_potential)"
   ]
  },
  {
   "cell_type": "code",
   "execution_count": 29,
   "id": "40",
   "metadata": {
    "execution": {
     "iopub.execute_input": "2025-10-15T17:53:28.880972Z",
     "iopub.status.busy": "2025-10-15T17:53:28.880796Z",
     "iopub.status.idle": "2025-10-15T17:53:28.898730Z",
     "shell.execute_reply": "2025-10-15T17:53:28.898018Z"
    }
   },
   "outputs": [
    {
     "ename": "NameError",
     "evalue": "name 'u' is not defined",
     "output_type": "error",
     "traceback": [
      "\u001b[31m---------------------------------------------------------------------------\u001b[39m",
      "\u001b[31mNameError\u001b[39m                                 Traceback (most recent call last)",
      "\u001b[36mCell\u001b[39m\u001b[36m \u001b[39m\u001b[32mIn[29]\u001b[39m\u001b[32m, line 1\u001b[39m\n\u001b[32m----> \u001b[39m\u001b[32m1\u001b[39m r = \u001b[43mu\u001b[49m.Quantity(\u001b[32m1.0\u001b[39m, \u001b[33m\"\u001b[39m\u001b[33mkpc\u001b[39m\u001b[33m\"\u001b[39m)\n\u001b[32m      2\u001b[39m GM = u.Quantity(\u001b[32m1.0\u001b[39m, \u001b[33m\"\u001b[39m\u001b[33mkpc^3 / Gyr^2\u001b[39m\u001b[33m\"\u001b[39m)\n\u001b[32m      3\u001b[39m a = u.Quantity(\u001b[32m1.0\u001b[39m, \u001b[33m\"\u001b[39m\u001b[33mkpc\u001b[39m\u001b[33m\"\u001b[39m)\n",
      "\u001b[31mNameError\u001b[39m: name 'u' is not defined"
     ]
    }
   ],
   "source": [
    "r = u.Quantity(1.0, \"kpc\")\n",
    "GM = u.Quantity(1.0, \"kpc^3 / Gyr^2\")\n",
    "a = u.Quantity(1.0, \"kpc\")\n",
    "compute_potential(r, GM, a).block_until_ready()"
   ]
  },
  {
   "cell_type": "code",
   "execution_count": 30,
   "id": "41",
   "metadata": {
    "execution": {
     "iopub.execute_input": "2025-10-15T17:53:28.900217Z",
     "iopub.status.busy": "2025-10-15T17:53:28.900067Z",
     "iopub.status.idle": "2025-10-15T17:53:28.916891Z",
     "shell.execute_reply": "2025-10-15T17:53:28.916161Z"
    }
   },
   "outputs": [
    {
     "ename": "NameError",
     "evalue": "name 'dPhi_dr' is not defined",
     "output_type": "error",
     "traceback": [
      "\u001b[31m---------------------------------------------------------------------------\u001b[39m",
      "\u001b[31mNameError\u001b[39m                                 Traceback (most recent call last)",
      "\u001b[36mCell\u001b[39m\u001b[36m \u001b[39m\u001b[32mIn[30]\u001b[39m\u001b[32m, line 1\u001b[39m\n\u001b[32m----> \u001b[39m\u001b[32m1\u001b[39m \u001b[43mdPhi_dr\u001b[49m(r, GM, a).block_until_ready()\n",
      "\u001b[31mNameError\u001b[39m: name 'dPhi_dr' is not defined"
     ]
    }
   ],
   "source": [
    "dPhi_dr(r, GM, a).block_until_ready()"
   ]
  },
  {
   "cell_type": "code",
   "execution_count": null,
   "id": "42",
   "metadata": {},
   "outputs": [],
   "source": []
  }
 ],
 "metadata": {
  "kernelspec": {
   "display_name": ".venv",
   "language": "python",
   "name": "python3"
  },
  "language_info": {
   "codemirror_mode": {
    "name": "ipython",
    "version": 3
   },
   "file_extension": ".py",
   "mimetype": "text/x-python",
   "name": "python",
   "nbconvert_exporter": "python",
   "pygments_lexer": "ipython3",
   "version": "3.11.13"
  }
 },
 "nbformat": 4,
 "nbformat_minor": 5
}
