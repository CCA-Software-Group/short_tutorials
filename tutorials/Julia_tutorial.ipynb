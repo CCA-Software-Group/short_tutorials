{
 "cells": [
  {
   "cell_type": "markdown",
   "id": "c3428a94",
   "metadata": {},
   "source": [
    "# Julia crash course"
   ]
  },
  {
   "cell_type": "markdown",
   "id": "GCDUzmhAFnoC",
   "metadata": {
    "id": "GCDUzmhAFnoC"
   },
   "source": [
    "Author: Adam Wheeler (CCA, awheeler@simonsfoundation.org)"
   ]
  },
  {
   "cell_type": "code",
   "execution_count": 1,
   "id": "17642e01-f0ce-49c5-845f-71f60b431664",
   "metadata": {
    "execution": {
     "iopub.execute_input": "2025-10-08T17:40:56.474000Z",
     "iopub.status.busy": "2025-10-08T17:40:56.468000Z",
     "iopub.status.idle": "2025-10-08T17:40:56.498000Z",
     "shell.execute_reply": "2025-10-08T17:40:56.498000Z"
    },
    "id": "17642e01-f0ce-49c5-845f-71f60b431664"
   },
   "outputs": [],
   "source": [
    "using LinearAlgebra, Random"
   ]
  },
  {
   "cell_type": "markdown",
   "id": "e050f00d-d110-4be9-9f60-3d01dc72fc36",
   "metadata": {
    "id": "e050f00d-d110-4be9-9f60-3d01dc72fc36"
   },
   "source": [
    "## just-in-time compilation and performance"
   ]
  },
  {
   "cell_type": "code",
   "execution_count": 2,
   "id": "fb46e002-170b-458c-901f-26415c32abda",
   "metadata": {
    "execution": {
     "iopub.execute_input": "2025-10-08T17:40:56.500000Z",
     "iopub.status.busy": "2025-10-08T17:40:56.500000Z",
     "iopub.status.idle": "2025-10-08T17:40:57.964000Z",
     "shell.execute_reply": "2025-10-08T17:40:57.964000Z"
    },
    "id": "fb46e002-170b-458c-901f-26415c32abda"
   },
   "outputs": [
    {
     "data": {
      "text/plain": [
       "1000000-element Vector{Float64}:\n",
       " 0.8417023077161657\n",
       " 0.7882766047652706\n",
       " 0.06248966513930976\n",
       " 0.7533522212090215\n",
       " 0.3751857454329166\n",
       " 0.3956741123772659\n",
       " 0.12555534851830719\n",
       " 0.703753774555457\n",
       " 0.024855619108786198\n",
       " 0.55113824302824\n",
       " 0.18373921068967958\n",
       " 0.38561630734961827\n",
       " 0.34761495145267707\n",
       " ⋮\n",
       " 0.6135477510887072\n",
       " 0.21518380047112462\n",
       " 0.07244318509651093\n",
       " 0.4281735169893237\n",
       " 0.3435090028649168\n",
       " 0.09703858455122871\n",
       " 0.09333621130341974\n",
       " 0.13559936952585172\n",
       " 0.8366169088592379\n",
       " 0.811769370411643\n",
       " 0.8925669150247477\n",
       " 0.7550152382892712"
      ]
     },
     "execution_count": 2,
     "metadata": {},
     "output_type": "execute_result"
    }
   ],
   "source": [
    "a = rand(1000000)"
   ]
  },
  {
   "cell_type": "code",
   "execution_count": 3,
   "id": "503a385b-86aa-46b7-8237-115a99d644db",
   "metadata": {
    "execution": {
     "iopub.execute_input": "2025-10-08T17:40:57.966000Z",
     "iopub.status.busy": "2025-10-08T17:40:57.966000Z",
     "iopub.status.idle": "2025-10-08T17:40:58.201000Z",
     "shell.execute_reply": "2025-10-08T17:40:58.201000Z"
    },
    "id": "503a385b-86aa-46b7-8237-115a99d644db"
   },
   "outputs": [
    {
     "name": "stdout",
     "output_type": "stream",
     "text": [
      "  0.026501 seconds (57.86 k allocations: 2.918 MiB, 98.78% compilation time)\n"
     ]
    },
    {
     "data": {
      "text/plain": [
       "500034.00481887336"
      ]
     },
     "execution_count": 3,
     "metadata": {},
     "output_type": "execute_result"
    }
   ],
   "source": [
    "@time sum(a)"
   ]
  },
  {
   "cell_type": "code",
   "execution_count": 4,
   "id": "d1b94bca-c5d2-46fc-b54e-5d96bd58e132",
   "metadata": {
    "execution": {
     "iopub.execute_input": "2025-10-08T17:40:58.203000Z",
     "iopub.status.busy": "2025-10-08T17:40:58.203000Z",
     "iopub.status.idle": "2025-10-08T17:40:58.338000Z",
     "shell.execute_reply": "2025-10-08T17:40:58.338000Z"
    },
    "id": "d1b94bca-c5d2-46fc-b54e-5d96bd58e132"
   },
   "outputs": [
    {
     "data": {
      "text/plain": [
       "mysum (generic function with 1 method)"
      ]
     },
     "execution_count": 4,
     "metadata": {},
     "output_type": "execute_result"
    }
   ],
   "source": [
    "function mysum(a)\n",
    "    s = 0.0\n",
    "    for x in a\n",
    "        s += x\n",
    "    end\n",
    "    s\n",
    "end"
   ]
  },
  {
   "cell_type": "code",
   "execution_count": 5,
   "id": "79a73454-23ce-4379-a8d2-a11fdaaf6275",
   "metadata": {
    "execution": {
     "iopub.execute_input": "2025-10-08T17:40:58.340000Z",
     "iopub.status.busy": "2025-10-08T17:40:58.340000Z",
     "iopub.status.idle": "2025-10-08T17:40:58.383000Z",
     "shell.execute_reply": "2025-10-08T17:40:58.383000Z"
    },
    "id": "79a73454-23ce-4379-a8d2-a11fdaaf6275"
   },
   "outputs": [
    {
     "name": "stdout",
     "output_type": "stream",
     "text": [
      "  0.010825 seconds (3.80 k allocations: 194.516 KiB, 91.04% compilation time)\n"
     ]
    },
    {
     "data": {
      "text/plain": [
       "500034.00481886975"
      ]
     },
     "execution_count": 5,
     "metadata": {},
     "output_type": "execute_result"
    }
   ],
   "source": [
    "@time mysum(a)"
   ]
  },
  {
   "cell_type": "markdown",
   "id": "8f4c2534-0928-46c4-81f4-0e44386935ea",
   "metadata": {
    "id": "8f4c2534-0928-46c4-81f4-0e44386935ea"
   },
   "source": [
    "## multiple dispatch"
   ]
  },
  {
   "cell_type": "code",
   "execution_count": 6,
   "id": "c8298cb6-3739-49ac-9484-14f6adaea254",
   "metadata": {
    "execution": {
     "iopub.execute_input": "2025-10-08T17:40:58.385000Z",
     "iopub.status.busy": "2025-10-08T17:40:58.385000Z",
     "iopub.status.idle": "2025-10-08T17:40:58.398000Z",
     "shell.execute_reply": "2025-10-08T17:40:58.398000Z"
    },
    "id": "c8298cb6-3739-49ac-9484-14f6adaea254"
   },
   "outputs": [
    {
     "data": {
      "text/plain": [
       "process (generic function with 4 methods)"
      ]
     },
     "execution_count": 6,
     "metadata": {},
     "output_type": "execute_result"
    }
   ],
   "source": [
    "# Define a single function with multiple methods\n",
    "\n",
    "function process(x)\n",
    "    # \"$\" is for string interpolation\n",
    "    println(\"Default method: argument is of type $(typeof(x))\")\n",
    "end\n",
    "\n",
    "# Add specialized methods for different types\n",
    "function process(x::Int)\n",
    "    println(\"Integer method: $x squared is $(x^2)\")\n",
    "end\n",
    "\n",
    "# this is also a valid way to write a function\n",
    "process(x::String) = println(\"String method: $(length(x)) characters, uppercase: $(uppercase(x))\")\n",
    "\n",
    "function process(x::Array)\n",
    "    # TODO Print the length and sum.\n",
    "end"
   ]
  },
  {
   "cell_type": "code",
   "execution_count": 7,
   "id": "f14fb625-f88a-496e-a288-62e04a5b6198",
   "metadata": {
    "execution": {
     "iopub.execute_input": "2025-10-08T17:40:58.399000Z",
     "iopub.status.busy": "2025-10-08T17:40:58.399000Z",
     "iopub.status.idle": "2025-10-08T17:40:58.400000Z",
     "shell.execute_reply": "2025-10-08T17:40:58.400000Z"
    },
    "id": "f14fb625-f88a-496e-a288-62e04a5b6198"
   },
   "outputs": [],
   "source": [
    "# try these out!"
   ]
  },
  {
   "cell_type": "markdown",
   "id": "c256ce57-4a85-4cfb-8b33-36f61f55c487",
   "metadata": {
    "id": "c256ce57-4a85-4cfb-8b33-36f61f55c487"
   },
   "source": [
    "## Custom type + multiple dispatch"
   ]
  },
  {
   "cell_type": "code",
   "execution_count": 8,
   "id": "c3649948-ff2a-4675-8a48-672374522ff4",
   "metadata": {
    "execution": {
     "iopub.execute_input": "2025-10-08T17:40:58.401000Z",
     "iopub.status.busy": "2025-10-08T17:40:58.401000Z",
     "iopub.status.idle": "2025-10-08T17:40:58.404000Z",
     "shell.execute_reply": "2025-10-08T17:40:58.404000Z"
    },
    "id": "c3649948-ff2a-4675-8a48-672374522ff4"
   },
   "outputs": [],
   "source": [
    "# Define a simple complex number type\n",
    "# don't actually do this! There's a built-in one.\n",
    "struct MyComplex\n",
    "    real_component::Float64\n",
    "    imag_component::Float64\n",
    "end\n",
    "\n",
    "# Nice string representation\n",
    "function Base.show(io::IO, z::MyComplex)\n",
    "    if z.imag_component >= 0\n",
    "        print(io, \"$(z.real_component) + $(z.imag_component)i\")\n",
    "    else\n",
    "        print(io, \"$(z.real_component) - $(abs(z.imag_component))i\")\n",
    "    end\n",
    "end"
   ]
  },
  {
   "cell_type": "code",
   "execution_count": 9,
   "id": "03520e29-222d-4316-906a-9bf56de599d1",
   "metadata": {
    "execution": {
     "iopub.execute_input": "2025-10-08T17:40:58.405000Z",
     "iopub.status.busy": "2025-10-08T17:40:58.404000Z",
     "iopub.status.idle": "2025-10-08T17:40:58.559000Z",
     "shell.execute_reply": "2025-10-08T17:40:58.559000Z"
    },
    "id": "03520e29-222d-4316-906a-9bf56de599d1"
   },
   "outputs": [
    {
     "data": {
      "text/plain": [
       "1.0 + 2.0i"
      ]
     },
     "execution_count": 9,
     "metadata": {},
     "output_type": "execute_result"
    }
   ],
   "source": [
    "# try creating a MyComplex\n",
    "MyComplex(1, 2)"
   ]
  },
  {
   "cell_type": "code",
   "execution_count": 10,
   "id": "9a2ff0b9-8968-4e72-9bb0-ed1fa071b5db",
   "metadata": {
    "execution": {
     "iopub.execute_input": "2025-10-08T17:40:58.561000Z",
     "iopub.status.busy": "2025-10-08T17:40:58.561000Z",
     "iopub.status.idle": "2025-10-08T17:40:58.564000Z",
     "shell.execute_reply": "2025-10-08T17:40:58.564000Z"
    },
    "id": "9a2ff0b9-8968-4e72-9bb0-ed1fa071b5db"
   },
   "outputs": [],
   "source": [
    "# define a couple arithmetic operations\n",
    "\n",
    "# we have to import these to override them\n",
    "import Base: +, *\n",
    "\n",
    "function +(a::MyComplex, b::MyComplex)\n",
    "    MyComplex(a.real_component + b.real_component, a.imag_component + b.imag_component)\n",
    "end\n",
    "# \"Real\" is an abstract type that includes floats, rationals, etc.\n",
    "+(a::MyComplex, b::Real) = MyComplex(a.real_component + b, a.imag_component)\n",
    "+(a::Real, b::MyComplex) = b + a\n",
    "\n",
    "function *(a::MyComplex, b::MyComplex)\n",
    "    real_part = a.real_component * b.real_component - a.imag_component * b.imag_component\n",
    "    imag_part = a.real_component * b.imag_component + a.imag_component * b.real_component\n",
    "    MyComplex(real_part, imag_part)\n",
    "end\n",
    "*(a::MyComplex, b::Real) = MyComplex(a.real_component * b, a.imag_component * b)\n",
    "*(a::Real, b::MyComplex) = b * a\n",
    ";"
   ]
  },
  {
   "cell_type": "code",
   "execution_count": 11,
   "id": "8386e4cf-facd-4baa-9deb-6c50cf34c542",
   "metadata": {
    "execution": {
     "iopub.execute_input": "2025-10-08T17:40:58.565000Z",
     "iopub.status.busy": "2025-10-08T17:40:58.565000Z",
     "iopub.status.idle": "2025-10-08T17:40:58.573000Z",
     "shell.execute_reply": "2025-10-08T17:40:58.573000Z"
    },
    "id": "8386e4cf-facd-4baa-9deb-6c50cf34c542"
   },
   "outputs": [
    {
     "data": {
      "text/plain": [
       "5.0 + 4.0i"
      ]
     },
     "execution_count": 11,
     "metadata": {},
     "output_type": "execute_result"
    }
   ],
   "source": [
    "# try it out\n",
    "z1 = MyComplex(3.0, 4.0)\n",
    "z2 = MyComplex(1.0, 2.0)\n",
    "r = 2.0\n",
    "\n",
    "z1 + r"
   ]
  },
  {
   "cell_type": "code",
   "execution_count": 12,
   "id": "ec6f4c39-d7ae-454f-80f9-1adc28da30bd",
   "metadata": {
    "execution": {
     "iopub.execute_input": "2025-10-08T17:40:58.575000Z",
     "iopub.status.busy": "2025-10-08T17:40:58.575000Z",
     "iopub.status.idle": "2025-10-08T17:40:58.575000Z",
     "shell.execute_reply": "2025-10-08T17:40:58.575000Z"
    },
    "id": "ec6f4c39-d7ae-454f-80f9-1adc28da30bd"
   },
   "outputs": [],
   "source": [
    "# this is a silly example, but this is really powerful for, e.g. dual numbers, unitful types, etc."
   ]
  },
  {
   "cell_type": "markdown",
   "id": "2ecf9887-ab50-4e9c-92f5-e618673572db",
   "metadata": {
    "id": "2ecf9887-ab50-4e9c-92f5-e618673572db"
   },
   "source": [
    "## basic linear algebra and broadcasting (\"vectorization\")"
   ]
  },
  {
   "cell_type": "code",
   "execution_count": 13,
   "id": "ebb8ba78-07a3-4e0c-9b8c-32283ef53d58",
   "metadata": {
    "execution": {
     "iopub.execute_input": "2025-10-08T17:40:58.576000Z",
     "iopub.status.busy": "2025-10-08T17:40:58.576000Z",
     "iopub.status.idle": "2025-10-08T17:40:58.581000Z",
     "shell.execute_reply": "2025-10-08T17:40:58.581000Z"
    },
    "id": "ebb8ba78-07a3-4e0c-9b8c-32283ef53d58"
   },
   "outputs": [],
   "source": [
    "# Define matrices and vectors with clean syntax\n",
    "A = [1 2\n",
    "     3 4]\n",
    "B = [5 6; 7 8] # 2×2 matrix\n",
    "v = [1, 2] # column vector\n",
    "w = [3, 4]' # row vector\n",
    ";"
   ]
  },
  {
   "cell_type": "code",
   "execution_count": 14,
   "id": "af010215-abad-436a-a366-b71508083f6a",
   "metadata": {
    "execution": {
     "iopub.execute_input": "2025-10-08T17:40:58.582000Z",
     "iopub.status.busy": "2025-10-08T17:40:58.582000Z",
     "iopub.status.idle": "2025-10-08T17:40:59.016000Z",
     "shell.execute_reply": "2025-10-08T17:40:59.015000Z"
    },
    "id": "af010215-abad-436a-a366-b71508083f6a"
   },
   "outputs": [
    {
     "data": {
      "text/plain": [
       "2×2 Matrix{Int64}:\n",
       " 1  2\n",
       " 3  4"
      ]
     },
     "execution_count": 14,
     "metadata": {},
     "output_type": "execute_result"
    }
   ],
   "source": [
    "A"
   ]
  },
  {
   "cell_type": "code",
   "execution_count": 15,
   "id": "50a7344c-9950-475f-af55-23787c1e9deb",
   "metadata": {
    "execution": {
     "iopub.execute_input": "2025-10-08T17:40:59.018000Z",
     "iopub.status.busy": "2025-10-08T17:40:59.017000Z",
     "iopub.status.idle": "2025-10-08T17:40:59.329000Z",
     "shell.execute_reply": "2025-10-08T17:40:59.328000Z"
    },
    "id": "50a7344c-9950-475f-af55-23787c1e9deb"
   },
   "outputs": [
    {
     "data": {
      "text/plain": [
       "2×2 adjoint(::Matrix{Int64}) with eltype Int64:\n",
       " 1  3\n",
       " 2  4"
      ]
     },
     "execution_count": 15,
     "metadata": {},
     "output_type": "execute_result"
    }
   ],
   "source": [
    "A' # adjoint (~transpose)"
   ]
  },
  {
   "cell_type": "code",
   "execution_count": 16,
   "id": "973b1b2f-20b6-4dbe-8b42-2c7bcd265699",
   "metadata": {
    "execution": {
     "iopub.execute_input": "2025-10-08T17:40:59.330000Z",
     "iopub.status.busy": "2025-10-08T17:40:59.330000Z",
     "iopub.status.idle": "2025-10-08T17:41:00.034000Z",
     "shell.execute_reply": "2025-10-08T17:41:00.034000Z"
    },
    "id": "973b1b2f-20b6-4dbe-8b42-2c7bcd265699"
   },
   "outputs": [
    {
     "data": {
      "text/plain": [
       "2×2 Matrix{Int64}:\n",
       "  6   8\n",
       " 10  12"
      ]
     },
     "execution_count": 16,
     "metadata": {},
     "output_type": "execute_result"
    }
   ],
   "source": [
    "# matrix addition\n",
    "A + B"
   ]
  },
  {
   "cell_type": "code",
   "execution_count": 17,
   "id": "091ab9ca-e975-4ca7-8879-5b91d062a7bc",
   "metadata": {
    "execution": {
     "iopub.execute_input": "2025-10-08T17:41:00.036000Z",
     "iopub.status.busy": "2025-10-08T17:41:00.036000Z",
     "iopub.status.idle": "2025-10-08T17:41:00.557000Z",
     "shell.execute_reply": "2025-10-08T17:41:00.557000Z"
    },
    "id": "091ab9ca-e975-4ca7-8879-5b91d062a7bc"
   },
   "outputs": [
    {
     "data": {
      "text/plain": [
       "2-element Vector{Int64}:\n",
       "  5\n",
       " 11"
      ]
     },
     "execution_count": 17,
     "metadata": {},
     "output_type": "execute_result"
    }
   ],
   "source": [
    "# matrix multiplication\n",
    "A * v"
   ]
  },
  {
   "cell_type": "code",
   "execution_count": 18,
   "id": "042bee8e-b8bf-4fb0-931c-04442490d5ba",
   "metadata": {
    "execution": {
     "iopub.execute_input": "2025-10-08T17:41:00.559000Z",
     "iopub.status.busy": "2025-10-08T17:41:00.559000Z",
     "iopub.status.idle": "2025-10-08T17:41:00.559000Z",
     "shell.execute_reply": "2025-10-08T17:41:00.559000Z"
    },
    "id": "042bee8e-b8bf-4fb0-931c-04442490d5ba"
   },
   "outputs": [],
   "source": [
    "# try w A v"
   ]
  },
  {
   "cell_type": "code",
   "execution_count": 19,
   "id": "227e691f-db7b-4d68-9dea-4356ec6dd1ab",
   "metadata": {
    "execution": {
     "iopub.execute_input": "2025-10-08T17:41:00.560000Z",
     "iopub.status.busy": "2025-10-08T17:41:00.560000Z",
     "iopub.status.idle": "2025-10-08T17:41:01.108000Z",
     "shell.execute_reply": "2025-10-08T17:41:01.108000Z"
    },
    "id": "227e691f-db7b-4d68-9dea-4356ec6dd1ab"
   },
   "outputs": [
    {
     "data": {
      "text/plain": [
       "2×2 Matrix{Int64}:\n",
       "  7  10\n",
       " 15  22"
      ]
     },
     "execution_count": 19,
     "metadata": {},
     "output_type": "execute_result"
    }
   ],
   "source": [
    "A^2 # matrix power"
   ]
  },
  {
   "cell_type": "code",
   "execution_count": 20,
   "id": "a6f67621-7de7-4ab8-a278-ed4df37b3c78",
   "metadata": {
    "execution": {
     "iopub.execute_input": "2025-10-08T17:41:01.110000Z",
     "iopub.status.busy": "2025-10-08T17:41:01.110000Z",
     "iopub.status.idle": "2025-10-08T17:41:01.371000Z",
     "shell.execute_reply": "2025-10-08T17:41:01.371000Z"
    },
    "id": "a6f67621-7de7-4ab8-a278-ed4df37b3c78"
   },
   "outputs": [
    {
     "ename": "LoadError",
     "evalue": "DimensionMismatch: a has size (2, 2), mismatch at dim 2",
     "output_type": "error",
     "traceback": [
      "DimensionMismatch: a has size (2, 2), mismatch at dim 2",
      "",
      "Stacktrace:",
      " [1] \u001b[0m\u001b[1mthrow_promote_shape_mismatch\u001b[22m\u001b[0m\u001b[1m(\u001b[22m\u001b[90ma\u001b[39m::\u001b[0mTuple\u001b[90m{Base.OneTo{Int64}, Base.OneTo{Int64}}\u001b[39m, \u001b[90mb\u001b[39m::\u001b[0mNothing, \u001b[90mi\u001b[39m::\u001b[0mInt64\u001b[0m\u001b[1m)\u001b[22m",
      "\u001b[90m   @\u001b[39m \u001b[90mBase\u001b[39m \u001b[90m./\u001b[39m\u001b[90m\u001b[4mindices.jl:135\u001b[24m\u001b[39m",
      " [2] \u001b[0m\u001b[1mpromote_shape\u001b[22m",
      "\u001b[90m   @\u001b[39m \u001b[90m./\u001b[39m\u001b[90m\u001b[4mindices.jl:199\u001b[24m\u001b[39m\u001b[90m [inlined]\u001b[39m",
      " [3] \u001b[0m\u001b[1mpromote_shape\u001b[22m",
      "\u001b[90m   @\u001b[39m \u001b[90m./\u001b[39m\u001b[90m\u001b[4mindices.jl:188\u001b[24m\u001b[39m\u001b[90m [inlined]\u001b[39m",
      " [4] \u001b[0m\u001b[1m+\u001b[22m\u001b[0m\u001b[1m(\u001b[22m\u001b[90mA\u001b[39m::\u001b[0mMatrix\u001b[90m{Int64}\u001b[39m, \u001b[90mBs\u001b[39m::\u001b[0mVector\u001b[90m{Int64}\u001b[39m\u001b[0m\u001b[1m)\u001b[22m",
      "\u001b[90m   @\u001b[39m \u001b[90mBase\u001b[39m \u001b[90m./\u001b[39m\u001b[90m\u001b[4marraymath.jl:14\u001b[24m\u001b[39m",
      " [5] top-level scope",
      "\u001b[90m   @\u001b[39m \u001b[90m\u001b[4mIn[20]:4\u001b[24m\u001b[39m"
     ]
    }
   ],
   "source": [
    "# if we want to add v to each column, this doesn't work, use .+ instead\n",
    "# \".\" is special broadcasting syntax\n",
    "\n",
    "A + v"
   ]
  },
  {
   "cell_type": "code",
   "execution_count": 21,
   "id": "ce8b3d2e-7d74-4d09-a94e-792a891ea12e",
   "metadata": {
    "execution": {
     "iopub.execute_input": "2025-10-08T17:41:01.373000Z",
     "iopub.status.busy": "2025-10-08T17:41:01.373000Z",
     "iopub.status.idle": "2025-10-08T17:41:01.373000Z",
     "shell.execute_reply": "2025-10-08T17:41:01.373000Z"
    },
    "id": "ce8b3d2e-7d74-4d09-a94e-792a891ea12e"
   },
   "outputs": [],
   "source": [
    "# try adding w to each row"
   ]
  },
  {
   "cell_type": "code",
   "execution_count": 22,
   "id": "3473b1cf-aeba-46b4-9f0b-bee7c9eeecaa",
   "metadata": {
    "execution": {
     "iopub.execute_input": "2025-10-08T17:41:01.374000Z",
     "iopub.status.busy": "2025-10-08T17:41:01.374000Z",
     "iopub.status.idle": "2025-10-08T17:41:01.779000Z",
     "shell.execute_reply": "2025-10-08T17:41:01.779000Z"
    },
    "id": "3473b1cf-aeba-46b4-9f0b-bee7c9eeecaa"
   },
   "outputs": [
    {
     "data": {
      "text/plain": [
       "2×2 Matrix{Float64}:\n",
       " 0.841471   0.909297\n",
       " 0.14112   -0.756802"
      ]
     },
     "execution_count": 22,
     "metadata": {},
     "output_type": "execute_result"
    }
   ],
   "source": [
    "# apply any function element-wise\n",
    "sin.(A)"
   ]
  },
  {
   "cell_type": "code",
   "execution_count": 23,
   "id": "eae0b02a-10a1-4880-8e0f-99e1f8c7ec8d",
   "metadata": {
    "execution": {
     "iopub.execute_input": "2025-10-08T17:41:01.781000Z",
     "iopub.status.busy": "2025-10-08T17:41:01.781000Z",
     "iopub.status.idle": "2025-10-08T17:41:01.929000Z",
     "shell.execute_reply": "2025-10-08T17:41:01.929000Z"
    },
    "id": "eae0b02a-10a1-4880-8e0f-99e1f8c7ec8d"
   },
   "outputs": [
    {
     "data": {
      "text/plain": [
       "2×2 Matrix{Float64}:\n",
       " 2.14112  2.2432\n",
       " 5.14112  5.2432"
      ]
     },
     "execution_count": 23,
     "metadata": {},
     "output_type": "execute_result"
    }
   ],
   "source": [
    "# the @. macro broadcasts every operation\n",
    "@. sin(w) + A + v"
   ]
  },
  {
   "cell_type": "code",
   "execution_count": 24,
   "id": "4431f5d6-a40b-44eb-a602-34e4878c574c",
   "metadata": {
    "execution": {
     "iopub.execute_input": "2025-10-08T17:41:01.931000Z",
     "iopub.status.busy": "2025-10-08T17:41:01.931000Z",
     "iopub.status.idle": "2025-10-08T17:41:03.570000Z",
     "shell.execute_reply": "2025-10-08T17:41:03.570000Z"
    },
    "id": "4431f5d6-a40b-44eb-a602-34e4878c574c"
   },
   "outputs": [
    {
     "data": {
      "text/plain": [
       "Eigen{Float64, Float64, Matrix{Float64}, Vector{Float64}}\n",
       "values:\n",
       "2-element Vector{Float64}:\n",
       " -0.3722813232690143\n",
       "  5.372281323269014\n",
       "vectors:\n",
       "2×2 Matrix{Float64}:\n",
       " -0.824565  -0.415974\n",
       "  0.565767  -0.909377"
      ]
     },
     "execution_count": 24,
     "metadata": {},
     "output_type": "execute_result"
    }
   ],
   "source": [
    "eigen(A)"
   ]
  },
  {
   "cell_type": "code",
   "execution_count": 25,
   "id": "0b0984f5-6b17-497a-b453-37ef45f4e608",
   "metadata": {
    "execution": {
     "iopub.execute_input": "2025-10-08T17:41:03.572000Z",
     "iopub.status.busy": "2025-10-08T17:41:03.572000Z",
     "iopub.status.idle": "2025-10-08T17:41:04.728000Z",
     "shell.execute_reply": "2025-10-08T17:41:04.728000Z"
    },
    "id": "0b0984f5-6b17-497a-b453-37ef45f4e608"
   },
   "outputs": [
    {
     "data": {
      "text/plain": [
       "2-element Vector{Float64}:\n",
       " 0.0\n",
       " 0.5"
      ]
     },
     "execution_count": 25,
     "metadata": {},
     "output_type": "execute_result"
    }
   ],
   "source": [
    "# compute A⁻¹ v\n",
    "x = A \\ v"
   ]
  },
  {
   "cell_type": "code",
   "execution_count": 26,
   "id": "b3a8f97c-35a4-413d-ad17-95b9f2f0f2bd",
   "metadata": {
    "execution": {
     "iopub.execute_input": "2025-10-08T17:41:04.730000Z",
     "iopub.status.busy": "2025-10-08T17:41:04.730000Z",
     "iopub.status.idle": "2025-10-08T17:41:04.894000Z",
     "shell.execute_reply": "2025-10-08T17:41:04.894000Z"
    },
    "id": "b3a8f97c-35a4-413d-ad17-95b9f2f0f2bd"
   },
   "outputs": [
    {
     "data": {
      "text/plain": [
       "2-element Vector{Float64}:\n",
       " 1.0\n",
       " 2.0"
      ]
     },
     "execution_count": 26,
     "metadata": {},
     "output_type": "execute_result"
    }
   ],
   "source": [
    "A * x"
   ]
  },
  {
   "cell_type": "markdown",
   "id": "4240bb56-92ca-4629-98e3-86baa39a5f68",
   "metadata": {
    "id": "4240bb56-92ca-4629-98e3-86baa39a5f68"
   },
   "source": [
    "## PythonPlot"
   ]
  },
  {
   "cell_type": "code",
   "execution_count": 27,
   "id": "88f668d5-a1bf-4d40-b0fa-1f92e37a4cc5",
   "metadata": {
    "execution": {
     "iopub.execute_input": "2025-10-08T17:41:04.896000Z",
     "iopub.status.busy": "2025-10-08T17:41:04.896000Z",
     "iopub.status.idle": "2025-10-08T17:41:05.076000Z",
     "shell.execute_reply": "2025-10-08T17:41:05.076000Z"
    },
    "id": "88f668d5-a1bf-4d40-b0fa-1f92e37a4cc5"
   },
   "outputs": [
    {
     "ename": "LoadError",
     "evalue": "ArgumentError: Package PythonPlot not found in current path.\n- Run `import Pkg; Pkg.add(\"PythonPlot\")` to install the PythonPlot package.",
     "output_type": "error",
     "traceback": [
      "ArgumentError: Package PythonPlot not found in current path.\n- Run `import Pkg; Pkg.add(\"PythonPlot\")` to install the PythonPlot package.",
      "",
      "Stacktrace:",
      " [1] \u001b[0m\u001b[1mmacro expansion\u001b[22m",
      "\u001b[90m   @\u001b[39m \u001b[90m./\u001b[39m\u001b[90m\u001b[4mloading.jl:2296\u001b[24m\u001b[39m\u001b[90m [inlined]\u001b[39m",
      " [2] \u001b[0m\u001b[1mmacro expansion\u001b[22m",
      "\u001b[90m   @\u001b[39m \u001b[90m./\u001b[39m\u001b[90m\u001b[4mlock.jl:273\u001b[24m\u001b[39m\u001b[90m [inlined]\u001b[39m",
      " [3] \u001b[0m\u001b[1m__require\u001b[22m\u001b[0m\u001b[1m(\u001b[22m\u001b[90minto\u001b[39m::\u001b[0mModule, \u001b[90mmod\u001b[39m::\u001b[0mSymbol\u001b[0m\u001b[1m)\u001b[22m",
      "\u001b[90m   @\u001b[39m \u001b[90mBase\u001b[39m \u001b[90m./\u001b[39m\u001b[90m\u001b[4mloading.jl:2271\u001b[24m\u001b[39m",
      " [4] \u001b[0m\u001b[1m#invoke_in_world#3\u001b[22m",
      "\u001b[90m   @\u001b[39m \u001b[90m./\u001b[39m\u001b[90m\u001b[4messentials.jl:1089\u001b[24m\u001b[39m\u001b[90m [inlined]\u001b[39m",
      " [5] \u001b[0m\u001b[1minvoke_in_world\u001b[22m",
      "\u001b[90m   @\u001b[39m \u001b[90m./\u001b[39m\u001b[90m\u001b[4messentials.jl:1086\u001b[24m\u001b[39m\u001b[90m [inlined]\u001b[39m",
      " [6] \u001b[0m\u001b[1mrequire\u001b[22m\u001b[0m\u001b[1m(\u001b[22m\u001b[90minto\u001b[39m::\u001b[0mModule, \u001b[90mmod\u001b[39m::\u001b[0mSymbol\u001b[0m\u001b[1m)\u001b[22m",
      "\u001b[90m   @\u001b[39m \u001b[90mBase\u001b[39m \u001b[90m./\u001b[39m\u001b[90m\u001b[4mloading.jl:2260\u001b[24m\u001b[39m"
     ]
    }
   ],
   "source": [
    "# I don't recommend doing this on Google colab\n",
    "\n",
    "#using Pkg\n",
    "#Pkg.add(\"PythonPlot\")\n",
    "using PythonPlot"
   ]
  },
  {
   "cell_type": "code",
   "execution_count": 28,
   "id": "46994609-ce9a-4a4b-a8fc-7dd0dfc2cda8",
   "metadata": {
    "execution": {
     "iopub.execute_input": "2025-10-08T17:41:05.077000Z",
     "iopub.status.busy": "2025-10-08T17:41:05.077000Z",
     "iopub.status.idle": "2025-10-08T17:41:05.317000Z",
     "shell.execute_reply": "2025-10-08T17:41:05.317000Z"
    },
    "id": "46994609-ce9a-4a4b-a8fc-7dd0dfc2cda8"
   },
   "outputs": [
    {
     "ename": "LoadError",
     "evalue": "UndefVarError: `figure` not defined in `Main`\nSuggestion: check for spelling errors or missing imports.",
     "output_type": "error",
     "traceback": [
      "UndefVarError: `figure` not defined in `Main`\nSuggestion: check for spelling errors or missing imports.",
      "",
      "Stacktrace:",
      " [1] top-level scope",
      "\u001b[90m   @\u001b[39m \u001b[90m\u001b[4mIn[28]:3\u001b[24m\u001b[39m"
     ]
    }
   ],
   "source": [
    "x = 1:0.01:10\n",
    "\n",
    "figure(figsize=(3,3))\n",
    "plot(x, sin.(x))\n",
    "xlabel(\"x\")\n",
    "ylabel(\"sin(x)\")"
   ]
  }
 ],
 "metadata": {
  "colab": {
   "provenance": []
  },
  "kernelspec": {
   "display_name": "Julia 1.11.0",
   "language": "julia",
   "name": "julia-1.11"
  },
  "language_info": {
   "file_extension": ".jl",
   "mimetype": "application/julia",
   "name": "julia",
   "version": "1.11.7"
  }
 },
 "nbformat": 4,
 "nbformat_minor": 5
}
